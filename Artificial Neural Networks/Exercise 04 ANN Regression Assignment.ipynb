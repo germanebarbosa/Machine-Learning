{
 "cells": [
  {
   "cell_type": "markdown",
   "id": "c3aac1f3-e0ab-4a46-9826-69ca6e338ecc",
   "metadata": {},
   "source": [
    "# Exercise 04 ANN for Regression - Assignment\n",
    "\n",
    "<span style=\"color:red\">**The submission deadline of this assignment is February 4, 2025 at 23:59.**</span>\n",
    "\n",
    "<span style=\"color:red\">**In addition to the executed Jupyter Notebook, please also submit the saved `.pth` file of the trained ANN on Learn.**</span>\n",
    "\n",
    "## Pedagogy\n",
    "\n",
    "This notebook contains both theoretical explanations and executable cells to execute your code.\n",
    "\n",
    "When you see the <span style=\"color:red\">**[TBC]**</span> (To Be Completed) sign, it means that you need to perform an action else besides executing the cells of code that already exist. These actions can be:\n",
    "- Complete the code with proper comments\n",
    "- Respond to a question\n",
    "- Write an analysis\n",
    "- etc.\n",
    "\n",
    "## Requirement\n",
    "\n",
    "In this assignment, you are required to build a regression model using ANN.\n",
    "\n",
    "The problem to be solved is predicting the price of houses in California.\n",
    "\n",
    "<span style=\"color:red\">**[TBC]**</span> Please complete the following tasks:\n",
    "- Build the data pipeline\n",
    "- Create a non-linear multi-layer ANN\n",
    "- Train the ANN\n",
    "- Save and load the trained model\n",
    "- Make predictions and evaluation"
   ]
  },
  {
   "cell_type": "markdown",
   "id": "0eb21d37-dff1-48e0-92c3-b58539252a7f",
   "metadata": {},
   "source": [
    "### Pre-configure\n",
    "\n",
    "- Import necessary libraries\n",
    "- Specify the computation device for PyTorch"
   ]
  },
  {
   "cell_type": "code",
   "execution_count": 22,
   "id": "41ab7646-9697-4109-bb28-efdf1d59afe8",
   "metadata": {},
   "outputs": [],
   "source": [
    "# import libraries\n",
    "import warnings\n",
    "\n",
    "import torch\n",
    "import numpy as np\n",
    "import pandas as pd\n",
    "import matplotlib.pyplot as plt\n",
    "\n",
    "from sklearn import datasets\n",
    "from sklearn.model_selection import train_test_split\n",
    "from sklearn.metrics import root_mean_squared_error, r2_score\n",
    "from sklearn.preprocessing import MinMaxScaler\n",
    "\n",
    "from torch import nn\n",
    "from torch.utils.data import TensorDataset, DataLoader"
   ]
  },
  {
   "cell_type": "code",
   "execution_count": 23,
   "id": "9d93b1c7",
   "metadata": {},
   "outputs": [
    {
     "name": "stdout",
     "output_type": "stream",
     "text": [
      "Using mps device\n"
     ]
    }
   ],
   "source": [
    "# get cpu, gpu or mps device for computation\n",
    "device = (\n",
    "    \"cuda\"\n",
    "    if torch.cuda.is_available()\n",
    "    else \"mps\"\n",
    "    if torch.backends.mps.is_available()\n",
    "    else \"cpu\"\n",
    ")\n",
    "print(f\"Using {device} device\")"
   ]
  },
  {
   "cell_type": "markdown",
   "id": "bd77e66d-e6b7-49bd-808a-711d10ee463d",
   "metadata": {},
   "source": [
    "## Task 1. Build the data pipeline\n",
    "\n",
    "<span style=\"color:red\">**[TBC]**</span> You need to:\n",
    "- Use `sklearn.datasets.fetch_california_housing()` to load California Housing dataset\n",
    "- Pre-process the dataset\n",
    "    - Scale numerical features with [min-max scaling](https://scikit-learn.org/stable/modules/generated/sklearn.preprocessing.MinMaxScaler.html)\n",
    "- Divide the dataset into the training and test set\n",
    "- Create `TensorDataset` instances to store the dataset\n",
    "- Create `DataLoader` instance to wrap the dataset as iterable objects\n",
    "    - Decide a proper batch size considering\n",
    "        - The available memory of your computer\n",
    "        - The desired number of batches in each epoch"
   ]
  },
  {
   "cell_type": "code",
   "execution_count": 24,
   "id": "299f1dff-757c-47be-8928-95aa30eac0d6",
   "metadata": {},
   "outputs": [],
   "source": [
    "# load diabetes dataset\n",
    "feature, label = datasets.fetch_california_housing(\n",
    "    return_X_y = True,\n",
    "    as_frame = False, # get data as numpy array\n",
    ")\n"
   ]
  },
  {
   "cell_type": "code",
   "execution_count": 25,
   "id": "4e950df1",
   "metadata": {},
   "outputs": [
    {
     "data": {
      "text/plain": [
       "array([[   8.3252    ,   41.        ,    6.98412698, ...,    2.55555556,\n",
       "          37.88      , -122.23      ],\n",
       "       [   8.3014    ,   21.        ,    6.23813708, ...,    2.10984183,\n",
       "          37.86      , -122.22      ],\n",
       "       [   7.2574    ,   52.        ,    8.28813559, ...,    2.80225989,\n",
       "          37.85      , -122.24      ],\n",
       "       ...,\n",
       "       [   1.7       ,   17.        ,    5.20554273, ...,    2.3256351 ,\n",
       "          39.43      , -121.22      ],\n",
       "       [   1.8672    ,   18.        ,    5.32951289, ...,    2.12320917,\n",
       "          39.43      , -121.32      ],\n",
       "       [   2.3886    ,   16.        ,    5.25471698, ...,    2.61698113,\n",
       "          39.37      , -121.24      ]])"
      ]
     },
     "execution_count": 25,
     "metadata": {},
     "output_type": "execute_result"
    }
   ],
   "source": [
    "feature"
   ]
  },
  {
   "cell_type": "code",
   "execution_count": 26,
   "id": "a9224075",
   "metadata": {},
   "outputs": [
    {
     "data": {
      "text/plain": [
       "array([4.526, 3.585, 3.521, ..., 0.923, 0.847, 0.894])"
      ]
     },
     "execution_count": 26,
     "metadata": {},
     "output_type": "execute_result"
    }
   ],
   "source": [
    "label"
   ]
  },
  {
   "cell_type": "code",
   "execution_count": 27,
   "id": "07204116",
   "metadata": {},
   "outputs": [],
   "source": [
    "scaler = MinMaxScaler()\n",
    "feature = scaler.fit_transform(feature)\n",
    "# label = scaler.fit_transform(label.reshape(-1, 1))"
   ]
  },
  {
   "cell_type": "code",
   "execution_count": 28,
   "id": "cfc4731f",
   "metadata": {},
   "outputs": [],
   "source": [
    "# train test split\n",
    "train_feature, test_feature, train_label, test_label = train_test_split(\n",
    "    feature,\n",
    "    label,\n",
    "    train_size = 0.7,\n",
    "    shuffle = True,\n",
    "    random_state = 0\n",
    ")"
   ]
  },
  {
   "cell_type": "code",
   "execution_count": 29,
   "id": "6c5f5b28",
   "metadata": {},
   "outputs": [],
   "source": [
    "# create the train and test dataset\n",
    "# specify the type of data stored in the tensors to avoid incompatiblity\n",
    "train_ds = TensorDataset(\n",
    "    torch.tensor(train_feature, dtype = torch.float32),\n",
    "    torch.tensor(train_label, dtype = torch.float32)\n",
    ")\n",
    "test_ds = TensorDataset(\n",
    "    torch.tensor(test_feature, dtype = torch.float32),\n",
    "    torch.tensor(test_label, dtype = torch.float32)\n",
    ")"
   ]
  },
  {
   "cell_type": "code",
   "execution_count": 30,
   "id": "a4ce21a7",
   "metadata": {},
   "outputs": [],
   "source": [
    "# create the train and test data loaders ### PLAY WITH BATCH SIZE ###\n",
    "batch_size = 64 # usually set to 2 to the nth power, recomendation to choose as big as possible\n",
    "train_dl = DataLoader(train_ds, batch_size = batch_size, shuffle = True)\n",
    "test_dl = DataLoader(test_ds, batch_size = batch_size, shuffle = False)\n",
    "# shuffle = True means the data is reshuffled at every epoch\n",
    "# recommend to reshuffle training data\n",
    "# don't reshuffle test data since test data will be fed to network only once\n",
    "# we may also need to keep the order of test samples in the test set"
   ]
  },
  {
   "cell_type": "code",
   "execution_count": 31,
   "id": "a6041e7f",
   "metadata": {},
   "outputs": [
    {
     "name": "stdout",
     "output_type": "stream",
     "text": [
      "torch.Size([64, 8])\n",
      "torch.Size([64])\n"
     ]
    }
   ],
   "source": [
    "# get a minibatch from the data loader and print shape of feature and label\n",
    "for (X, y) in train_dl:\n",
    "    print(X.shape)\n",
    "    print(y.shape)\n",
    "    break"
   ]
  },
  {
   "cell_type": "markdown",
   "id": "29d54728-ac94-49f3-a93f-6df997efb9af",
   "metadata": {},
   "source": [
    "## Task 2. Create a non-linear multi-layer ANN\n",
    "\n",
    "<span style=\"color:red\">**[TBC]**</span> You need to:\n",
    "- Create a custom class to define the structure of the network\n",
    "- Initialize the ANN by creating an instance of this class"
   ]
  },
  {
   "cell_type": "code",
   "execution_count": 32,
   "id": "b4e21472-93c4-4b52-abbb-31f6f584e592",
   "metadata": {},
   "outputs": [],
   "source": [
    "# define a custom neural network class\n",
    "class NeuralNetwork(nn.Module):\n",
    "    def __init__(self, n_features, n_labels):\n",
    "        super().__init__()\n",
    "        self.net = nn.Sequential(\n",
    "            nn.Linear(n_features, 128),\n",
    "            nn.ReLU(),\n",
    "            nn.Linear(128, 64),\n",
    "            nn.ReLU(),\n",
    "            nn.Linear(64, 32),\n",
    "            nn.ReLU(),\n",
    "            nn.Linear(32, 16),\n",
    "            nn.ReLU(),\n",
    "            nn.Linear(16, 4),\n",
    "            nn.ReLU(),\n",
    "            nn.Linear(4, n_labels)\n",
    "        )\n",
    "    def forward(self, X):\n",
    "        return self.net(X)"
   ]
  },
  {
   "cell_type": "code",
   "execution_count": 33,
   "id": "5168d5e5",
   "metadata": {},
   "outputs": [
    {
     "data": {
      "text/plain": [
       "NeuralNetwork(\n",
       "  (net): Sequential(\n",
       "    (0): Linear(in_features=8, out_features=128, bias=True)\n",
       "    (1): ReLU()\n",
       "    (2): Linear(in_features=128, out_features=64, bias=True)\n",
       "    (3): ReLU()\n",
       "    (4): Linear(in_features=64, out_features=32, bias=True)\n",
       "    (5): ReLU()\n",
       "    (6): Linear(in_features=32, out_features=16, bias=True)\n",
       "    (7): ReLU()\n",
       "    (8): Linear(in_features=16, out_features=4, bias=True)\n",
       "    (9): ReLU()\n",
       "    (10): Linear(in_features=4, out_features=1, bias=True)\n",
       "  )\n",
       ")"
      ]
     },
     "execution_count": 33,
     "metadata": {},
     "output_type": "execute_result"
    }
   ],
   "source": [
    "# initialize the neural network\n",
    "model = NeuralNetwork(\n",
    "    n_features = feature.shape[1],\n",
    "    n_labels = 1\n",
    ")\n",
    "# move the model to the computation device\n",
    "model.to(device)"
   ]
  },
  {
   "cell_type": "code",
   "execution_count": 34,
   "id": "4abbf48c",
   "metadata": {},
   "outputs": [
    {
     "name": "stdout",
     "output_type": "stream",
     "text": [
      "Model structure:\n",
      "NeuralNetwork(\n",
      "  (net): Sequential(\n",
      "    (0): Linear(in_features=8, out_features=128, bias=True)\n",
      "    (1): ReLU()\n",
      "    (2): Linear(in_features=128, out_features=64, bias=True)\n",
      "    (3): ReLU()\n",
      "    (4): Linear(in_features=64, out_features=32, bias=True)\n",
      "    (5): ReLU()\n",
      "    (6): Linear(in_features=32, out_features=16, bias=True)\n",
      "    (7): ReLU()\n",
      "    (8): Linear(in_features=16, out_features=4, bias=True)\n",
      "    (9): ReLU()\n",
      "    (10): Linear(in_features=4, out_features=1, bias=True)\n",
      "  )\n",
      ")\n",
      "\n",
      "Layer: net.0.weight | Size: torch.Size([128, 8])\n",
      "Layer: net.0.bias | Size: torch.Size([128])\n",
      "Layer: net.2.weight | Size: torch.Size([64, 128])\n",
      "Layer: net.2.bias | Size: torch.Size([64])\n",
      "Layer: net.4.weight | Size: torch.Size([32, 64])\n",
      "Layer: net.4.bias | Size: torch.Size([32])\n",
      "Layer: net.6.weight | Size: torch.Size([16, 32])\n",
      "Layer: net.6.bias | Size: torch.Size([16])\n",
      "Layer: net.8.weight | Size: torch.Size([4, 16])\n",
      "Layer: net.8.bias | Size: torch.Size([4])\n",
      "Layer: net.10.weight | Size: torch.Size([1, 4])\n",
      "Layer: net.10.bias | Size: torch.Size([1])\n"
     ]
    }
   ],
   "source": [
    "# print network structure and learning parameters\n",
    "print(f\"Model structure:\\n{model}\\n\")\n",
    "for name, param in model.named_parameters():\n",
    "    print(f\"Layer: {name} | Size: {param.size()}\")"
   ]
  },
  {
   "cell_type": "markdown",
   "id": "3099e79b-bfeb-4053-b12e-39973d3c483d",
   "metadata": {},
   "source": [
    "## Task 3. Train the ANN\n",
    "\n",
    "<span style=\"color:red\">**[TBC]**</span> You need to:\n",
    "- Define a `train()` function\n",
    "- Specify training hyper-parameters:\n",
    "    - the loss function\n",
    "    - the optimizer\n",
    "    - the learning rate\n",
    "    - the number of epoches to train\n",
    "- Train the ANN\n",
    "    - Adjust the training hyper-parameters if necessary to get a good result\n",
    "- Plot the loss history of the training process"
   ]
  },
  {
   "cell_type": "code",
   "execution_count": 35,
   "id": "53de4eb6-cfca-4da0-a68d-51dd991d63bd",
   "metadata": {},
   "outputs": [],
   "source": [
    "# define the training function\n",
    "def train(dataloader, model, loss_fn, optimizer, epochs):\n",
    "    batch_loss_history = [] # for recording the average loss of a batch\n",
    "    epoch_loss_history = [] # for recording the average loss of an epoch\n",
    "    model.train() # set the model in training mode\n",
    "    for epoch in range(epochs): # iterate pre-defined number of epoches\n",
    "        epoch_loss = 0.0 # initial epoch loss is set to zero\n",
    "        for (X, y) in dataloader: # get a batch of training samples\n",
    "            X, y = X.to(device), y.to(device) # move data to the computation device\n",
    "            pred = model(X).squeeze() # make predictions, squeeze() reduce `pred` to 1D tensor\n",
    "            batch_loss = loss_fn(pred, y) # compute the current batch loss\n",
    "            batch_loss.backward() # compute gradients by backpropagation\n",
    "            optimizer.step() # update learning parameters according to gradients\n",
    "            optimizer.zero_grad() # reset the gradients to zero\n",
    "            batch_loss_history.append(batch_loss.item()) # record current batch loss\n",
    "            epoch_loss += batch_loss.item() # accumulate batch losses for compute epoch loss\n",
    "        epoch_loss /= len(dataloader) # compute current epoch loss\n",
    "        epoch_loss_history.append(epoch_loss) # record current epoch loss\n",
    "        print(f\"Epoch {epoch + 1}: train loss = {epoch_loss}\") # print log\n",
    "    return batch_loss_history, epoch_loss_history"
   ]
  },
  {
   "cell_type": "code",
   "execution_count": 36,
   "id": "0b89187b",
   "metadata": {},
   "outputs": [],
   "source": [
    "# define the training hyper-parameters #### PLAY WITH THESE PARAMETERS ####\n",
    "loss_fn = nn.MSELoss()\n",
    "learning_rate = 1e-2\n",
    "optimizer = torch.optim.SGD(model.parameters(), lr = learning_rate) # you should use the name of your network for the first argument\n",
    "epochs = 100"
   ]
  },
  {
   "cell_type": "code",
   "execution_count": 37,
   "id": "eedce9f8",
   "metadata": {},
   "outputs": [
    {
     "name": "stdout",
     "output_type": "stream",
     "text": [
      "Epoch 1: train loss = 1.5427637609232843\n",
      "Epoch 2: train loss = 1.3251987600748518\n",
      "Epoch 3: train loss = 1.318822146780723\n",
      "Epoch 4: train loss = 1.2993794917005352\n",
      "Epoch 5: train loss = 1.1461015195973152\n",
      "Epoch 6: train loss = 0.6190642875380221\n",
      "Epoch 7: train loss = 0.5440834897149981\n",
      "Epoch 8: train loss = 0.5411786123187141\n",
      "Epoch 9: train loss = 0.5286896852529155\n",
      "Epoch 10: train loss = 0.5085717221408819\n",
      "Epoch 11: train loss = 0.5053296806537999\n",
      "Epoch 12: train loss = 0.4960572352319692\n",
      "Epoch 13: train loss = 0.4939290304231433\n",
      "Epoch 14: train loss = 0.491323041375232\n",
      "Epoch 15: train loss = 0.49269242426462934\n",
      "Epoch 16: train loss = 0.4820910343422299\n",
      "Epoch 17: train loss = 0.48331662893822763\n",
      "Epoch 18: train loss = 0.4847735909629712\n",
      "Epoch 19: train loss = 0.48401443811908235\n",
      "Epoch 20: train loss = 0.4817904465362034\n",
      "Epoch 21: train loss = 0.4803964224009387\n",
      "Epoch 22: train loss = 0.4800216130978238\n",
      "Epoch 23: train loss = 0.47104284233224075\n",
      "Epoch 24: train loss = 0.47444125996754233\n",
      "Epoch 25: train loss = 0.47612212875248056\n",
      "Epoch 26: train loss = 0.47010107727441114\n",
      "Epoch 27: train loss = 0.4736993554814727\n",
      "Epoch 28: train loss = 0.4731400758687374\n",
      "Epoch 29: train loss = 0.46877072468004394\n",
      "Epoch 30: train loss = 0.46754672800281405\n",
      "Epoch 31: train loss = 0.47281309441391345\n",
      "Epoch 32: train loss = 0.4677475620951273\n",
      "Epoch 33: train loss = 0.46317430816392985\n",
      "Epoch 34: train loss = 0.4648719573706652\n",
      "Epoch 35: train loss = 0.468517739556532\n",
      "Epoch 36: train loss = 0.46311031941291503\n",
      "Epoch 37: train loss = 0.46236004996879965\n",
      "Epoch 38: train loss = 0.4671463907688065\n",
      "Epoch 39: train loss = 0.4613071126879844\n",
      "Epoch 40: train loss = 0.4588644174216068\n",
      "Epoch 41: train loss = 0.457984420446168\n",
      "Epoch 42: train loss = 0.4586517513457653\n",
      "Epoch 43: train loss = 0.4561229395655404\n",
      "Epoch 44: train loss = 0.45669123701817166\n",
      "Epoch 45: train loss = 0.45589600496851235\n",
      "Epoch 46: train loss = 0.45819739166614226\n",
      "Epoch 47: train loss = 0.4584762972936166\n",
      "Epoch 48: train loss = 0.4569234183404298\n",
      "Epoch 49: train loss = 0.4525348194009435\n",
      "Epoch 50: train loss = 0.45453783454356994\n",
      "Epoch 51: train loss = 0.45206477638103265\n",
      "Epoch 52: train loss = 0.4566868111754941\n",
      "Epoch 53: train loss = 0.45166556247040235\n",
      "Epoch 54: train loss = 0.452305742794961\n",
      "Epoch 55: train loss = 0.45047295548483335\n",
      "Epoch 56: train loss = 0.4503778277245243\n",
      "Epoch 57: train loss = 0.446252172038091\n",
      "Epoch 58: train loss = 0.4549297867095576\n",
      "Epoch 59: train loss = 0.4448556127933274\n",
      "Epoch 60: train loss = 0.4463925679436827\n",
      "Epoch 61: train loss = 0.45146235236815646\n",
      "Epoch 62: train loss = 0.4438691601420926\n",
      "Epoch 63: train loss = 0.44632156285564456\n",
      "Epoch 64: train loss = 0.4484532426680084\n",
      "Epoch 65: train loss = 0.44681598865880373\n",
      "Epoch 66: train loss = 0.44679215293278735\n",
      "Epoch 67: train loss = 0.44213100456822235\n",
      "Epoch 68: train loss = 0.44263967495840206\n",
      "Epoch 69: train loss = 0.440933388814462\n",
      "Epoch 70: train loss = 0.4354755474930316\n",
      "Epoch 71: train loss = 0.4419986904986137\n",
      "Epoch 72: train loss = 0.44098015920778294\n",
      "Epoch 73: train loss = 0.4497062571148957\n",
      "Epoch 74: train loss = 0.4376035150700966\n",
      "Epoch 75: train loss = 0.44149266829532857\n",
      "Epoch 76: train loss = 0.4405178004397755\n",
      "Epoch 77: train loss = 0.4415458021438227\n",
      "Epoch 78: train loss = 0.43825587821481504\n",
      "Epoch 79: train loss = 0.4402104043855076\n",
      "Epoch 80: train loss = 0.43871200902272117\n",
      "Epoch 81: train loss = 0.4335204010120535\n",
      "Epoch 82: train loss = 0.4350675367544183\n",
      "Epoch 83: train loss = 0.43380319749095797\n",
      "Epoch 84: train loss = 0.43594156799063216\n",
      "Epoch 85: train loss = 0.4304709422641096\n",
      "Epoch 86: train loss = 0.4288838484645945\n",
      "Epoch 87: train loss = 0.4333624179779956\n",
      "Epoch 88: train loss = 0.4289403503711245\n",
      "Epoch 89: train loss = 0.4272517708286775\n",
      "Epoch 90: train loss = 0.4293651238611314\n",
      "Epoch 91: train loss = 0.43157769686880365\n",
      "Epoch 92: train loss = 0.4284080879482548\n",
      "Epoch 93: train loss = 0.42731060779991403\n",
      "Epoch 94: train loss = 0.43163252701010324\n",
      "Epoch 95: train loss = 0.4251720283543114\n",
      "Epoch 96: train loss = 0.4268090482966035\n",
      "Epoch 97: train loss = 0.4238785297601624\n",
      "Epoch 98: train loss = 0.42467580043372855\n",
      "Epoch 99: train loss = 0.42536464148918085\n",
      "Epoch 100: train loss = 0.4325858766658116\n"
     ]
    }
   ],
   "source": [
    "# train the neural network\n",
    "batch_loss_history, epoch_loss_history = train(train_dl, model, loss_fn, optimizer, epochs)"
   ]
  },
  {
   "cell_type": "code",
   "execution_count": 38,
   "id": "4c7935f0",
   "metadata": {},
   "outputs": [
    {
     "data": {
      "image/png": "[encoded data removed]",
      "text/plain": [
       "<Figure size 640x480 with 1 Axes>"
      ]
     },
     "metadata": {},
     "output_type": "display_data"
    }
   ],
   "source": [
    "# plot the train loss history\n",
    "plt.figure()\n",
    "batch = np.arange(len(batch_loss_history))\n",
    "epoch = np.arange(len(epoch_loss_history))\n",
    "batches_per_epoch = (int(len(train_feature) / batch_size + 1))\n",
    "plt.plot(batch, batch_loss_history, '-', label = 'batch loss')\n",
    "plt.plot(epoch * batches_per_epoch, epoch_loss_history, '-', label = 'epoch loss')\n",
    "plt.title('train loss history')\n",
    "plt.xlabel('batch')\n",
    "plt.ylabel('train loss')\n",
    "plt.legend()\n",
    "plt.show()"
   ]
  },
  {
   "cell_type": "markdown",
   "id": "d71b1b2f-a2df-49ea-a44b-792b31a4642b",
   "metadata": {},
   "source": [
    "## Task 4. Save and load the trained model\n",
    "\n",
    "<span style=\"color:red\">**[TBC]**</span> You need to:\n",
    "- Save the trained model\n",
    "    - <span style=\"color:red\">**Don't forget to include the saved file in your submission.**</span>\n",
    "- Re-create the neural network and load the saved model"
   ]
  },
  {
   "cell_type": "code",
   "execution_count": 42,
   "id": "d59b07da-22b6-4cdb-9278-6a1fbe20544f",
   "metadata": {},
   "outputs": [
    {
     "name": "stdout",
     "output_type": "stream",
     "text": [
      "Saved PyTorch Model State to trained_model.pth\n"
     ]
    }
   ],
   "source": [
    "# save model\n",
    "file_name = 'trained_model.pth'\n",
    "torch.save(model.state_dict(), file_name)\n",
    "print('Saved PyTorch Model State to '+ file_name)"
   ]
  },
  {
   "cell_type": "code",
   "execution_count": 43,
   "id": "ceaf4c0d",
   "metadata": {},
   "outputs": [
    {
     "name": "stderr",
     "output_type": "stream",
     "text": [
      "/var/folders/12/4xknp3ds50l867z9m2bm4xpr0000gn/T/ipykernel_5750/1337914836.py:6: FutureWarning: You are using `torch.load` with `weights_only=False` (the current default value), which uses the default pickle module implicitly. It is possible to construct malicious pickle data which will execute arbitrary code during unpickling (See https://github.com/pytorch/pytorch/blob/main/SECURITY.md#untrusted-models for more details). In a future release, the default value for `weights_only` will be flipped to `True`. This limits the functions that could be executed during unpickling. Arbitrary objects will no longer be allowed to be loaded via this mode unless they are explicitly allowlisted by the user via `torch.serialization.add_safe_globals`. We recommend you start setting `weights_only=True` for any use case where you don't have full control of the loaded file. Please open an issue on GitHub for any issues related to this experimental feature.\n",
      "  model.load_state_dict(torch.load(file_name))\n"
     ]
    },
    {
     "data": {
      "text/plain": [
       "<All keys matched successfully>"
      ]
     },
     "execution_count": 43,
     "metadata": {},
     "output_type": "execute_result"
    }
   ],
   "source": [
    "# load model\n",
    "model = NeuralNetwork(\n",
    "    n_features = feature.shape[1],\n",
    "    n_labels = 1\n",
    ")\n",
    "model.load_state_dict(torch.load(file_name))"
   ]
  },
  {
   "cell_type": "code",
   "execution_count": 44,
   "id": "f40483c0",
   "metadata": {},
   "outputs": [
    {
     "data": {
      "text/plain": [
       "NeuralNetwork(\n",
       "  (net): Sequential(\n",
       "    (0): Linear(in_features=8, out_features=128, bias=True)\n",
       "    (1): ReLU()\n",
       "    (2): Linear(in_features=128, out_features=64, bias=True)\n",
       "    (3): ReLU()\n",
       "    (4): Linear(in_features=64, out_features=32, bias=True)\n",
       "    (5): ReLU()\n",
       "    (6): Linear(in_features=32, out_features=16, bias=True)\n",
       "    (7): ReLU()\n",
       "    (8): Linear(in_features=16, out_features=4, bias=True)\n",
       "    (9): ReLU()\n",
       "    (10): Linear(in_features=4, out_features=1, bias=True)\n",
       "  )\n",
       ")"
      ]
     },
     "execution_count": 44,
     "metadata": {},
     "output_type": "execute_result"
    }
   ],
   "source": [
    "# move model to the computation device\n",
    "model.to(device)"
   ]
  },
  {
   "cell_type": "markdown",
   "id": "91827ed2-5354-46a5-b4e4-e50914a0dbf6",
   "metadata": {},
   "source": [
    "## Task 5. Make predictions and evaluation\n",
    "\n",
    "<span style=\"color:red\">**[TBC]**</span> You need to:\n",
    "- Define the `test()` function\n",
    "- Make predictions on the test dataset\n",
    "- Evaluate the performance\n",
    "    - Compute RMSE and print it\n",
    "    - Compute $R^2$ score and print it\n",
    "- Plot the predictions vs. target values"
   ]
  },
  {
   "cell_type": "code",
   "execution_count": 18,
   "id": "64485944-63a6-4414-aaf0-35428ef42d6f",
   "metadata": {},
   "outputs": [],
   "source": [
    "# define a function to make predictions on test dataset and evaluate the performance\n",
    "def test(dataloader, model, loss_fn):\n",
    "    batch_pred_list = [] # for recording batch predictions\n",
    "    model.eval() # set the model in evaluation mode\n",
    "    with torch.no_grad(): # disable automatic gradient computing\n",
    "        loss = 0.0 # set initial test loss to zero\n",
    "        for (X, y) in dataloader: # get a batch from test samples\n",
    "            X, y = X.to(device), y.to(device) # move data to the computation device\n",
    "            batch_pred = model(X).squeeze() # make predictions, squeeze() reduce `batch_pred` to 1D tensor\n",
    "            batch_loss = loss_fn(batch_pred, y) # compute current batch loss\n",
    "            loss += batch_loss.item() # accumulate batch losses for compute test loss\n",
    "            batch_pred_list.append(batch_pred.cpu().numpy()) # move the batch predictions back to CPU and record\n",
    "        loss /= len(dataloader) # compute test loss\n",
    "        pred = np.concatenate(batch_pred_list) # reform the predictions as a numpy 1D array\n",
    "        print(f\"test loss = {loss}\") # print log\n",
    "    return pred, loss"
   ]
  },
  {
   "cell_type": "code",
   "execution_count": 39,
   "id": "86c40cf3",
   "metadata": {},
   "outputs": [
    {
     "name": "stdout",
     "output_type": "stream",
     "text": [
      "test loss = 0.43349067021891013\n"
     ]
    }
   ],
   "source": [
    "# make prediction on test set and evaluate the performance\n",
    "test_pred, test_loss = test(test_dl, model, loss_fn)"
   ]
  },
  {
   "cell_type": "code",
   "execution_count": 40,
   "id": "78febd9d",
   "metadata": {},
   "outputs": [
    {
     "data": {
      "image/png": "[encoded data removed]",
      "text/plain": [
       "<Figure size 640x480 with 1 Axes>"
      ]
     },
     "metadata": {},
     "output_type": "display_data"
    }
   ],
   "source": [
    "# plot the prediction results of the test dataset\n",
    "plt.figure()\n",
    "plt.plot(test_label, test_pred, '.')\n",
    "plt.plot([min(test_label), max(test_label)], [min(test_label), max(test_label)], '-', label = '1:1 line')\n",
    "plt.xlabel('target value')\n",
    "plt.ylabel('predicted value')\n",
    "plt.legend()\n",
    "plt.show()"
   ]
  },
  {
   "cell_type": "code",
   "execution_count": 41,
   "id": "0fb6569f",
   "metadata": {},
   "outputs": [
    {
     "name": "stdout",
     "output_type": "stream",
     "text": [
      "RMSE = 0.6584661108542178\n",
      "R2 = 0.6748408161280388\n"
     ]
    }
   ],
   "source": [
    "# calculate the evaluation metrics of the test dataset\n",
    "print('RMSE =', root_mean_squared_error(test_label, test_pred))\n",
    "print('R2 =', r2_score(test_label, test_pred))"
   ]
  },
  {
   "cell_type": "markdown",
   "id": "a2c5b7d5",
   "metadata": {},
   "source": [
    "I tried by modifiyng many parameters and techniques to find the best combination, nevertheless I wasn't able to find something good, neither I understand that much what I was getting."
   ]
  }
 ],
 "metadata": {
  "kernelspec": {
   "display_name": ".venv",
   "language": "python",
   "name": "python3"
  },
  "language_info": {
   "codemirror_mode": {
    "name": "ipython",
    "version": 3
   },
   "file_extension": ".py",
   "mimetype": "text/x-python",
   "name": "python",
   "nbconvert_exporter": "python",
   "pygments_lexer": "ipython3",
   "version": "3.12.7"
  }
 },
 "nbformat": 4,
 "nbformat_minor": 5
}
