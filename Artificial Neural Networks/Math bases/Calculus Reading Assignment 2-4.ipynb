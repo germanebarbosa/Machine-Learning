{
 "cells": [
  {
   "cell_type": "markdown",
   "id": "fb1c337f",
   "metadata": {
    "origin_pos": 1
   },
   "source": [
    "# 2.4 Calculus\n",
    "\n",
    "For a long time, how to calculate \n",
    "the area of a circle remained a mystery.\n",
    "Then, in Ancient Greece, the mathematician Archimedes\n",
    "came up with the clever idea \n",
    "to inscribe a series of polygons \n",
    "with increasing numbers of vertices\n",
    "on the inside of a circle. \n",
    "For a polygon with $n$ vertices,\n",
    "we obtain $n$ triangles.\n",
    "The height of each triangle approaches the radius $r$ \n",
    "as we partition the circle more finely. \n",
    "At the same time, its base approaches $2 \\pi r/n$, \n",
    "since the ratio between arc and secant approaches 1 \n",
    "for a large number of vertices. \n",
    "Thus, the area of the polygon approaches\n",
    "$n \\cdot r \\cdot \\frac{1}{2} (2 \\pi r/n) = \\pi r^2$.\n",
    "\n",
    "![Finding the area of a circle as a limit procedure.](https://d2l.ai/_images/polygon-circle.svg)\n",
    "\n",
    "This limiting procedure is at the root of both \n",
    "*differential calculus* and *integral calculus*. \n",
    "The former can tell us how to increase\n",
    "or decrease a function's value by\n",
    "manipulating its arguments. \n",
    "This comes in handy for the *optimization problems*\n",
    "that we face in deep learning,\n",
    "where we repeatedly update our parameters \n",
    "in order to decrease the loss function.\n",
    "Optimization addresses how to fit our models to training data,\n",
    "and calculus is its key prerequisite.\n",
    "However, do not forget that our ultimate goal\n",
    "is to perform well on *previously unseen* data.\n",
    "That problem is called *generalization*\n",
    "and will be a key focus of other chapters.\n"
   ]
  },
  {
   "cell_type": "code",
   "execution_count": 1,
   "id": "5162883d",
   "metadata": {
    "origin_pos": 3,
    "tab": [
     "pytorch"
    ]
   },
   "outputs": [],
   "source": [
    "%matplotlib inline\n",
    "import numpy as np\n",
    "from matplotlib_inline import backend_inline"
   ]
  },
  {
   "cell_type": "markdown",
   "id": "8ad81b23",
   "metadata": {
    "origin_pos": 6
   },
   "source": [
    "## 2.4.1 Derivatives and Differentiation\n",
    "\n",
    "Put simply, a *derivative* is the rate of change\n",
    "in a function with respect to changes in its arguments.\n",
    "Derivatives can tell us how rapidly a loss function\n",
    "would increase or decrease were we \n",
    "to *increase* or *decrease* each parameter\n",
    "by an infinitesimally small amount.\n",
    "Formally, for functions $f: \\mathbb{R} \\rightarrow \\mathbb{R}$,\n",
    "that map from scalars to scalars,\n",
    "**the *derivative* of $f$ at a point $x$ is defined as**\n",
    "\n",
    "$$f'(x) = \\lim_{h \\rightarrow 0} \\frac{f(x+h) - f(x)}{h}.$$\n",
    "\n",
    "This term on the right hand side is called a *limit* \n",
    "and it tells us what happens \n",
    "to the value of an expression\n",
    "as a specified variable \n",
    "approaches a particular value.\n",
    "This limit tells us what \n",
    "the ratio between a perturbation $h$\n",
    "and the change in the function value \n",
    "$f(x + h) - f(x)$ converges to \n",
    "as we shrink its size to zero.\n",
    "\n",
    "When $f'(x)$ exists, $f$ is said \n",
    "to be *differentiable* at $x$;\n",
    "and when $f'(x)$ exists for all $x$\n",
    "on a set, e.g., the interval $[a,b]$, \n",
    "we say that $f$ is differentiable on this set.\n",
    "Not all functions are differentiable,\n",
    "including many that we wish to optimize,\n",
    "such as accuracy and the area under the\n",
    "receiving operating characteristic (AUC).\n",
    "However, because computing the derivative of the loss \n",
    "is a crucial step in nearly all \n",
    "algorithms for training deep neural networks,\n",
    "we often optimize a differentiable *surrogate* instead.\n",
    "\n",
    "\n",
    "We can interpret the derivative \n",
    "$f'(x)$\n",
    "as the *instantaneous* rate of change \n",
    "of $f(x)$ with respect to $x$.\n",
    "Let's develop some intuition with an example.\n",
    "**Define $u = f(x) = 3x^2-4x$.**\n"
   ]
  },
  {
   "cell_type": "code",
   "execution_count": 2,
   "id": "e351acdb",
   "metadata": {
    "origin_pos": 8,
    "tab": [
     "pytorch"
    ]
   },
   "outputs": [],
   "source": [
    "def f(x):\n",
    "    return 3 * x ** 2 - 4 * x"
   ]
  },
  {
   "cell_type": "markdown",
   "id": "50148144",
   "metadata": {
    "origin_pos": 11
   },
   "source": [
    "**Setting $x=1$, we see that $\\frac{f(x+h) - f(x)}{h}$** **approaches $2$\n",
    "as $h$ approaches $0$.**\n",
    "While this experiment lacks \n",
    "the rigor of a mathematical proof,\n",
    "we can quickly see that indeed $f'(1) = 2$.\n"
   ]
  },
  {
   "cell_type": "code",
   "execution_count": 3,
   "id": "7b5e7cf2",
   "metadata": {
    "origin_pos": 12,
    "tab": [
     "pytorch"
    ]
   },
   "outputs": [
    {
     "name": "stdout",
     "output_type": "stream",
     "text": [
      "h=0.10000, numerical limit=2.30000\n",
      "h=0.01000, numerical limit=2.03000\n",
      "h=0.00100, numerical limit=2.00300\n",
      "h=0.00010, numerical limit=2.00030\n",
      "h=0.00001, numerical limit=2.00003\n"
     ]
    }
   ],
   "source": [
    "for h in 10.0**np.arange(-1, -6, -1):\n",
    "    print(f'h={h:.5f}, numerical limit={(f(1+h)-f(1))/h:.5f}')"
   ]
  },
  {
   "cell_type": "markdown",
   "id": "0be7fece",
   "metadata": {
    "origin_pos": 13
   },
   "source": [
    "There are several equivalent notational conventions for derivatives.\n",
    "Given $y = f(x)$, the following expressions are equivalent:\n",
    "\n",
    "$$f'(x) = y' = \\frac{dy}{dx} = \\frac{df}{dx} = \\frac{d}{dx} f(x) = Df(x) = D_x f(x),$$\n",
    "\n",
    "where the symbols $\\frac{d}{dx}$ and $D$ are *differentiation operators*.\n",
    "Below, we present the derivatives of some common functions:\n",
    "\n",
    "$$\\begin{aligned} \\frac{d}{dx} C & = 0 && \\textrm{for any constant $C$} \\\\ \\frac{d}{dx} x^n & = n x^{n-1} && \\textrm{for } n \\neq 0 \\\\ \\frac{d}{dx} e^x & = e^x \\\\ \\frac{d}{dx} \\ln x & = x^{-1}. \\end{aligned}$$\n",
    "\n",
    "Functions composed from differentiable functions \n",
    "are often themselves differentiable.\n",
    "The following rules come in handy \n",
    "for working with compositions \n",
    "of any differentiable functions \n",
    "$f$ and $g$, and constant $C$.\n",
    "\n",
    "$$\\begin{aligned} \\frac{d}{dx} [C f(x)] & = C \\frac{d}{dx} f(x) && \\textrm{Constant multiple rule} \\\\ \\frac{d}{dx} [f(x) + g(x)] & = \\frac{d}{dx} f(x) + \\frac{d}{dx} g(x) && \\textrm{Sum rule} \\\\ \\frac{d}{dx} [f(x) g(x)] & = f(x) \\frac{d}{dx} g(x) + g(x) \\frac{d}{dx} f(x) && \\textrm{Product rule} \\\\ \\frac{d}{dx} \\frac{f(x)}{g(x)} & = \\frac{g(x) \\frac{d}{dx} f(x) - f(x) \\frac{d}{dx} g(x)}{g^2(x)} && \\textrm{Quotient rule} \\end{aligned}$$\n",
    "\n",
    "Using this, we can apply the rules \n",
    "to find the derivative of $3 x^2 - 4x$ via\n",
    "\n",
    "$$\\frac{d}{dx} [3 x^2 - 4x] = 3 \\frac{d}{dx} x^2 - 4 \\frac{d}{dx} x = 6x - 4.$$\n",
    "\n",
    "Plugging in $x = 1$ shows that, indeed, \n",
    "the derivative equals $2$ at this location. \n",
    "Note that derivatives tell us \n",
    "the *slope* of a function \n",
    "at a particular location.  \n",
    "\n",
    "## 2.4.2 Visualization Utilities\n",
    "\n",
    "**We can visualize the slopes of functions using the `matplotlib` library**."
   ]
  },
  {
   "cell_type": "markdown",
   "id": "68b9ef55",
   "metadata": {
    "origin_pos": 21
   },
   "source": [
    "Let us **plot the function $u = f(x)$ and its tangent line $y = 2x - 3$ at $x=1$**,\n",
    "where the coefficient $2$ is the slope of the tangent line.\n"
   ]
  },
  {
   "cell_type": "code",
   "execution_count": 4,
   "id": "2689d701",
   "metadata": {},
   "outputs": [
    {
     "data": {
      "image/png": "[encoded data removed]",
      "text/plain": [
       "<Figure size 640x480 with 1 Axes>"
      ]
     },
     "metadata": {},
     "output_type": "display_data"
    }
   ],
   "source": [
    "import matplotlib.pyplot as plt\n",
    "x = np.arange(0, 3, 0.1)\n",
    "y = f(x)\n",
    "t = 2 * x - 3\n",
    "plt.figure()\n",
    "plt.plot(x, y, '-', label = 'f(x)')\n",
    "plt.plot(x, t, '.', label = 'Tangent line (x=1)')\n",
    "plt.legend()\n",
    "plt.xlabel('x')\n",
    "plt.ylabel('y')\n",
    "plt.show()"
   ]
  },
  {
   "cell_type": "markdown",
   "id": "ebd783d4",
   "metadata": {
    "origin_pos": 23
   },
   "source": [
    "## 2.4.3 Partial Derivatives and Gradients\n",
    "\n",
    "Thus far, we have been differentiating\n",
    "functions of just one variable.\n",
    "In deep learning, we also need to work\n",
    "with functions of *many* variables.\n",
    "We briefly introduce notions of the derivative\n",
    "that apply to such *multivariate* functions.\n",
    "\n",
    "\n",
    "Let $y = f(x_1, x_2, \\ldots, x_n)$ be a function with $n$ variables. \n",
    "The *partial derivative* of $y$ \n",
    "with respect to its $i^\\textrm{th}$ parameter $x_i$ is\n",
    "\n",
    "$$ \\frac{\\partial y}{\\partial x_i} = \\lim_{h \\rightarrow 0} \\frac{f(x_1, \\ldots, x_{i-1}, x_i+h, x_{i+1}, \\ldots, x_n) - f(x_1, \\ldots, x_i, \\ldots, x_n)}{h}.$$\n",
    "\n",
    "\n",
    "To calculate $\\frac{\\partial y}{\\partial x_i}$, \n",
    "we can treat $x_1, \\ldots, x_{i-1}, x_{i+1}, \\ldots, x_n$ as constants \n",
    "and calculate the derivative of $y$ with respect to $x_i$.\n",
    "The following notational conventions for partial derivatives \n",
    "are all common and all mean the same thing:\n",
    "\n",
    "$$\\frac{\\partial y}{\\partial x_i} = \\frac{\\partial f}{\\partial x_i} = \\partial_{x_i} f = \\partial_i f = f_{x_i} = f_i = D_i f = D_{x_i} f.$$\n",
    "\n",
    "We can concatenate partial derivatives \n",
    "of a multivariate function \n",
    "with respect to all its variables \n",
    "to obtain a vector that is called\n",
    "the *gradient* of the function.\n",
    "Suppose that the input of function \n",
    "$f: \\mathbb{R}^n \\rightarrow \\mathbb{R}$ \n",
    "is an $n$-dimensional vector \n",
    "$\\mathbf{x} = [x_1, x_2, \\ldots, x_n]^\\top$ \n",
    "and the output is a scalar. \n",
    "The gradient of the function $f$ \n",
    "with respect to $\\mathbf{x}$ \n",
    "is a vector of $n$ partial derivatives:\n",
    "\n",
    "$$\\nabla_{\\mathbf{x}} f(\\mathbf{x}) = \\left[\\partial_{x_1} f(\\mathbf{x}), \\partial_{x_2} f(\\mathbf{x}), \\ldots\n",
    "\\partial_{x_n} f(\\mathbf{x})\\right]^\\top.$$ \n",
    "\n",
    "When there is no ambiguity,\n",
    "$\\nabla_{\\mathbf{x}} f(\\mathbf{x})$ \n",
    "is typically replaced \n",
    "by $\\nabla f(\\mathbf{x})$.\n",
    "The following rules come in handy \n",
    "for differentiating multivariate functions:\n",
    "\n",
    "* For all $\\mathbf{A} \\in \\mathbb{R}^{m \\times n}$ we have $\\nabla_{\\mathbf{x}} \\mathbf{A} \\mathbf{x} = \\mathbf{A}^\\top$ and $\\nabla_{\\mathbf{x}} \\mathbf{x}^\\top \\mathbf{A}  = \\mathbf{A}$.\n",
    "* For square matrices $\\mathbf{A} \\in \\mathbb{R}^{n \\times n}$ we have that $\\nabla_{\\mathbf{x}} \\mathbf{x}^\\top \\mathbf{A} \\mathbf{x}  = (\\mathbf{A} + \\mathbf{A}^\\top)\\mathbf{x}$ and in particular\n",
    "$\\nabla_{\\mathbf{x}} \\|\\mathbf{x} \\|^2 = \\nabla_{\\mathbf{x}} \\mathbf{x}^\\top \\mathbf{x} = 2\\mathbf{x}$.\n",
    "\n",
    "Similarly, for any matrix $\\mathbf{X}$, \n",
    "we have $\\nabla_{\\mathbf{X}} \\|\\mathbf{X} \\|_\\textrm{F}^2 = 2\\mathbf{X}$. \n",
    "\n",
    "\n",
    "\n",
    "## 2.4.4 Chain Rule\n",
    "\n",
    "In deep learning, the gradients of concern\n",
    "are often difficult to calculate\n",
    "because we are working with \n",
    "deeply nested functions \n",
    "(of functions (of functions...)).\n",
    "Fortunately, the *chain rule* takes care of this. \n",
    "Returning to functions of a single variable,\n",
    "suppose that $y = f(g(x))$\n",
    "and that the underlying functions \n",
    "$y=f(u)$ and $u=g(x)$ \n",
    "are both differentiable.\n",
    "The chain rule states that \n",
    "\n",
    "\n",
    "$$\\frac{dy}{dx} = \\frac{dy}{du} \\frac{du}{dx}.$$\n",
    "\n",
    "\n",
    "\n",
    "Turning back to multivariate functions,\n",
    "suppose that $y = f(\\mathbf{u})$ has variables\n",
    "$u_1, u_2, \\ldots, u_m$, \n",
    "where each $u_i = g_i(\\mathbf{x})$ \n",
    "has variables $x_1, x_2, \\ldots, x_n$,\n",
    "i.e.,  $\\mathbf{u} = g(\\mathbf{x})$.\n",
    "Then the chain rule states that\n",
    "\n",
    "$$\\frac{\\partial y}{\\partial x_{i}} = \\frac{\\partial y}{\\partial u_{1}} \\frac{\\partial u_{1}}{\\partial x_{i}} + \\frac{\\partial y}{\\partial u_{2}} \\frac{\\partial u_{2}}{\\partial x_{i}} + \\ldots + \\frac{\\partial y}{\\partial u_{m}} \\frac{\\partial u_{m}}{\\partial x_{i}} \\ \\textrm{ and so } \\ \\nabla_{\\mathbf{x}} y =  \\mathbf{A} \\nabla_{\\mathbf{u}} y,$$\n",
    "\n",
    "where $\\mathbf{A} \\in \\mathbb{R}^{n \\times m}$ is a *matrix*\n",
    "that contains the derivative of vector $\\mathbf{u}$\n",
    "with respect to vector $\\mathbf{x}$.\n",
    "Thus, evaluating the gradient requires \n",
    "computing a vector--matrix product. \n",
    "This is one of the key reasons why linear algebra \n",
    "is such an integral building block \n",
    "in building deep learning systems. "
   ]
  }
 ],
 "metadata": {
  "kernelspec": {
   "display_name": ".venv",
   "language": "python",
   "name": "python3"
  },
  "language_info": {
   "codemirror_mode": {
    "name": "ipython",
    "version": 3
   },
   "file_extension": ".py",
   "mimetype": "text/x-python",
   "name": "python",
   "nbconvert_exporter": "python",
   "pygments_lexer": "ipython3",
   "version": "3.12.7"
  },
  "required_libs": []
 },
 "nbformat": 4,
 "nbformat_minor": 5
}
