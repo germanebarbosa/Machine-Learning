{
 "cells": [
  {
   "cell_type": "markdown",
   "metadata": {},
   "source": [
    "# Exercise 08 RNN & NLP - Instruction"
   ]
  },
  {
   "cell_type": "markdown",
   "metadata": {},
   "source": [
    "## Pedagogy\n",
    "\n",
    "This notebook serves as an instruction for implementing RNNs using PyTorch for NLP tasks.\n",
    "\n",
    "Please use this notebook as a reference and guide to complete the assignment."
   ]
  },
  {
   "cell_type": "markdown",
   "metadata": {},
   "source": [
    "### Pre-configure\n",
    "\n",
    "In this notebook, we will use the following new libraries:\n",
    "- `nltk`: the Natural Language Toolkit that provides most of the basic tools you need for NLP\n",
    "\n",
    "Please install the new libraries before using them."
   ]
  },
  {
   "cell_type": "code",
   "execution_count": 1,
   "metadata": {},
   "outputs": [
    {
     "name": "stdout",
     "output_type": "stream",
     "text": [
      "Requirement already satisfied: nltk in /Users/germanesteban/Library/Mobile Documents/com~apple~CloudDocs/Documents/Master Data Analitics/Machine Learning/.venv/lib/python3.12/site-packages (3.9.1)\n",
      "Requirement already satisfied: click in /Users/germanesteban/Library/Mobile Documents/com~apple~CloudDocs/Documents/Master Data Analitics/Machine Learning/.venv/lib/python3.12/site-packages (from nltk) (8.1.8)\n",
      "Requirement already satisfied: joblib in /Users/germanesteban/Library/Mobile Documents/com~apple~CloudDocs/Documents/Master Data Analitics/Machine Learning/.venv/lib/python3.12/site-packages (from nltk) (1.4.2)\n",
      "Requirement already satisfied: regex>=2021.8.3 in /Users/germanesteban/Library/Mobile Documents/com~apple~CloudDocs/Documents/Master Data Analitics/Machine Learning/.venv/lib/python3.12/site-packages (from nltk) (2024.11.6)\n",
      "Requirement already satisfied: tqdm in /Users/germanesteban/Library/Mobile Documents/com~apple~CloudDocs/Documents/Master Data Analitics/Machine Learning/.venv/lib/python3.12/site-packages (from nltk) (4.67.1)\n"
     ]
    }
   ],
   "source": [
    "!pip install nltk"
   ]
  },
  {
   "cell_type": "code",
   "execution_count": 2,
   "metadata": {
    "id": "pgGythbg82Pj"
   },
   "outputs": [],
   "source": [
    "# import libraries\n",
    "import os\n",
    "import warnings\n",
    "import datetime\n",
    "\n",
    "\n",
    "import numpy as np\n",
    "import pandas as pd\n",
    "import matplotlib.pyplot as plt\n",
    "\n",
    "from tqdm import tqdm\n",
    "from sklearn.metrics import classification_report\n",
    "\n",
    "import torch\n",
    "from torch import nn\n",
    "from torch.utils.data import Dataset, DataLoader\n",
    "from torch.utils.data.dataset import random_split\n",
    "\n",
    "# for padding a list of variable length tensors to equal length\n",
    "from torch.nn.utils.rnn import pad_sequence\n",
    "# for packing a tensor containing padded sequences of variable length\n",
    "from torch.nn.utils.rnn import pack_padded_sequence\n",
    "\n",
    "import nltk\n",
    "# for removing stop words like 'the', 'and', etc\n",
    "# stop words don't provide useful information\n",
    "from nltk.corpus import stopwords\n",
    "# for tokenization\n",
    "from nltk.tokenize import word_tokenize\n",
    "\n",
    "# for counting the number of unique tokens\n",
    "from collections import Counter"
   ]
  },
  {
   "cell_type": "code",
   "execution_count": 3,
   "metadata": {
    "id": "MP_xAP-f8pRL"
   },
   "outputs": [],
   "source": [
    "# suppress all warnings\n",
    "warnings.filterwarnings(\"ignore\")"
   ]
  },
  {
   "cell_type": "code",
   "execution_count": 4,
   "metadata": {
    "colab": {
     "base_uri": "https://localhost:8080/"
    },
    "id": "fDEQnYfG8-1M",
    "outputId": "0e0af0e2-6117-45f4-aaec-31a2c2819193"
   },
   "outputs": [
    {
     "name": "stdout",
     "output_type": "stream",
     "text": [
      "Using mps device\n"
     ]
    }
   ],
   "source": [
    "# get cpu, gpu or mps device for computation\n",
    "device = (\n",
    "    \"cuda\"\n",
    "    if torch.cuda.is_available()\n",
    "    else \"mps\"\n",
    "    if torch.backends.mps.is_available()\n",
    "    else \"cpu\"\n",
    ")\n",
    "print(f\"Using {device} device\")"
   ]
  },
  {
   "cell_type": "markdown",
   "metadata": {},
   "source": [
    "## Instruction\n",
    "\n",
    "In this notebook, we will build a text classification model using RNN, more specifically, LSTM.\n",
    "\n",
    "The problem to be solved is to classify different news into one of the 4 pre-defined classes:\n",
    "\n",
    "|Class|Example news|\n",
    "|-|-|\n",
    "|World|France marks the 'other D-Day' Two days of celebrations to honour the Allied veterans who liberated southern France near a climax...|\n",
    "|Sports|Galaxy, Crew Play to 0-0 Tie (AP) AP - Kevin Hartman made seven saves for Los Angeles, and Jon Busch had two saves for Columbus as the Galaxy and Crew played to a 0-0 tie Saturday night...|\n",
    "|Business|Wall St. Bears Claw Back Into the Black (Reuters) Reuters - Short-sellers, Wall Street's dwindling\\band of ultra-cynics, are seeing green again...|\n",
    "|Sci/Tech|Apple to open second Japanese retail store this month (MacCentral) MacCentral - Apple Computer Inc. will open its second Japanese retail store later this month in the western Japanese city of Osaka, it said Thursday...|"
   ]
  },
  {
   "cell_type": "code",
   "execution_count": 5,
   "metadata": {},
   "outputs": [],
   "source": [
    "classes = ['World', 'Sports', 'Business', 'Sci/Tec']"
   ]
  },
  {
   "cell_type": "markdown",
   "metadata": {},
   "source": [
    "### Step 1. Build the data pipeline\n",
    "\n",
    "We will use the [AG News Dataset](http://groups.di.unipi.it/~gulli/AG_corpus_of_news_articles.html) which is a collection of news articles.\n",
    "\n",
    "Each news article is classified into one of the 4 pre-defined classes: world, sports, business, and sci/tech.\n",
    "\n",
    "In this step, we need to:\n",
    "- Load the dataset from the `ag_news_dataset.csv` file\n",
    "- Pre-process the text\n",
    "    - Tokenization\n",
    "    - Remove stop words (like 'and', 'the') that don't provide useful information\n",
    "    - Remove non-alphabetic tokens (optional)\n",
    "- Create the vocabulary\n",
    "- Encode the tokens\n",
    "- Create the Dataset and the Dataloader\n",
    "    - Pad the tensors with variable lengths to equal length"
   ]
  },
  {
   "cell_type": "markdown",
   "metadata": {},
   "source": [
    "#### Step 1.1 Load the dataset\n",
    "\n",
    "You can download the `ag_news_dataset.csv` file from the Learn platform.\n",
    "\n",
    "If you are using Google Colab, you need to upload this file to Colab manually."
   ]
  },
  {
   "cell_type": "code",
   "execution_count": 6,
   "metadata": {},
   "outputs": [
    {
     "data": {
      "text/html": [
       "<div>\n",
       "<style scoped>\n",
       "    .dataframe tbody tr th:only-of-type {\n",
       "        vertical-align: middle;\n",
       "    }\n",
       "\n",
       "    .dataframe tbody tr th {\n",
       "        vertical-align: top;\n",
       "    }\n",
       "\n",
       "    .dataframe thead th {\n",
       "        text-align: right;\n",
       "    }\n",
       "</style>\n",
       "<table border=\"1\" class=\"dataframe\">\n",
       "  <thead>\n",
       "    <tr style=\"text-align: right;\">\n",
       "      <th></th>\n",
       "      <th>text</th>\n",
       "      <th>label</th>\n",
       "    </tr>\n",
       "  </thead>\n",
       "  <tbody>\n",
       "    <tr>\n",
       "      <th>0</th>\n",
       "      <td>Wall St. Bears Claw Back Into the Black (Reute...</td>\n",
       "      <td>2</td>\n",
       "    </tr>\n",
       "    <tr>\n",
       "      <th>1</th>\n",
       "      <td>Carlyle Looks Toward Commercial Aerospace (Reu...</td>\n",
       "      <td>2</td>\n",
       "    </tr>\n",
       "    <tr>\n",
       "      <th>2</th>\n",
       "      <td>Oil and Economy Cloud Stocks' Outlook (Reuters...</td>\n",
       "      <td>2</td>\n",
       "    </tr>\n",
       "    <tr>\n",
       "      <th>3</th>\n",
       "      <td>Iraq Halts Oil Exports from Main Southern Pipe...</td>\n",
       "      <td>2</td>\n",
       "    </tr>\n",
       "    <tr>\n",
       "      <th>4</th>\n",
       "      <td>Oil prices soar to all-time record, posing new...</td>\n",
       "      <td>2</td>\n",
       "    </tr>\n",
       "  </tbody>\n",
       "</table>\n",
       "</div>"
      ],
      "text/plain": [
       "                                                text  label\n",
       "0  Wall St. Bears Claw Back Into the Black (Reute...      2\n",
       "1  Carlyle Looks Toward Commercial Aerospace (Reu...      2\n",
       "2  Oil and Economy Cloud Stocks' Outlook (Reuters...      2\n",
       "3  Iraq Halts Oil Exports from Main Southern Pipe...      2\n",
       "4  Oil prices soar to all-time record, posing new...      2"
      ]
     },
     "execution_count": 6,
     "metadata": {},
     "output_type": "execute_result"
    }
   ],
   "source": [
    "# load dataset\n",
    "df = pd.read_csv('ag_news_dataset.csv')\n",
    "df.head()"
   ]
  },
  {
   "cell_type": "markdown",
   "metadata": {},
   "source": [
    "#### Step 1.2 Pre-process the text\n",
    "\n",
    "- Tokenization\n",
    "- Remove stop words\n",
    "- Remove non-alphabetic tokens (optional)"
   ]
  },
  {
   "cell_type": "code",
   "execution_count": 7,
   "metadata": {
    "colab": {
     "base_uri": "https://localhost:8080/",
     "height": 306
    },
    "id": "wuhOvBc_9bv0",
    "outputId": "8490d426-60d6-438d-ef04-60d791e04ae5"
   },
   "outputs": [
    {
     "name": "stderr",
     "output_type": "stream",
     "text": [
      "[nltk_data] Downloading package punkt to\n",
      "[nltk_data]     /Users/germanesteban/nltk_data...\n",
      "[nltk_data]   Unzipping tokenizers/punkt.zip.\n",
      "[nltk_data] Downloading package stopwords to\n",
      "[nltk_data]     /Users/germanesteban/nltk_data...\n",
      "[nltk_data]   Unzipping corpora/stopwords.zip.\n",
      "[nltk_data] Downloading package punkt_tab to\n",
      "[nltk_data]     /Users/germanesteban/nltk_data...\n",
      "[nltk_data]   Unzipping tokenizers/punkt_tab.zip.\n"
     ]
    },
    {
     "data": {
      "text/html": [
       "<div>\n",
       "<style scoped>\n",
       "    .dataframe tbody tr th:only-of-type {\n",
       "        vertical-align: middle;\n",
       "    }\n",
       "\n",
       "    .dataframe tbody tr th {\n",
       "        vertical-align: top;\n",
       "    }\n",
       "\n",
       "    .dataframe thead th {\n",
       "        text-align: right;\n",
       "    }\n",
       "</style>\n",
       "<table border=\"1\" class=\"dataframe\">\n",
       "  <thead>\n",
       "    <tr style=\"text-align: right;\">\n",
       "      <th></th>\n",
       "      <th>text</th>\n",
       "      <th>label</th>\n",
       "      <th>tokens</th>\n",
       "    </tr>\n",
       "  </thead>\n",
       "  <tbody>\n",
       "    <tr>\n",
       "      <th>0</th>\n",
       "      <td>Wall St. Bears Claw Back Into the Black (Reute...</td>\n",
       "      <td>2</td>\n",
       "      <td>[wall, bears, claw, back, black, reuters, reut...</td>\n",
       "    </tr>\n",
       "    <tr>\n",
       "      <th>1</th>\n",
       "      <td>Carlyle Looks Toward Commercial Aerospace (Reu...</td>\n",
       "      <td>2</td>\n",
       "      <td>[carlyle, looks, toward, commercial, aerospace...</td>\n",
       "    </tr>\n",
       "    <tr>\n",
       "      <th>2</th>\n",
       "      <td>Oil and Economy Cloud Stocks' Outlook (Reuters...</td>\n",
       "      <td>2</td>\n",
       "      <td>[oil, economy, cloud, stocks, outlook, reuters...</td>\n",
       "    </tr>\n",
       "    <tr>\n",
       "      <th>3</th>\n",
       "      <td>Iraq Halts Oil Exports from Main Southern Pipe...</td>\n",
       "      <td>2</td>\n",
       "      <td>[iraq, halts, oil, exports, main, southern, pi...</td>\n",
       "    </tr>\n",
       "    <tr>\n",
       "      <th>4</th>\n",
       "      <td>Oil prices soar to all-time record, posing new...</td>\n",
       "      <td>2</td>\n",
       "      <td>[oil, prices, soar, record, posing, new, menac...</td>\n",
       "    </tr>\n",
       "  </tbody>\n",
       "</table>\n",
       "</div>"
      ],
      "text/plain": [
       "                                                text  label  \\\n",
       "0  Wall St. Bears Claw Back Into the Black (Reute...      2   \n",
       "1  Carlyle Looks Toward Commercial Aerospace (Reu...      2   \n",
       "2  Oil and Economy Cloud Stocks' Outlook (Reuters...      2   \n",
       "3  Iraq Halts Oil Exports from Main Southern Pipe...      2   \n",
       "4  Oil prices soar to all-time record, posing new...      2   \n",
       "\n",
       "                                              tokens  \n",
       "0  [wall, bears, claw, back, black, reuters, reut...  \n",
       "1  [carlyle, looks, toward, commercial, aerospace...  \n",
       "2  [oil, economy, cloud, stocks, outlook, reuters...  \n",
       "3  [iraq, halts, oil, exports, main, southern, pi...  \n",
       "4  [oil, prices, soar, record, posing, new, menac...  "
      ]
     },
     "execution_count": 7,
     "metadata": {},
     "output_type": "execute_result"
    }
   ],
   "source": [
    "# ensure NLTK resources are downloaded\n",
    "nltk.download('punkt')\n",
    "nltk.download('stopwords')\n",
    "nltk.download('punkt_tab')\n",
    "\n",
    "# set the stop words to the English mode\n",
    "stop_words = set(stopwords.words('english'))\n",
    "\n",
    "# define a function for pre-processing\n",
    "def preprocess_text(text):\n",
    "    # Tokenize\n",
    "    tokens = word_tokenize(text.lower())\n",
    "    # Remove stopwords and non-alphabetic tokens\n",
    "    tokens = [word for word in tokens if word.isalpha() and word not in stop_words]\n",
    "    return tokens\n",
    "\n",
    "# apply preprocessing to the 'text' column\n",
    "df['tokens'] = df['text'].apply(preprocess_text)\n",
    "\n",
    "# show the first five rows\n",
    "df.head()"
   ]
  },
  {
   "cell_type": "markdown",
   "metadata": {},
   "source": [
    "#### Step 1.3 Create the vocabulary\n",
    "\n",
    "We first count the frequency of all unique tokens in the dataset.\n",
    "\n",
    "Then we select 20,000 most common tokens and put them into the vocabulary.\n",
    "\n",
    "You can increase the vocabulary size by including more unique tokens.\n",
    "\n",
    "Simply adding all unique tokens to the vocabulary is not recommended because you lose control over the size of the vocabulary.\n",
    "\n",
    "We also add two special tokens to the vocabulary:\n",
    "- `<PAD>`:\n",
    "    - Represent the padding tokens added at the end of the original sequence\n",
    "    - It's common to pad sequences of different lengths to the same length.\n",
    "- `<UNK>`:\n",
    "    - Represent the unknown tokens\n",
    "    - It might be the less frequent token that is not included in the vocabulary\n",
    "    - Or the unknown token from the unseen data"
   ]
  },
  {
   "cell_type": "code",
   "execution_count": 8,
   "metadata": {
    "colab": {
     "base_uri": "https://localhost:8080/"
    },
    "id": "ipoMDiAz9pnJ",
    "outputId": "e9e4f710-cad2-41f4-a6cc-267986f51fbf"
   },
   "outputs": [
    {
     "name": "stdout",
     "output_type": "stream",
     "text": [
      "The number of unique tokens in the vocabulary: 61165\n",
      "The number of most common tokens preserved: 20000\n"
     ]
    }
   ],
   "source": [
    "# build vocabulary\n",
    "all_tokens = [token for tokens in df['tokens'] for token in tokens]\n",
    "token_counts = Counter(all_tokens)\n",
    "print('The number of unique tokens in the vocabulary:', len(token_counts))\n",
    "\n",
    "# keep the most common token\n",
    "vocab_size = 20000\n",
    "common_tokens = token_counts.most_common(vocab_size - 2)  # Reserve two spots for PAD and UNK tokens\n",
    "print('The number of most common tokens preserved:', vocab_size)\n",
    "\n",
    "# create token to index mapping\n",
    "token_to_idx = {token: idx+2 for idx, (token, _) in enumerate(common_tokens)}\n",
    "# '<PAD>' is used to represent padding tokens at the end of text\n",
    "token_to_idx['<PAD>'] = 0\n",
    "# '<UNK>' is used to represent unknown tokens that are not included in the vocabulary\n",
    "token_to_idx['<UNK>'] = 1\n",
    "\n",
    "# create index to token mapping\n",
    "idx_to_token = {idx: token for token, idx in token_to_idx.items()}"
   ]
  },
  {
   "cell_type": "markdown",
   "metadata": {},
   "source": [
    "#### Step 1.4 Encode the tokens\n",
    "\n",
    "- Convert a sequence of tokens to a sequence of numbers\n",
    "- Each unique token is assigned with a unique number"
   ]
  },
  {
   "cell_type": "code",
   "execution_count": 9,
   "metadata": {
    "colab": {
     "base_uri": "https://localhost:8080/",
     "height": 204
    },
    "id": "ZdepkdPb-et9",
    "outputId": "6c966318-9770-408c-af83-2cf49ad31ca8"
   },
   "outputs": [
    {
     "data": {
      "text/html": [
       "<div>\n",
       "<style scoped>\n",
       "    .dataframe tbody tr th:only-of-type {\n",
       "        vertical-align: middle;\n",
       "    }\n",
       "\n",
       "    .dataframe tbody tr th {\n",
       "        vertical-align: top;\n",
       "    }\n",
       "\n",
       "    .dataframe thead th {\n",
       "        text-align: right;\n",
       "    }\n",
       "</style>\n",
       "<table border=\"1\" class=\"dataframe\">\n",
       "  <thead>\n",
       "    <tr style=\"text-align: right;\">\n",
       "      <th></th>\n",
       "      <th>text</th>\n",
       "      <th>label</th>\n",
       "      <th>tokens</th>\n",
       "      <th>encoded_tokens</th>\n",
       "    </tr>\n",
       "  </thead>\n",
       "  <tbody>\n",
       "    <tr>\n",
       "      <th>0</th>\n",
       "      <td>Wall St. Bears Claw Back Into the Black (Reute...</td>\n",
       "      <td>2</td>\n",
       "      <td>[wall, bears, claw, back, black, reuters, reut...</td>\n",
       "      <td>[313, 1399, 13796, 52, 705, 4, 4, 313, 264, 36...</td>\n",
       "    </tr>\n",
       "    <tr>\n",
       "      <th>1</th>\n",
       "      <td>Carlyle Looks Toward Commercial Aerospace (Reu...</td>\n",
       "      <td>2</td>\n",
       "      <td>[carlyle, looks, toward, commercial, aerospace...</td>\n",
       "      <td>[14689, 908, 692, 1120, 3954, 4, 4, 759, 643, ...</td>\n",
       "    </tr>\n",
       "    <tr>\n",
       "      <th>2</th>\n",
       "      <td>Oil and Economy Cloud Stocks' Outlook (Reuters...</td>\n",
       "      <td>2</td>\n",
       "      <td>[oil, economy, cloud, stocks, outlook, reuters...</td>\n",
       "      <td>[17, 245, 4140, 84, 594, 4, 4, 2153, 335, 35, ...</td>\n",
       "    </tr>\n",
       "    <tr>\n",
       "      <th>3</th>\n",
       "      <td>Iraq Halts Oil Exports from Main Southern Pipe...</td>\n",
       "      <td>2</td>\n",
       "      <td>[iraq, halts, oil, exports, main, southern, pi...</td>\n",
       "      <td>[22, 6703, 17, 1550, 749, 402, 2545, 4, 4, 677...</td>\n",
       "    </tr>\n",
       "    <tr>\n",
       "      <th>4</th>\n",
       "      <td>Oil prices soar to all-time record, posing new...</td>\n",
       "      <td>2</td>\n",
       "      <td>[oil, prices, soar, record, posing, new, menac...</td>\n",
       "      <td>[17, 35, 3955, 75, 6983, 2, 11416, 8, 245, 45,...</td>\n",
       "    </tr>\n",
       "  </tbody>\n",
       "</table>\n",
       "</div>"
      ],
      "text/plain": [
       "                                                text  label  \\\n",
       "0  Wall St. Bears Claw Back Into the Black (Reute...      2   \n",
       "1  Carlyle Looks Toward Commercial Aerospace (Reu...      2   \n",
       "2  Oil and Economy Cloud Stocks' Outlook (Reuters...      2   \n",
       "3  Iraq Halts Oil Exports from Main Southern Pipe...      2   \n",
       "4  Oil prices soar to all-time record, posing new...      2   \n",
       "\n",
       "                                              tokens  \\\n",
       "0  [wall, bears, claw, back, black, reuters, reut...   \n",
       "1  [carlyle, looks, toward, commercial, aerospace...   \n",
       "2  [oil, economy, cloud, stocks, outlook, reuters...   \n",
       "3  [iraq, halts, oil, exports, main, southern, pi...   \n",
       "4  [oil, prices, soar, record, posing, new, menac...   \n",
       "\n",
       "                                      encoded_tokens  \n",
       "0  [313, 1399, 13796, 52, 705, 4, 4, 313, 264, 36...  \n",
       "1  [14689, 908, 692, 1120, 3954, 4, 4, 759, 643, ...  \n",
       "2  [17, 245, 4140, 84, 594, 4, 4, 2153, 335, 35, ...  \n",
       "3  [22, 6703, 17, 1550, 749, 402, 2545, 4, 4, 677...  \n",
       "4  [17, 35, 3955, 75, 6983, 2, 11416, 8, 245, 45,...  "
      ]
     },
     "execution_count": 9,
     "metadata": {},
     "output_type": "execute_result"
    }
   ],
   "source": [
    "# define a function for encoding\n",
    "def encode_tokens(tokens):\n",
    "    return [token_to_idx.get(token, token_to_idx['<UNK>']) for token in tokens]\n",
    "\n",
    "# apply the encoding function to the 'tokens' column\n",
    "df['encoded_tokens'] = df['tokens'].apply(encode_tokens)\n",
    "\n",
    "# show the first 5 rows\n",
    "df.head()"
   ]
  },
  {
   "cell_type": "markdown",
   "metadata": {
    "colab": {
     "base_uri": "https://localhost:8080/",
     "height": 204
    },
    "id": "fuU_v-q1-zEj",
    "outputId": "34625863-34d8-4ea0-8fc6-93f4a2279d5d"
   },
   "source": [
    "#### Step 1.5 Create `Dataset` and `DataLoader`\n",
    "\n",
    "Now the text is converted to a sequence of encoded tokens.\n",
    "\n",
    "The resulting sequences from different texts can have different lengths.\n",
    "\n",
    "We cannot directly convert a list of sequences of variable length into a `tensor` using the `TensorDataset()` API.\n",
    "\n",
    "Instead, we need to define a custom `Dataset` class to store the data as tensors."
   ]
  },
  {
   "cell_type": "code",
   "execution_count": 10,
   "metadata": {
    "id": "VDpDTF4G-7Ri"
   },
   "outputs": [],
   "source": [
    "# define a custom Dataset class to store the data as tensors\n",
    "class AGNewsDataset(Dataset):\n",
    "    def __init__(self, encoded_tokens_list, labels):\n",
    "        self.encoded_tokens_list = encoded_tokens_list\n",
    "        self.labels = labels\n",
    "\n",
    "    def __len__(self):\n",
    "        return len(self.encoded_tokens_list)\n",
    "\n",
    "    def __getitem__(self, idx):\n",
    "        X = self.encoded_tokens_list[idx]\n",
    "        y = self.labels[idx]\n",
    "        X = torch.tensor(X, dtype=torch.long)\n",
    "        y = torch.tensor(y, dtype=torch.long)\n",
    "        return X, y"
   ]
  },
  {
   "cell_type": "code",
   "execution_count": 11,
   "metadata": {
    "id": "aFfHX4Un_TGX"
   },
   "outputs": [],
   "source": [
    "# create the training, test and validation dataset\n",
    "ds = AGNewsDataset(df['encoded_tokens'].values, df['label'].values)\n",
    "train_val_ds, test_ds = random_split(ds, [0.7, 0.3])\n",
    "train_ds, val_ds = random_split(train_val_ds, [0.8, 0.2])"
   ]
  },
  {
   "cell_type": "markdown",
   "metadata": {},
   "source": [
    "After that, when we create the `DataLoader` object, we can specify a collate function for the following purposes:\n",
    "- The sequences in the batch have different lengths. We use the `collate_batch` function to pad all sequences to the same length\n",
    "- We want to preserve the information about the length of the original sequence before padding. So we use the `collate_batch` function to record this information."
   ]
  },
  {
   "cell_type": "code",
   "execution_count": 12,
   "metadata": {},
   "outputs": [],
   "source": [
    "# define a collate function to pad the sequences in the same batch to equal length\n",
    "# in addition to the padded_X and y, also return the length of X before padding\n",
    "def collate_batch(batch):\n",
    "    batch_X, batch_y, batch_length = [], [], []\n",
    "    for (X, y) in batch:\n",
    "        batch_X.append(X)\n",
    "        batch_y.append(y)\n",
    "        batch_length.append(len(X))\n",
    "    batch_length = torch.tensor(batch_length, dtype=torch.int64)\n",
    "    batch_y = torch.tensor(batch_y, dtype=torch.int64)\n",
    "    # pad sequences to equal length\n",
    "    batch_X = pad_sequence(batch_X, batch_first = True)\n",
    "    return batch_X, batch_y, batch_length"
   ]
  },
  {
   "cell_type": "code",
   "execution_count": 13,
   "metadata": {
    "id": "e_8smkBg_pNP"
   },
   "outputs": [],
   "source": [
    "# create the training, validation, and test data loaders\n",
    "batch_size = 512 # usually set to 2 to the nth power\n",
    "train_dl = DataLoader(train_ds, batch_size = batch_size, shuffle = True, collate_fn = collate_batch)\n",
    "val_dl = DataLoader(val_ds, batch_size = batch_size, shuffle = False, collate_fn = collate_batch)\n",
    "test_dl = DataLoader(test_ds, batch_size = batch_size, shuffle = False, collate_fn = collate_batch)"
   ]
  },
  {
   "cell_type": "markdown",
   "metadata": {},
   "source": [
    "By applying this `collate_batch` function to each batch, we have three components per batch instead of two:\n",
    "- A batch of `padded_X`:\n",
    "    - A batch of sequences of encoded tokens padded to the same length\n",
    "- A batch of `y`:\n",
    "    - A batch of labels\n",
    "- A batch of `length`:\n",
    "    - A batch of lengths of the original sequences before padding"
   ]
  },
  {
   "cell_type": "code",
   "execution_count": 14,
   "metadata": {},
   "outputs": [
    {
     "name": "stdout",
     "output_type": "stream",
     "text": [
      "torch.Size([512, 61])\n",
      "torch.Size([512])\n",
      "torch.Size([512])\n"
     ]
    }
   ],
   "source": [
    "# get one batch and print its shape\n",
    "for batch in test_dl:\n",
    "    print(batch[0].shape)\n",
    "    print(batch[1].shape)\n",
    "    print(batch[2].shape)\n",
    "    break"
   ]
  },
  {
   "cell_type": "markdown",
   "metadata": {},
   "source": [
    "### Step 2. Create the LSTM-based text classifier\n",
    "\n",
    "For text classification task, the input is a sequence of tokens, the output is a class. So we need to use the many-to-one architecture of RNN, as shown in the following figure:\n",
    "\n",
    "![](https://i.imgur.com/C5Pgwyn.jpeg)\n",
    "\n",
    "In this step, we need to:\n",
    "- Define a custom class for the text classifier\n",
    "    - Specify the network structure\n",
    "        - The first layer is `nn.Embedding()`\n",
    "        - There is recurrent processes, so we can't use `nn.Sequential()` container anymore\n",
    "    - Specify the forward method\n",
    "        - Without using `nn.Sequential()`, we need to specify the forward process step by step\n",
    "            1. Word embedding\n",
    "            2. Pack the batch of padded sequences for sequential processing\n",
    "            3. Sequential processing with LSTM layer\n",
    "            4. Make prediction using the final hidden state\n",
    "- Create an instance of the network and move it to GPU "
   ]
  },
  {
   "cell_type": "code",
   "execution_count": 15,
   "metadata": {
    "id": "iCZm_PSI_wsu"
   },
   "outputs": [],
   "source": [
    "# define a custom neural network class\n",
    "class LSTMClassifier(nn.Module):\n",
    "    def __init__(self, vocab_size, embed_size, hidden_size, num_class):\n",
    "        super().__init__()\n",
    "        self.embedding = nn.Embedding(vocab_size, embed_size)\n",
    "        self.lstm = nn.LSTM(embed_size, hidden_size, batch_first = True)\n",
    "        self.fc = nn.Linear(hidden_size, num_class)\n",
    "\n",
    "    def forward(self, x, lengths):\n",
    "        x = self.embedding(x)\n",
    "        packed_x = pack_padded_sequence(\n",
    "            x, lengths.cpu(), batch_first=True, enforce_sorted=False\n",
    "        )\n",
    "        out, (h, c) = self.lstm(packed_x)\n",
    "        return self.fc(h[-1])"
   ]
  },
  {
   "cell_type": "markdown",
   "metadata": {},
   "source": [
    "We need to specify the following parameters to determine the network structure:\n",
    "- `vocab_size` is the number of unique tokens to embed, the size of the vocabulary\n",
    "- `embed_size` is the number of embedded features to represent the tokens\n",
    "- `hidden_size` is the number of hidden features of LSTM\n",
    "- `num_class` is the number of classes in the dataset\n",
    "\n",
    "In the `forward()` method, we can see the forward process has four steps:\n",
    "1. `x = self.embedding(x)` performs word embedding\n",
    "    - Take a batch of sequences of encoded tokens\n",
    "    - Convert the sequence of encoded tokens to the sequence of embedded tokens\n",
    "    - Each embedded token is represented by multiple embeded features\n",
    "2. `packed_x = pack_padded_sequence(x, lengths ...)` packs the batch of padded sequences for sequential processing\n",
    "   - We provide the information of the length of the original sequence before padding\n",
    "   - This lets the network know when the sequence ends and ignore the remaining padding tokens.\n",
    "   - Understanding the purpose of this operation is enough.\n",
    "   - The actual implementation can be complex. If you are interested, you can follow a informative discussion on stack overflow from this [link](https://stackoverflow.com/questions/51030782/why-do-we-pack-the-sequences-in-pytorch).\n",
    "4. `out, (h, c) = self.lstm(packed_x)` use the LSTM layer to process the sequence of embedded tokens\n",
    "    - `out` is the sequence of all hidden state at each timestep\n",
    "    - `h` is the final hidden state\n",
    "    - `c` is the final cell state\n",
    "5. `return self.fc(h[-1])` make prediction using the final hidden state and a FC layer\n",
    "    - The shape of `h` is (1, batch_size, hidden_size)\n",
    "    - `h[-1]` delete the first useless dimension, the shape of `h[-1]` is (batch_size, hidden_size)\n",
    "    - The returned values are logits since we have a multi-class classification problem"
   ]
  },
  {
   "cell_type": "code",
   "execution_count": 16,
   "metadata": {
    "id": "MO5Bt4v-_z3m"
   },
   "outputs": [],
   "source": [
    "# create the neural network\n",
    "embed_size = 64\n",
    "hidden_size = 32\n",
    "num_class = 4\n",
    "model = LSTMClassifier(vocab_size, embed_size, hidden_size, num_class)\n",
    "model = model.to(device)"
   ]
  },
  {
   "cell_type": "markdown",
   "metadata": {},
   "source": [
    "### Step 3. Train the network\n",
    "\n",
    "The code is the same as the previous sessions. We need to:\n",
    "- Define a `train()` function to perform the training process\n",
    "- Specify the training hyper-parameters\n",
    "- Implement the training process\n",
    "- Visualize the loss history"
   ]
  },
  {
   "cell_type": "code",
   "execution_count": 17,
   "metadata": {
    "id": "_gzigRjY_2wS"
   },
   "outputs": [],
   "source": [
    "# define the training function\n",
    "def train(\n",
    "    train_dl,\n",
    "    val_dl,\n",
    "    model,\n",
    "    loss_fn,\n",
    "    optimizer,\n",
    "    epochs,\n",
    "    early_stopping_patience,\n",
    "    lr_scheduler,\n",
    "    saved_path_prefix\n",
    "):\n",
    "    # initialization\n",
    "    min_val_loss = np.inf\n",
    "    patience_counter = 0\n",
    "    histories = {\n",
    "        'train_batch': [],\n",
    "        'train_epoch': [],\n",
    "        'val_batch': [],\n",
    "        'val_epoch': []\n",
    "    }\n",
    "    saved_path = ''\n",
    "    start_time = datetime.datetime.now()\n",
    "\n",
    "    # start training\n",
    "    for epoch in range(epochs):\n",
    "        # train set\n",
    "        train_epoch_loss = 0.0\n",
    "        model.train()\n",
    "        for X, y, lens in tqdm(train_dl, desc = f'Training batch\\t'): # tqdm progress bar\n",
    "            X, y, lens = X.to(device), y.to(device), lens.to(device)\n",
    "            logits = model(X, lens)\n",
    "            train_batch_loss = loss_fn(logits, y)\n",
    "            train_batch_loss.backward()\n",
    "            optimizer.step()\n",
    "            optimizer.zero_grad()\n",
    "            histories['train_batch'].append(train_batch_loss.item())\n",
    "            train_epoch_loss += train_batch_loss.item()\n",
    "        train_epoch_loss /= len(train_dl)\n",
    "        histories['train_epoch'].append(train_epoch_loss)\n",
    "\n",
    "        # validation set\n",
    "        val_epoch_loss = 0.0\n",
    "        model.eval()\n",
    "        with torch.no_grad():\n",
    "            for X, y, lens in tqdm(val_dl, desc = f'Validation batch'): # tqdm progress bar\n",
    "                X, y, lens = X.to(device), y.to(device), lens.to(device)\n",
    "                logits = model(X, lens)\n",
    "                val_batch_loss = loss_fn(logits, y)\n",
    "                histories['val_batch'].append(val_batch_loss.item())\n",
    "                val_epoch_loss += val_batch_loss.item()\n",
    "            val_epoch_loss /= len(val_dl)\n",
    "            histories['val_epoch'].append(val_epoch_loss)\n",
    "\n",
    "        # print log\n",
    "        end_time = datetime.datetime.now()\n",
    "        time_consumed = str(end_time - start_time).split('.')[0]\n",
    "        print(f\"Epoch {epoch + 1}: train loss = {train_epoch_loss:>5f}, val loss = {val_epoch_loss:>5f}, time consumed = {time_consumed}\")\n",
    "\n",
    "        # learning rate decay\n",
    "        current_lr = optimizer.param_groups[0]['lr']\n",
    "        lr_scheduler.step(val_epoch_loss)\n",
    "        new_lr = optimizer.param_groups[0]['lr']\n",
    "        if current_lr != new_lr:\n",
    "            print(f'Learning rate reduced after epoch {epoch+1}\\n')\n",
    "\n",
    "        # early stopping\n",
    "        if val_epoch_loss < min_val_loss:\n",
    "            min_val_loss = val_epoch_loss\n",
    "            patience_counter = 0\n",
    "            if os.path.exists(saved_path):\n",
    "                os.remove(saved_path)\n",
    "            time_str = datetime.datetime.now().strftime(\"%Y-%m-%d_%H-%M-%S\")\n",
    "            saved_path = saved_path_prefix + f'_epoch_{epoch+1}_val_loss_{val_epoch_loss:>4f}_{time_str}.pth'\n",
    "            torch.save(model.state_dict(), saved_path)\n",
    "            print(f'Model saved after epoch {epoch+1}\\n')\n",
    "        else:\n",
    "            patience_counter += 1\n",
    "        if patience_counter >= early_stopping_patience:\n",
    "            print('Early stopping!')\n",
    "            break\n",
    "    return histories, saved_path"
   ]
  },
  {
   "cell_type": "code",
   "execution_count": 18,
   "metadata": {
    "id": "aL3uu3uq_8gP"
   },
   "outputs": [],
   "source": [
    "# define the training hyper-parameters\n",
    "loss_fn = nn.CrossEntropyLoss()\n",
    "learning_rate = 1e-1\n",
    "weight_decay = 1e-5\n",
    "optimizer = torch.optim.SGD(\n",
    "    model.parameters(),\n",
    "    lr = learning_rate,\n",
    "    weight_decay = weight_decay\n",
    ")\n",
    "epochs = 1000\n",
    "early_stopping_patience = 10\n",
    "lr_scheduler = torch.optim.lr_scheduler.ReduceLROnPlateau(\n",
    "    optimizer,\n",
    "    mode = 'min',\n",
    "    factor = 0.1,\n",
    "    patience = 5\n",
    ")\n",
    "saved_path_prefix = 'ag_news_classifier'"
   ]
  },
  {
   "cell_type": "code",
   "execution_count": 19,
   "metadata": {
    "colab": {
     "base_uri": "https://localhost:8080/"
    },
    "id": "ge5xWWE8ADNR",
    "outputId": "ea72a136-d50b-4559-d94f-4d3db75d5a70"
   },
   "outputs": [
    {
     "name": "stderr",
     "output_type": "stream",
     "text": [
      "Training batch\t: 100%|██████████| 140/140 [00:44<00:00,  3.12it/s]\n",
      "Validation batch: 100%|██████████| 35/35 [00:01<00:00, 28.91it/s]\n"
     ]
    },
    {
     "name": "stdout",
     "output_type": "stream",
     "text": [
      "Epoch 1: train loss = 1.386079, val loss = 1.379796, time consumed = 0:00:46\n",
      "Model saved after epoch 1\n",
      "\n"
     ]
    },
    {
     "name": "stderr",
     "output_type": "stream",
     "text": [
      "Training batch\t: 100%|██████████| 140/140 [00:30<00:00,  4.54it/s]\n",
      "Validation batch: 100%|██████████| 35/35 [00:01<00:00, 32.17it/s]\n"
     ]
    },
    {
     "name": "stdout",
     "output_type": "stream",
     "text": [
      "Epoch 2: train loss = 1.374377, val loss = 1.369221, time consumed = 0:01:18\n",
      "Model saved after epoch 2\n",
      "\n"
     ]
    },
    {
     "name": "stderr",
     "output_type": "stream",
     "text": [
      "Training batch\t: 100%|██████████| 140/140 [00:31<00:00,  4.47it/s]\n",
      "Validation batch: 100%|██████████| 35/35 [00:00<00:00, 35.23it/s]\n"
     ]
    },
    {
     "name": "stdout",
     "output_type": "stream",
     "text": [
      "Epoch 3: train loss = 1.362925, val loss = 1.357936, time consumed = 0:01:50\n",
      "Model saved after epoch 3\n",
      "\n"
     ]
    },
    {
     "name": "stderr",
     "output_type": "stream",
     "text": [
      "Training batch\t: 100%|██████████| 140/140 [00:31<00:00,  4.38it/s]\n",
      "Validation batch: 100%|██████████| 35/35 [00:01<00:00, 33.69it/s]\n"
     ]
    },
    {
     "name": "stdout",
     "output_type": "stream",
     "text": [
      "Epoch 4: train loss = 1.349467, val loss = 1.343544, time consumed = 0:02:23\n",
      "Model saved after epoch 4\n",
      "\n"
     ]
    },
    {
     "name": "stderr",
     "output_type": "stream",
     "text": [
      "Training batch\t: 100%|██████████| 140/140 [00:31<00:00,  4.50it/s]\n",
      "Validation batch: 100%|██████████| 35/35 [00:01<00:00, 34.27it/s]\n"
     ]
    },
    {
     "name": "stdout",
     "output_type": "stream",
     "text": [
      "Epoch 5: train loss = 1.332273, val loss = 1.325275, time consumed = 0:02:55\n",
      "Model saved after epoch 5\n",
      "\n"
     ]
    },
    {
     "name": "stderr",
     "output_type": "stream",
     "text": [
      "Training batch\t: 100%|██████████| 140/140 [00:30<00:00,  4.52it/s]\n",
      "Validation batch: 100%|██████████| 35/35 [00:01<00:00, 34.04it/s]\n"
     ]
    },
    {
     "name": "stdout",
     "output_type": "stream",
     "text": [
      "Epoch 6: train loss = 1.309523, val loss = 1.300395, time consumed = 0:03:27\n",
      "Model saved after epoch 6\n",
      "\n"
     ]
    },
    {
     "name": "stderr",
     "output_type": "stream",
     "text": [
      "Training batch\t: 100%|██████████| 140/140 [00:30<00:00,  4.52it/s]\n",
      "Validation batch: 100%|██████████| 35/35 [00:01<00:00, 33.58it/s]\n"
     ]
    },
    {
     "name": "stdout",
     "output_type": "stream",
     "text": [
      "Epoch 7: train loss = 1.273521, val loss = 1.252114, time consumed = 0:03:59\n",
      "Model saved after epoch 7\n",
      "\n"
     ]
    },
    {
     "name": "stderr",
     "output_type": "stream",
     "text": [
      "Training batch\t: 100%|██████████| 140/140 [00:30<00:00,  4.62it/s]\n",
      "Validation batch: 100%|██████████| 35/35 [00:01<00:00, 34.42it/s]\n"
     ]
    },
    {
     "name": "stdout",
     "output_type": "stream",
     "text": [
      "Epoch 8: train loss = 1.189965, val loss = 1.146528, time consumed = 0:04:30\n",
      "Model saved after epoch 8\n",
      "\n"
     ]
    },
    {
     "name": "stderr",
     "output_type": "stream",
     "text": [
      "Training batch\t: 100%|██████████| 140/140 [00:30<00:00,  4.55it/s]\n",
      "Validation batch: 100%|██████████| 35/35 [00:01<00:00, 34.22it/s]\n"
     ]
    },
    {
     "name": "stdout",
     "output_type": "stream",
     "text": [
      "Epoch 9: train loss = 1.094132, val loss = 1.060579, time consumed = 0:05:02\n",
      "Model saved after epoch 9\n",
      "\n"
     ]
    },
    {
     "name": "stderr",
     "output_type": "stream",
     "text": [
      "Training batch\t: 100%|██████████| 140/140 [00:31<00:00,  4.48it/s]\n",
      "Validation batch: 100%|██████████| 35/35 [00:01<00:00, 34.27it/s]\n"
     ]
    },
    {
     "name": "stdout",
     "output_type": "stream",
     "text": [
      "Epoch 10: train loss = 1.022372, val loss = 0.968861, time consumed = 0:05:34\n",
      "Model saved after epoch 10\n",
      "\n"
     ]
    },
    {
     "name": "stderr",
     "output_type": "stream",
     "text": [
      "Training batch\t: 100%|██████████| 140/140 [00:30<00:00,  4.52it/s]\n",
      "Validation batch: 100%|██████████| 35/35 [00:01<00:00, 33.92it/s]\n"
     ]
    },
    {
     "name": "stdout",
     "output_type": "stream",
     "text": [
      "Epoch 11: train loss = 0.942979, val loss = 0.911890, time consumed = 0:06:06\n",
      "Model saved after epoch 11\n",
      "\n"
     ]
    },
    {
     "name": "stderr",
     "output_type": "stream",
     "text": [
      "Training batch\t: 100%|██████████| 140/140 [00:31<00:00,  4.49it/s]\n",
      "Validation batch: 100%|██████████| 35/35 [00:01<00:00, 34.12it/s]\n"
     ]
    },
    {
     "name": "stdout",
     "output_type": "stream",
     "text": [
      "Epoch 12: train loss = 0.844461, val loss = 0.820700, time consumed = 0:06:39\n",
      "Model saved after epoch 12\n",
      "\n"
     ]
    },
    {
     "name": "stderr",
     "output_type": "stream",
     "text": [
      "Training batch\t: 100%|██████████| 140/140 [00:32<00:00,  4.29it/s]\n",
      "Validation batch: 100%|██████████| 35/35 [00:01<00:00, 32.00it/s]\n"
     ]
    },
    {
     "name": "stdout",
     "output_type": "stream",
     "text": [
      "Epoch 13: train loss = 0.772237, val loss = 0.812158, time consumed = 0:07:12\n",
      "Model saved after epoch 13\n",
      "\n"
     ]
    },
    {
     "name": "stderr",
     "output_type": "stream",
     "text": [
      "Training batch\t: 100%|██████████| 140/140 [00:32<00:00,  4.34it/s]\n",
      "Validation batch: 100%|██████████| 35/35 [00:01<00:00, 33.96it/s]\n"
     ]
    },
    {
     "name": "stdout",
     "output_type": "stream",
     "text": [
      "Epoch 14: train loss = 0.719617, val loss = 0.750024, time consumed = 0:07:46\n",
      "Model saved after epoch 14\n",
      "\n"
     ]
    },
    {
     "name": "stderr",
     "output_type": "stream",
     "text": [
      "Training batch\t: 100%|██████████| 140/140 [00:30<00:00,  4.56it/s]\n",
      "Validation batch: 100%|██████████| 35/35 [00:01<00:00, 34.46it/s]\n"
     ]
    },
    {
     "name": "stdout",
     "output_type": "stream",
     "text": [
      "Epoch 15: train loss = 0.675276, val loss = 0.687756, time consumed = 0:08:17\n",
      "Model saved after epoch 15\n",
      "\n"
     ]
    },
    {
     "name": "stderr",
     "output_type": "stream",
     "text": [
      "Training batch\t: 100%|██████████| 140/140 [00:30<00:00,  4.56it/s]\n",
      "Validation batch: 100%|██████████| 35/35 [00:01<00:00, 27.67it/s]\n"
     ]
    },
    {
     "name": "stdout",
     "output_type": "stream",
     "text": [
      "Epoch 16: train loss = 0.632365, val loss = 0.635950, time consumed = 0:08:49\n",
      "Model saved after epoch 16\n",
      "\n"
     ]
    },
    {
     "name": "stderr",
     "output_type": "stream",
     "text": [
      "Training batch\t: 100%|██████████| 140/140 [00:30<00:00,  4.55it/s]\n",
      "Validation batch: 100%|██████████| 35/35 [00:01<00:00, 34.27it/s]\n"
     ]
    },
    {
     "name": "stdout",
     "output_type": "stream",
     "text": [
      "Epoch 17: train loss = 0.593841, val loss = 0.670181, time consumed = 0:09:21\n"
     ]
    },
    {
     "name": "stderr",
     "output_type": "stream",
     "text": [
      "Training batch\t: 100%|██████████| 140/140 [00:30<00:00,  4.58it/s]\n",
      "Validation batch: 100%|██████████| 35/35 [00:01<00:00, 33.06it/s]\n"
     ]
    },
    {
     "name": "stdout",
     "output_type": "stream",
     "text": [
      "Epoch 18: train loss = 0.570647, val loss = 0.587364, time consumed = 0:09:53\n",
      "Model saved after epoch 18\n",
      "\n"
     ]
    },
    {
     "name": "stderr",
     "output_type": "stream",
     "text": [
      "Training batch\t: 100%|██████████| 140/140 [00:30<00:00,  4.52it/s]\n",
      "Validation batch: 100%|██████████| 35/35 [00:01<00:00, 33.61it/s]\n"
     ]
    },
    {
     "name": "stdout",
     "output_type": "stream",
     "text": [
      "Epoch 19: train loss = 0.549044, val loss = 0.600315, time consumed = 0:10:25\n"
     ]
    },
    {
     "name": "stderr",
     "output_type": "stream",
     "text": [
      "Training batch\t: 100%|██████████| 140/140 [00:31<00:00,  4.49it/s]\n",
      "Validation batch: 100%|██████████| 35/35 [00:01<00:00, 33.42it/s]\n"
     ]
    },
    {
     "name": "stdout",
     "output_type": "stream",
     "text": [
      "Epoch 20: train loss = 0.527171, val loss = 0.577386, time consumed = 0:10:57\n",
      "Model saved after epoch 20\n",
      "\n"
     ]
    },
    {
     "name": "stderr",
     "output_type": "stream",
     "text": [
      "Training batch\t: 100%|██████████| 140/140 [00:31<00:00,  4.51it/s]\n",
      "Validation batch: 100%|██████████| 35/35 [00:01<00:00, 33.92it/s]\n"
     ]
    },
    {
     "name": "stdout",
     "output_type": "stream",
     "text": [
      "Epoch 21: train loss = 0.511523, val loss = 0.543527, time consumed = 0:11:29\n",
      "Model saved after epoch 21\n",
      "\n"
     ]
    },
    {
     "name": "stderr",
     "output_type": "stream",
     "text": [
      "Training batch\t: 100%|██████████| 140/140 [00:30<00:00,  4.58it/s]\n",
      "Validation batch: 100%|██████████| 35/35 [00:01<00:00, 34.49it/s]\n"
     ]
    },
    {
     "name": "stdout",
     "output_type": "stream",
     "text": [
      "Epoch 22: train loss = 0.492972, val loss = 0.527264, time consumed = 0:12:01\n",
      "Model saved after epoch 22\n",
      "\n"
     ]
    },
    {
     "name": "stderr",
     "output_type": "stream",
     "text": [
      "Training batch\t: 100%|██████████| 140/140 [00:30<00:00,  4.63it/s]\n",
      "Validation batch: 100%|██████████| 35/35 [00:01<00:00, 34.14it/s]\n"
     ]
    },
    {
     "name": "stdout",
     "output_type": "stream",
     "text": [
      "Epoch 23: train loss = 0.481295, val loss = 0.521947, time consumed = 0:12:32\n",
      "Model saved after epoch 23\n",
      "\n"
     ]
    },
    {
     "name": "stderr",
     "output_type": "stream",
     "text": [
      "Training batch\t: 100%|██████████| 140/140 [00:30<00:00,  4.58it/s]\n",
      "Validation batch: 100%|██████████| 35/35 [00:01<00:00, 33.71it/s]\n"
     ]
    },
    {
     "name": "stdout",
     "output_type": "stream",
     "text": [
      "Epoch 24: train loss = 0.463374, val loss = 0.512592, time consumed = 0:13:04\n",
      "Model saved after epoch 24\n",
      "\n"
     ]
    },
    {
     "name": "stderr",
     "output_type": "stream",
     "text": [
      "Training batch\t: 100%|██████████| 140/140 [00:30<00:00,  4.64it/s]\n",
      "Validation batch: 100%|██████████| 35/35 [00:01<00:00, 34.42it/s]\n"
     ]
    },
    {
     "name": "stdout",
     "output_type": "stream",
     "text": [
      "Epoch 25: train loss = 0.457538, val loss = 0.576156, time consumed = 0:13:35\n"
     ]
    },
    {
     "name": "stderr",
     "output_type": "stream",
     "text": [
      "Training batch\t: 100%|██████████| 140/140 [00:30<00:00,  4.62it/s]\n",
      "Validation batch: 100%|██████████| 35/35 [00:01<00:00, 34.07it/s]\n"
     ]
    },
    {
     "name": "stdout",
     "output_type": "stream",
     "text": [
      "Epoch 26: train loss = 0.449559, val loss = 0.562397, time consumed = 0:14:06\n"
     ]
    },
    {
     "name": "stderr",
     "output_type": "stream",
     "text": [
      "Training batch\t: 100%|██████████| 140/140 [00:30<00:00,  4.58it/s]\n",
      "Validation batch: 100%|██████████| 35/35 [00:01<00:00, 33.70it/s]\n"
     ]
    },
    {
     "name": "stdout",
     "output_type": "stream",
     "text": [
      "Epoch 27: train loss = 0.438788, val loss = 0.494297, time consumed = 0:14:38\n",
      "Model saved after epoch 27\n",
      "\n"
     ]
    },
    {
     "name": "stderr",
     "output_type": "stream",
     "text": [
      "Training batch\t: 100%|██████████| 140/140 [00:30<00:00,  4.62it/s]\n",
      "Validation batch: 100%|██████████| 35/35 [00:01<00:00, 34.34it/s]\n"
     ]
    },
    {
     "name": "stdout",
     "output_type": "stream",
     "text": [
      "Epoch 28: train loss = 0.430823, val loss = 0.510827, time consumed = 0:15:09\n"
     ]
    },
    {
     "name": "stderr",
     "output_type": "stream",
     "text": [
      "Training batch\t: 100%|██████████| 140/140 [00:30<00:00,  4.62it/s]\n",
      "Validation batch: 100%|██████████| 35/35 [00:01<00:00, 33.90it/s]\n"
     ]
    },
    {
     "name": "stdout",
     "output_type": "stream",
     "text": [
      "Epoch 29: train loss = 0.421999, val loss = 0.493132, time consumed = 0:15:40\n",
      "Model saved after epoch 29\n",
      "\n"
     ]
    },
    {
     "name": "stderr",
     "output_type": "stream",
     "text": [
      "Training batch\t: 100%|██████████| 140/140 [00:30<00:00,  4.62it/s]\n",
      "Validation batch: 100%|██████████| 35/35 [00:01<00:00, 34.50it/s]\n"
     ]
    },
    {
     "name": "stdout",
     "output_type": "stream",
     "text": [
      "Epoch 30: train loss = 0.414124, val loss = 0.536634, time consumed = 0:16:12\n"
     ]
    },
    {
     "name": "stderr",
     "output_type": "stream",
     "text": [
      "Training batch\t: 100%|██████████| 140/140 [00:30<00:00,  4.63it/s]\n",
      "Validation batch: 100%|██████████| 35/35 [00:01<00:00, 34.05it/s]\n"
     ]
    },
    {
     "name": "stdout",
     "output_type": "stream",
     "text": [
      "Epoch 31: train loss = 0.410677, val loss = 0.493186, time consumed = 0:16:43\n"
     ]
    },
    {
     "name": "stderr",
     "output_type": "stream",
     "text": [
      "Training batch\t: 100%|██████████| 140/140 [00:30<00:00,  4.63it/s]\n",
      "Validation batch: 100%|██████████| 35/35 [00:01<00:00, 34.07it/s]\n"
     ]
    },
    {
     "name": "stdout",
     "output_type": "stream",
     "text": [
      "Epoch 32: train loss = 0.402038, val loss = 0.476701, time consumed = 0:17:14\n",
      "Model saved after epoch 32\n",
      "\n"
     ]
    },
    {
     "name": "stderr",
     "output_type": "stream",
     "text": [
      "Training batch\t: 100%|██████████| 140/140 [00:30<00:00,  4.64it/s]\n",
      "Validation batch: 100%|██████████| 35/35 [00:01<00:00, 33.71it/s]\n"
     ]
    },
    {
     "name": "stdout",
     "output_type": "stream",
     "text": [
      "Epoch 33: train loss = 0.397320, val loss = 0.475170, time consumed = 0:17:46\n",
      "Model saved after epoch 33\n",
      "\n"
     ]
    },
    {
     "name": "stderr",
     "output_type": "stream",
     "text": [
      "Training batch\t: 100%|██████████| 140/140 [00:30<00:00,  4.65it/s]\n",
      "Validation batch: 100%|██████████| 35/35 [00:01<00:00, 34.40it/s]\n"
     ]
    },
    {
     "name": "stdout",
     "output_type": "stream",
     "text": [
      "Epoch 34: train loss = 0.391437, val loss = 0.475287, time consumed = 0:18:17\n"
     ]
    },
    {
     "name": "stderr",
     "output_type": "stream",
     "text": [
      "Training batch\t: 100%|██████████| 140/140 [00:30<00:00,  4.62it/s]\n",
      "Validation batch: 100%|██████████| 35/35 [00:01<00:00, 34.55it/s]\n"
     ]
    },
    {
     "name": "stdout",
     "output_type": "stream",
     "text": [
      "Epoch 35: train loss = 0.387724, val loss = 0.468569, time consumed = 0:18:48\n",
      "Model saved after epoch 35\n",
      "\n"
     ]
    },
    {
     "name": "stderr",
     "output_type": "stream",
     "text": [
      "Training batch\t: 100%|██████████| 140/140 [00:30<00:00,  4.62it/s]\n",
      "Validation batch: 100%|██████████| 35/35 [00:01<00:00, 33.96it/s]\n"
     ]
    },
    {
     "name": "stdout",
     "output_type": "stream",
     "text": [
      "Epoch 36: train loss = 0.383133, val loss = 0.482220, time consumed = 0:19:19\n"
     ]
    },
    {
     "name": "stderr",
     "output_type": "stream",
     "text": [
      "Training batch\t: 100%|██████████| 140/140 [00:30<00:00,  4.57it/s]\n",
      "Validation batch: 100%|██████████| 35/35 [00:01<00:00, 33.72it/s]\n"
     ]
    },
    {
     "name": "stdout",
     "output_type": "stream",
     "text": [
      "Epoch 37: train loss = 0.379645, val loss = 0.467662, time consumed = 0:19:51\n",
      "Model saved after epoch 37\n",
      "\n"
     ]
    },
    {
     "name": "stderr",
     "output_type": "stream",
     "text": [
      "Training batch\t: 100%|██████████| 140/140 [00:30<00:00,  4.56it/s]\n",
      "Validation batch: 100%|██████████| 35/35 [00:01<00:00, 34.88it/s]\n"
     ]
    },
    {
     "name": "stdout",
     "output_type": "stream",
     "text": [
      "Epoch 38: train loss = 0.373533, val loss = 0.463850, time consumed = 0:20:23\n",
      "Model saved after epoch 38\n",
      "\n"
     ]
    },
    {
     "name": "stderr",
     "output_type": "stream",
     "text": [
      "Training batch\t: 100%|██████████| 140/140 [00:30<00:00,  4.63it/s]\n",
      "Validation batch: 100%|██████████| 35/35 [00:01<00:00, 33.33it/s]\n"
     ]
    },
    {
     "name": "stdout",
     "output_type": "stream",
     "text": [
      "Epoch 39: train loss = 0.371287, val loss = 0.460902, time consumed = 0:20:54\n",
      "Model saved after epoch 39\n",
      "\n"
     ]
    },
    {
     "name": "stderr",
     "output_type": "stream",
     "text": [
      "Training batch\t: 100%|██████████| 140/140 [00:30<00:00,  4.64it/s]\n",
      "Validation batch: 100%|██████████| 35/35 [00:01<00:00, 34.46it/s]\n"
     ]
    },
    {
     "name": "stdout",
     "output_type": "stream",
     "text": [
      "Epoch 40: train loss = 0.367770, val loss = 0.458046, time consumed = 0:21:25\n",
      "Model saved after epoch 40\n",
      "\n"
     ]
    },
    {
     "name": "stderr",
     "output_type": "stream",
     "text": [
      "Training batch\t: 100%|██████████| 140/140 [00:30<00:00,  4.65it/s]\n",
      "Validation batch: 100%|██████████| 35/35 [00:01<00:00, 33.25it/s]\n"
     ]
    },
    {
     "name": "stdout",
     "output_type": "stream",
     "text": [
      "Epoch 41: train loss = 0.361076, val loss = 0.467955, time consumed = 0:21:57\n"
     ]
    },
    {
     "name": "stderr",
     "output_type": "stream",
     "text": [
      "Training batch\t: 100%|██████████| 140/140 [00:30<00:00,  4.64it/s]\n",
      "Validation batch: 100%|██████████| 35/35 [00:01<00:00, 33.93it/s]\n"
     ]
    },
    {
     "name": "stdout",
     "output_type": "stream",
     "text": [
      "Epoch 42: train loss = 0.358464, val loss = 0.459165, time consumed = 0:22:28\n"
     ]
    },
    {
     "name": "stderr",
     "output_type": "stream",
     "text": [
      "Training batch\t: 100%|██████████| 140/140 [00:30<00:00,  4.65it/s]\n",
      "Validation batch: 100%|██████████| 35/35 [00:01<00:00, 34.54it/s]\n"
     ]
    },
    {
     "name": "stdout",
     "output_type": "stream",
     "text": [
      "Epoch 43: train loss = 0.354262, val loss = 0.465292, time consumed = 0:22:59\n"
     ]
    },
    {
     "name": "stderr",
     "output_type": "stream",
     "text": [
      "Training batch\t: 100%|██████████| 140/140 [00:30<00:00,  4.64it/s]\n",
      "Validation batch: 100%|██████████| 35/35 [00:01<00:00, 34.17it/s]\n"
     ]
    },
    {
     "name": "stdout",
     "output_type": "stream",
     "text": [
      "Epoch 44: train loss = 0.353115, val loss = 0.455170, time consumed = 0:23:30\n",
      "Model saved after epoch 44\n",
      "\n"
     ]
    },
    {
     "name": "stderr",
     "output_type": "stream",
     "text": [
      "Training batch\t: 100%|██████████| 140/140 [00:30<00:00,  4.63it/s]\n",
      "Validation batch: 100%|██████████| 35/35 [00:01<00:00, 33.26it/s]\n"
     ]
    },
    {
     "name": "stdout",
     "output_type": "stream",
     "text": [
      "Epoch 45: train loss = 0.349602, val loss = 0.456829, time consumed = 0:24:01\n"
     ]
    },
    {
     "name": "stderr",
     "output_type": "stream",
     "text": [
      "Training batch\t: 100%|██████████| 140/140 [00:30<00:00,  4.64it/s]\n",
      "Validation batch: 100%|██████████| 35/35 [00:01<00:00, 33.54it/s]\n"
     ]
    },
    {
     "name": "stdout",
     "output_type": "stream",
     "text": [
      "Epoch 46: train loss = 0.345510, val loss = 0.478557, time consumed = 0:24:33\n"
     ]
    },
    {
     "name": "stderr",
     "output_type": "stream",
     "text": [
      "Training batch\t: 100%|██████████| 140/140 [00:30<00:00,  4.63it/s]\n",
      "Validation batch: 100%|██████████| 35/35 [00:01<00:00, 26.39it/s]\n"
     ]
    },
    {
     "name": "stdout",
     "output_type": "stream",
     "text": [
      "Epoch 47: train loss = 0.344796, val loss = 0.459409, time consumed = 0:25:04\n"
     ]
    },
    {
     "name": "stderr",
     "output_type": "stream",
     "text": [
      "Training batch\t: 100%|██████████| 140/140 [00:30<00:00,  4.63it/s]\n",
      "Validation batch: 100%|██████████| 35/35 [00:01<00:00, 33.44it/s]\n"
     ]
    },
    {
     "name": "stdout",
     "output_type": "stream",
     "text": [
      "Epoch 48: train loss = 0.339920, val loss = 0.468977, time consumed = 0:25:35\n"
     ]
    },
    {
     "name": "stderr",
     "output_type": "stream",
     "text": [
      "Training batch\t: 100%|██████████| 140/140 [00:31<00:00,  4.50it/s]\n",
      "Validation batch: 100%|██████████| 35/35 [00:01<00:00, 24.73it/s]\n"
     ]
    },
    {
     "name": "stdout",
     "output_type": "stream",
     "text": [
      "Epoch 49: train loss = 0.338643, val loss = 0.448482, time consumed = 0:26:08\n",
      "Model saved after epoch 49\n",
      "\n"
     ]
    },
    {
     "name": "stderr",
     "output_type": "stream",
     "text": [
      "Training batch\t: 100%|██████████| 140/140 [00:30<00:00,  4.58it/s]\n",
      "Validation batch: 100%|██████████| 35/35 [00:01<00:00, 33.43it/s]\n"
     ]
    },
    {
     "name": "stdout",
     "output_type": "stream",
     "text": [
      "Epoch 50: train loss = 0.334618, val loss = 0.446437, time consumed = 0:26:40\n",
      "Model saved after epoch 50\n",
      "\n"
     ]
    },
    {
     "name": "stderr",
     "output_type": "stream",
     "text": [
      "Training batch\t: 100%|██████████| 140/140 [00:30<00:00,  4.61it/s]\n",
      "Validation batch: 100%|██████████| 35/35 [00:01<00:00, 32.77it/s]\n"
     ]
    },
    {
     "name": "stdout",
     "output_type": "stream",
     "text": [
      "Epoch 51: train loss = 0.332210, val loss = 0.454685, time consumed = 0:27:11\n"
     ]
    },
    {
     "name": "stderr",
     "output_type": "stream",
     "text": [
      "Training batch\t: 100%|██████████| 140/140 [00:30<00:00,  4.63it/s]\n",
      "Validation batch: 100%|██████████| 35/35 [00:01<00:00, 33.56it/s]\n"
     ]
    },
    {
     "name": "stdout",
     "output_type": "stream",
     "text": [
      "Epoch 52: train loss = 0.331166, val loss = 0.456965, time consumed = 0:27:42\n"
     ]
    },
    {
     "name": "stderr",
     "output_type": "stream",
     "text": [
      "Training batch\t: 100%|██████████| 140/140 [00:30<00:00,  4.60it/s]\n",
      "Validation batch: 100%|██████████| 35/35 [00:01<00:00, 34.44it/s]\n"
     ]
    },
    {
     "name": "stdout",
     "output_type": "stream",
     "text": [
      "Epoch 53: train loss = 0.327671, val loss = 0.454071, time consumed = 0:28:14\n"
     ]
    },
    {
     "name": "stderr",
     "output_type": "stream",
     "text": [
      "Training batch\t: 100%|██████████| 140/140 [00:30<00:00,  4.61it/s]\n",
      "Validation batch: 100%|██████████| 35/35 [00:01<00:00, 34.11it/s]\n"
     ]
    },
    {
     "name": "stdout",
     "output_type": "stream",
     "text": [
      "Epoch 54: train loss = 0.325300, val loss = 0.446737, time consumed = 0:28:45\n"
     ]
    },
    {
     "name": "stderr",
     "output_type": "stream",
     "text": [
      "Training batch\t: 100%|██████████| 140/140 [00:30<00:00,  4.66it/s]\n",
      "Validation batch: 100%|██████████| 35/35 [00:01<00:00, 33.54it/s]\n"
     ]
    },
    {
     "name": "stdout",
     "output_type": "stream",
     "text": [
      "Epoch 55: train loss = 0.323042, val loss = 0.452765, time consumed = 0:29:16\n"
     ]
    },
    {
     "name": "stderr",
     "output_type": "stream",
     "text": [
      "Training batch\t: 100%|██████████| 140/140 [00:31<00:00,  4.49it/s]\n",
      "Validation batch: 100%|██████████| 35/35 [00:01<00:00, 33.92it/s]\n"
     ]
    },
    {
     "name": "stdout",
     "output_type": "stream",
     "text": [
      "Epoch 56: train loss = 0.321604, val loss = 0.453457, time consumed = 0:29:48\n",
      "Learning rate reduced after epoch 56\n",
      "\n"
     ]
    },
    {
     "name": "stderr",
     "output_type": "stream",
     "text": [
      "Training batch\t: 100%|██████████| 140/140 [00:30<00:00,  4.64it/s]\n",
      "Validation batch: 100%|██████████| 35/35 [00:01<00:00, 33.91it/s]\n"
     ]
    },
    {
     "name": "stdout",
     "output_type": "stream",
     "text": [
      "Epoch 57: train loss = 0.306704, val loss = 0.448546, time consumed = 0:30:20\n"
     ]
    },
    {
     "name": "stderr",
     "output_type": "stream",
     "text": [
      "Training batch\t: 100%|██████████| 140/140 [00:31<00:00,  4.44it/s]\n",
      "Validation batch: 100%|██████████| 35/35 [00:01<00:00, 31.15it/s]\n"
     ]
    },
    {
     "name": "stdout",
     "output_type": "stream",
     "text": [
      "Epoch 58: train loss = 0.305510, val loss = 0.448368, time consumed = 0:30:52\n"
     ]
    },
    {
     "name": "stderr",
     "output_type": "stream",
     "text": [
      "Training batch\t: 100%|██████████| 140/140 [00:30<00:00,  4.60it/s]\n",
      "Validation batch: 100%|██████████| 35/35 [00:01<00:00, 33.43it/s]\n"
     ]
    },
    {
     "name": "stdout",
     "output_type": "stream",
     "text": [
      "Epoch 59: train loss = 0.304713, val loss = 0.448183, time consumed = 0:31:24\n"
     ]
    },
    {
     "name": "stderr",
     "output_type": "stream",
     "text": [
      "Training batch\t: 100%|██████████| 140/140 [00:30<00:00,  4.61it/s]\n",
      "Validation batch: 100%|██████████| 35/35 [00:01<00:00, 33.59it/s]"
     ]
    },
    {
     "name": "stdout",
     "output_type": "stream",
     "text": [
      "Epoch 60: train loss = 0.304344, val loss = 0.448740, time consumed = 0:31:55\n",
      "Early stopping!\n"
     ]
    },
    {
     "name": "stderr",
     "output_type": "stream",
     "text": [
      "\n"
     ]
    }
   ],
   "source": [
    "# train the neural network\n",
    "histories, saved_path = train(\n",
    "    train_dl,\n",
    "    val_dl,\n",
    "    model,\n",
    "    loss_fn,\n",
    "    optimizer,\n",
    "    epochs,\n",
    "    early_stopping_patience,\n",
    "    lr_scheduler,\n",
    "    saved_path_prefix\n",
    ")"
   ]
  },
  {
   "cell_type": "code",
   "execution_count": 20,
   "metadata": {
    "colab": {
     "base_uri": "https://localhost:8080/",
     "height": 472
    },
    "id": "dCFX6pS2AHH9",
    "outputId": "c5f74988-fa72-427c-b115-334f5249e921"
   },
   "outputs": [
    {
     "data": {
      "image/png": "[encoded data removed]",
      "text/plain": [
       "<Figure size 640x480 with 1 Axes>"
      ]
     },
     "metadata": {},
     "output_type": "display_data"
    }
   ],
   "source": [
    "# plot the train vs. val loss history\n",
    "plt.figure()\n",
    "plt.plot(np.arange(len(histories['train_epoch'])), histories['train_epoch'], '-', label = 'train loss')\n",
    "plt.plot(np.arange(len(histories['val_epoch'])), histories['val_epoch'], '-', label = 'val loss')\n",
    "plt.title('train vs. validation loss history')\n",
    "plt.xlabel('epoch')\n",
    "plt.ylabel('loss')\n",
    "plt.legend()\n",
    "plt.show()"
   ]
  },
  {
   "cell_type": "markdown",
   "metadata": {},
   "source": [
    "### Step 4. Reload the best model\n",
    "\n",
    "The final model after training may mot be the best one saved during the training process.\n",
    "\n",
    "To use the best model, we need to reload it from the saved file."
   ]
  },
  {
   "cell_type": "code",
   "execution_count": 21,
   "metadata": {},
   "outputs": [
    {
     "data": {
      "text/plain": [
       "LSTMClassifier(\n",
       "  (embedding): Embedding(20000, 64)\n",
       "  (lstm): LSTM(64, 32, batch_first=True)\n",
       "  (fc): Linear(in_features=32, out_features=4, bias=True)\n",
       ")"
      ]
     },
     "execution_count": 21,
     "metadata": {},
     "output_type": "execute_result"
    }
   ],
   "source": [
    "# reload the best model\n",
    "model.load_state_dict(torch.load(saved_path))\n",
    "model.to(device)"
   ]
  },
  {
   "cell_type": "markdown",
   "metadata": {},
   "source": [
    "### Step 5. Evaluation using test set\n",
    "\n",
    "The code is the same as the previous sessions. We need to:\n",
    "- Define a `test()` function to make predictions on the test set\n",
    "- Compute the classification report for evaluation"
   ]
  },
  {
   "cell_type": "code",
   "execution_count": 22,
   "metadata": {
    "id": "0TUNCpaZASuz"
   },
   "outputs": [],
   "source": [
    "# define a function to make predictions on test dataset and evaluate the performance\n",
    "def test(dataloader, model, loss_fn):\n",
    "    logits, probs, preds = [], [], []\n",
    "    with torch.no_grad():\n",
    "        loss = 0.0\n",
    "        for (X, y, lens) in dataloader:\n",
    "            X, y, lens = X.to(device), y.to(device), lens.to(device)\n",
    "            batch_logits = model(X, lens)\n",
    "            batch_loss = loss_fn(batch_logits, y)\n",
    "            loss += batch_loss.item()\n",
    "\n",
    "            batch_probs = torch.softmax(batch_logits, dim = -1)\n",
    "            _, batch_preds = torch.max(batch_logits, 1)\n",
    "\n",
    "            logits.append(batch_logits.cpu().numpy())\n",
    "            probs.append(batch_probs.cpu().numpy())\n",
    "            preds.append(batch_preds.cpu().numpy())\n",
    "        loss /= len(dataloader)\n",
    "        print(f\"test loss = {loss}\")\n",
    "    return np.concatenate(logits), np.concatenate(probs), np.concatenate(preds), loss"
   ]
  },
  {
   "cell_type": "code",
   "execution_count": 23,
   "metadata": {
    "colab": {
     "base_uri": "https://localhost:8080/"
    },
    "id": "pmYq1lgBAUXb",
    "outputId": "cbb02b05-bf47-41bc-cd14-3a4acddd40bf"
   },
   "outputs": [
    {
     "name": "stdout",
     "output_type": "stream",
     "text": [
      "test loss = 0.4492099642753601\n",
      "              precision    recall  f1-score   support\n",
      "\n",
      "       World       0.89      0.82      0.85      9636\n",
      "      Sports       0.89      0.94      0.91      9598\n",
      "    Business       0.83      0.80      0.81      9574\n",
      "     Sci/Tec       0.79      0.83      0.81      9472\n",
      "\n",
      "    accuracy                           0.85     38280\n",
      "   macro avg       0.85      0.85      0.85     38280\n",
      "weighted avg       0.85      0.85      0.85     38280\n",
      "\n"
     ]
    }
   ],
   "source": [
    "# make prediction on test set and evaluate the performance\n",
    "test_logits, test_prob, test_pred, test_loss = test(test_dl, model, loss_fn)\n",
    "\n",
    "# obtain test labels\n",
    "test_label = []\n",
    "for (_, y, _) in test_dl:\n",
    "    test_label.extend(y.cpu().numpy())\n",
    "\n",
    "print(classification_report(test_label, test_pred, target_names = classes))"
   ]
  },
  {
   "cell_type": "markdown",
   "metadata": {},
   "source": [
    "### Step 6. Make predictions on unseen data\n",
    "\n",
    "We can use the trained model to classify unseen news into one of the pre-defined classes.\n",
    "\n",
    "To do that, we can define a `predict_text()` function:\n",
    "- Take a list of text as inputs\n",
    "- Perform necessary pre-processing steps\n",
    "    - Tokenization\n",
    "    - Encode tokens\n",
    "    - Pad the sequence of encode tokens\n",
    "- Feed the text to the network in batch and get predictions"
   ]
  },
  {
   "cell_type": "code",
   "execution_count": 24,
   "metadata": {},
   "outputs": [],
   "source": [
    "# define a function to predict the classes of a list of text\n",
    "def predict_text(model, text_list):\n",
    "    X, lens = [], []\n",
    "    for text in text_list:\n",
    "        tokens = preprocess_text(text)\n",
    "        encoded_tokens = encode_tokens(tokens)\n",
    "        X.append(torch.tensor(encoded_tokens, dtype=torch.int64))\n",
    "        lens.append(len(encoded_tokens))\n",
    "    X = pad_sequence(X, batch_first=True)\n",
    "    lens = torch.tensor(lens, dtype=torch.int64)\n",
    "    with torch.no_grad():\n",
    "        logits = model(X.to(device), lens.to(device))\n",
    "        _, preds = torch.max(logits, 1)\n",
    "    return preds.cpu().numpy()"
   ]
  },
  {
   "cell_type": "code",
   "execution_count": 25,
   "metadata": {},
   "outputs": [
    {
     "name": "stdout",
     "output_type": "stream",
     "text": [
      "Text: The stock market closed higher today with tech stocks leading the gains.\n",
      "Predicted category: Business\n",
      "\n",
      "Text: The national team won their match and qualified for the finals.\n",
      "Predicted category: Sports\n",
      "\n",
      "Text: A new species of dinosaur was discovered by scientists.\n",
      "Predicted category: Sci/Tec\n",
      "\n",
      "Text: The prime minister met with the president to discuss trade agreements.\n",
      "Predicted category: World\n",
      "\n"
     ]
    }
   ],
   "source": [
    "# example texts\n",
    "text_list = [\n",
    "    \"The stock market closed higher today with tech stocks leading the gains.\",\n",
    "    \"The national team won their match and qualified for the finals.\",\n",
    "    \"A new species of dinosaur was discovered by scientists.\",\n",
    "    \"The prime minister met with the president to discuss trade agreements.\"\n",
    "]\n",
    "# make prediction\n",
    "preds = predict_text(model, text_list)\n",
    "# print results\n",
    "for idx in range(len(text_list)):\n",
    "    text = text_list[idx]\n",
    "    pred = preds[idx]\n",
    "    print(f'Text: {text}\\nPredicted category: {classes[pred]}\\n')"
   ]
  },
  {
   "cell_type": "code",
   "execution_count": null,
   "metadata": {},
   "outputs": [],
   "source": []
  }
 ],
 "metadata": {
  "accelerator": "GPU",
  "colab": {
   "gpuType": "T4",
   "provenance": []
  },
  "kernelspec": {
   "display_name": ".venv",
   "language": "python",
   "name": "python3"
  },
  "language_info": {
   "codemirror_mode": {
    "name": "ipython",
    "version": 3
   },
   "file_extension": ".py",
   "mimetype": "text/x-python",
   "name": "python",
   "nbconvert_exporter": "python",
   "pygments_lexer": "ipython3",
   "version": "3.12.7"
  }
 },
 "nbformat": 4,
 "nbformat_minor": 4
}
