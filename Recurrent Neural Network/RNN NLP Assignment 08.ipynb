{
  "cells": [
    {
      "cell_type": "markdown",
      "id": "a3fa2d25-42a7-43d4-b6b0-6b677e98ac58",
      "metadata": {
        "id": "a3fa2d25-42a7-43d4-b6b0-6b677e98ac58"
      },
      "source": [
        "# Exercise 08 RNN & NLP - Assignment\n",
        "\n",
        "<span style=\"color:red\">**The submission deadline of this assignment is February 23, 2025 at 23:59.**</span>\n",
        "\n",
        "<span style=\"color:red\">**In addition to the executed Jupyter Notebook, please also submit the saved `.pth` file of the trained CNN on Learn.**</span>"
      ]
    },
    {
      "cell_type": "markdown",
      "id": "9df67127-182e-47ab-841c-e7c3fbcdcce7",
      "metadata": {
        "id": "9df67127-182e-47ab-841c-e7c3fbcdcce7"
      },
      "source": [
        "## Pedagogy\n",
        "\n",
        "This notebook contains both theoretical explanations and executable cells to execute your code.\n",
        "\n",
        "When you see the <span style=\"color:red\">**[TBC]**</span> (To Be Completed) sign, it means that you need to perform an action else besides executing the cells of code that already exist. These actions can be:\n",
        "- Complete the code with proper comments\n",
        "- Respond to a question\n",
        "- Write an analysis\n",
        "- etc."
      ]
    },
    {
      "cell_type": "markdown",
      "id": "88854a57-7ddb-4158-ae61-24501b32afcd",
      "metadata": {
        "id": "88854a57-7ddb-4158-ae61-24501b32afcd"
      },
      "source": [
        "## Requirement\n",
        "\n",
        "In this assignment, you are required to build a text-classifier using LSTM.\n",
        "\n",
        "The problem to be solved is to predict the class of a product based on the product page (title and description) on the E-commerce platform:\n",
        "\n",
        "|Class|Example product page|\n",
        "|-|-|\n",
        "|Books|Inner Engineering: A Yogi's Guide to Joy About the Author Sadhguru Jaggi VasudevSADHGURU is a yogi, mystic, and visionary who established the Isha Foundation, a nonprofit dedicated to the cultivation of human potential...|\n",
        "|Clothing & Accessories|Amour Butterfly Design Sunglasses For Girls 6+ Years { SKU16 } Amour Butterfly Design Sunglasses to give full protection. Very light weight. Highly durable. Its safe for kids eyes and give full eye protection against harmful uv rays...|\n",
        "|Electronics|Bluetooth Dongle USB CSR 4.0 Adapter Receiver Transfer Wireless Adapter for PC Computer Laptop Supports Windows 10 8.1 8 7 Vista XP - Upgraded Version...|\n",
        "|Household|Paper Plane Design Framed Wall Hanging Motivational Office Decor Art Prints (8.7 X 8.7 inch) - Set of 4 Painting made up in synthetic frame with uv textured print which gives multi effects and attracts towards it. This is an special series of paintings which makes your wall very beautiful and gives a royal touch...|\n",
        "\n",
        "<span style=\"color:red\">**[TBC]**</span> Please complete the following tasks:\n",
        "- Build the data pipeline\n",
        "- Create a LSTM-based text classifier\n",
        "- Train the network,\n",
        "- Reload the best model\n",
        "- Evaluation using the test set\n",
        "- Make predictions on unseen data"
      ]
    },
    {
      "cell_type": "markdown",
      "id": "60963915-5eda-4f40-bdb7-9b08b0f89f8a",
      "metadata": {
        "id": "60963915-5eda-4f40-bdb7-9b08b0f89f8a"
      },
      "source": [
        "### Pre-configure\n",
        "\n",
        "- Import necessary libraries\n",
        "- Specify the computation device of PyTorch"
      ]
    },
    {
      "cell_type": "code",
      "execution_count": 1,
      "id": "049b81b1-8cf6-457e-a2f5-7a43e528d90c",
      "metadata": {
        "id": "049b81b1-8cf6-457e-a2f5-7a43e528d90c",
        "colab": {
          "base_uri": "https://localhost:8080/"
        },
        "outputId": "e30c5cc9-4cd9-4fa5-858a-239cb192712b"
      },
      "outputs": [
        {
          "output_type": "stream",
          "name": "stdout",
          "text": [
            "Requirement already satisfied: nltk in /usr/local/lib/python3.11/dist-packages (3.9.1)\n",
            "Requirement already satisfied: click in /usr/local/lib/python3.11/dist-packages (from nltk) (8.1.8)\n",
            "Requirement already satisfied: joblib in /usr/local/lib/python3.11/dist-packages (from nltk) (1.4.2)\n",
            "Requirement already satisfied: regex>=2021.8.3 in /usr/local/lib/python3.11/dist-packages (from nltk) (2024.11.6)\n",
            "Requirement already satisfied: tqdm in /usr/local/lib/python3.11/dist-packages (from nltk) (4.67.1)\n"
          ]
        }
      ],
      "source": [
        "# [TBC] complete your code here with proper comments\n",
        "!pip install nltk"
      ]
    },
    {
      "cell_type": "code",
      "execution_count": 2,
      "id": "55dce7d0",
      "metadata": {
        "id": "55dce7d0"
      },
      "outputs": [],
      "source": [
        "# import libraries\n",
        "import os\n",
        "import warnings\n",
        "import datetime\n",
        "\n",
        "\n",
        "import numpy as np\n",
        "import pandas as pd\n",
        "import matplotlib.pyplot as plt\n",
        "\n",
        "from tqdm import tqdm\n",
        "from sklearn.metrics import classification_report\n",
        "\n",
        "import torch\n",
        "from torch import nn\n",
        "import torch.nn.functional as F\n",
        "from torch.utils.data import Dataset, DataLoader\n",
        "from torch.utils.data.dataset import random_split\n",
        "\n",
        "# for padding a list of variable length tensors to equal length\n",
        "from torch.nn.utils.rnn import pad_sequence\n",
        "# for packing a tensor containing padded sequences of variable length\n",
        "from torch.nn.utils.rnn import pack_padded_sequence\n",
        "\n",
        "import nltk\n",
        "# for removing stop words like 'the', 'and', etc\n",
        "# stop words don't provide useful information\n",
        "from nltk.corpus import stopwords\n",
        "# for tokenization\n",
        "from nltk.tokenize import word_tokenize\n",
        "\n",
        "# for counting the number of unique tokens\n",
        "from collections import Counter"
      ]
    },
    {
      "cell_type": "code",
      "execution_count": 6,
      "id": "4b0320d5",
      "metadata": {
        "colab": {
          "base_uri": "https://localhost:8080/"
        },
        "id": "4b0320d5",
        "outputId": "bd628430-636c-4db2-90ec-654e1d04f6e3"
      },
      "outputs": [
        {
          "output_type": "stream",
          "name": "stdout",
          "text": [
            "Using cuda device\n"
          ]
        }
      ],
      "source": [
        "# get cpu, gpu or mps device for computation\n",
        "device = (\n",
        "    \"cuda\"\n",
        "    if torch.cuda.is_available()\n",
        "    else \"mps\"\n",
        "    if torch.backends.mps.is_available()\n",
        "    else \"cpu\"\n",
        ")\n",
        "print(f\"Using {device} device\")"
      ]
    },
    {
      "cell_type": "markdown",
      "id": "eb3e537c-8db5-474f-8446-7db6e7968b63",
      "metadata": {
        "id": "eb3e537c-8db5-474f-8446-7db6e7968b63"
      },
      "source": [
        "## Task 1. Build the data pipeline\n",
        "\n",
        "You are required to use `ecommerce_dataset.csv` which can be downloaded from the Learn Platform.\n",
        "\n",
        "<span style=\"color:red\">**[TBC]**</span> You need to:\n",
        "- Load the dataset from the `ecommerce_dataset.csv` file\n",
        "- Pre-process the text\n",
        "    - Tokenization\n",
        "    - Remove stop words (like 'and', 'the') that don't provide useful information\n",
        "    - Remove non-alphabetic tokens\n",
        "- Create the vocabulary\n",
        "- Encode the tokens\n",
        "- Create the Dataset and the Dataloader\n",
        "    - Pad the tensors with variable lengths to equal length"
      ]
    },
    {
      "cell_type": "code",
      "execution_count": 8,
      "id": "7e0167f3",
      "metadata": {
        "colab": {
          "base_uri": "https://localhost:8080/",
          "height": 206
        },
        "id": "7e0167f3",
        "outputId": "cb747396-5c6e-43c4-bee1-ef612a7874c6"
      },
      "outputs": [
        {
          "output_type": "execute_result",
          "data": {
            "text/plain": [
              "                                                text  label\n",
              "0  Paper Plane Design Framed Wall Hanging Motivat...      3\n",
              "1  SAF 'Floral' Framed Painting (Wood, 30 inch x ...      3\n",
              "2  SAF 'UV Textured Modern Art Print Framed' Pain...      3\n",
              "3  SAF Flower Print Framed Painting (Synthetic, 1...      3\n",
              "4  Incredible Gifts India Wooden Happy Birthday U...      3"
            ],
            "text/html": [
              "\n",
              "  <div id=\"df-a0018350-b9ba-41ca-8cb4-22e2f14d5467\" class=\"colab-df-container\">\n",
              "    <div>\n",
              "<style scoped>\n",
              "    .dataframe tbody tr th:only-of-type {\n",
              "        vertical-align: middle;\n",
              "    }\n",
              "\n",
              "    .dataframe tbody tr th {\n",
              "        vertical-align: top;\n",
              "    }\n",
              "\n",
              "    .dataframe thead th {\n",
              "        text-align: right;\n",
              "    }\n",
              "</style>\n",
              "<table border=\"1\" class=\"dataframe\">\n",
              "  <thead>\n",
              "    <tr style=\"text-align: right;\">\n",
              "      <th></th>\n",
              "      <th>text</th>\n",
              "      <th>label</th>\n",
              "    </tr>\n",
              "  </thead>\n",
              "  <tbody>\n",
              "    <tr>\n",
              "      <th>0</th>\n",
              "      <td>Paper Plane Design Framed Wall Hanging Motivat...</td>\n",
              "      <td>3</td>\n",
              "    </tr>\n",
              "    <tr>\n",
              "      <th>1</th>\n",
              "      <td>SAF 'Floral' Framed Painting (Wood, 30 inch x ...</td>\n",
              "      <td>3</td>\n",
              "    </tr>\n",
              "    <tr>\n",
              "      <th>2</th>\n",
              "      <td>SAF 'UV Textured Modern Art Print Framed' Pain...</td>\n",
              "      <td>3</td>\n",
              "    </tr>\n",
              "    <tr>\n",
              "      <th>3</th>\n",
              "      <td>SAF Flower Print Framed Painting (Synthetic, 1...</td>\n",
              "      <td>3</td>\n",
              "    </tr>\n",
              "    <tr>\n",
              "      <th>4</th>\n",
              "      <td>Incredible Gifts India Wooden Happy Birthday U...</td>\n",
              "      <td>3</td>\n",
              "    </tr>\n",
              "  </tbody>\n",
              "</table>\n",
              "</div>\n",
              "    <div class=\"colab-df-buttons\">\n",
              "\n",
              "  <div class=\"colab-df-container\">\n",
              "    <button class=\"colab-df-convert\" onclick=\"convertToInteractive('df-a0018350-b9ba-41ca-8cb4-22e2f14d5467')\"\n",
              "            title=\"Convert this dataframe to an interactive table.\"\n",
              "            style=\"display:none;\">\n",
              "\n",
              "  <svg xmlns=\"http://www.w3.org/2000/svg\" height=\"24px\" viewBox=\"0 -960 960 960\">\n",
              "    <path d=\"M120-120v-720h720v720H120Zm60-500h600v-160H180v160Zm220 220h160v-160H400v160Zm0 220h160v-160H400v160ZM180-400h160v-160H180v160Zm440 0h160v-160H620v160ZM180-180h160v-160H180v160Zm440 0h160v-160H620v160Z\"/>\n",
              "  </svg>\n",
              "    </button>\n",
              "\n",
              "  <style>\n",
              "    .colab-df-container {\n",
              "      display:flex;\n",
              "      gap: 12px;\n",
              "    }\n",
              "\n",
              "    .colab-df-convert {\n",
              "      background-color: #E8F0FE;\n",
              "      border: none;\n",
              "      border-radius: 50%;\n",
              "      cursor: pointer;\n",
              "      display: none;\n",
              "      fill: #1967D2;\n",
              "      height: 32px;\n",
              "      padding: 0 0 0 0;\n",
              "      width: 32px;\n",
              "    }\n",
              "\n",
              "    .colab-df-convert:hover {\n",
              "      background-color: #E2EBFA;\n",
              "      box-shadow: 0px 1px 2px rgba(60, 64, 67, 0.3), 0px 1px 3px 1px rgba(60, 64, 67, 0.15);\n",
              "      fill: #174EA6;\n",
              "    }\n",
              "\n",
              "    .colab-df-buttons div {\n",
              "      margin-bottom: 4px;\n",
              "    }\n",
              "\n",
              "    [theme=dark] .colab-df-convert {\n",
              "      background-color: #3B4455;\n",
              "      fill: #D2E3FC;\n",
              "    }\n",
              "\n",
              "    [theme=dark] .colab-df-convert:hover {\n",
              "      background-color: #434B5C;\n",
              "      box-shadow: 0px 1px 3px 1px rgba(0, 0, 0, 0.15);\n",
              "      filter: drop-shadow(0px 1px 2px rgba(0, 0, 0, 0.3));\n",
              "      fill: #FFFFFF;\n",
              "    }\n",
              "  </style>\n",
              "\n",
              "    <script>\n",
              "      const buttonEl =\n",
              "        document.querySelector('#df-a0018350-b9ba-41ca-8cb4-22e2f14d5467 button.colab-df-convert');\n",
              "      buttonEl.style.display =\n",
              "        google.colab.kernel.accessAllowed ? 'block' : 'none';\n",
              "\n",
              "      async function convertToInteractive(key) {\n",
              "        const element = document.querySelector('#df-a0018350-b9ba-41ca-8cb4-22e2f14d5467');\n",
              "        const dataTable =\n",
              "          await google.colab.kernel.invokeFunction('convertToInteractive',\n",
              "                                                    [key], {});\n",
              "        if (!dataTable) return;\n",
              "\n",
              "        const docLinkHtml = 'Like what you see? Visit the ' +\n",
              "          '<a target=\"_blank\" href=https://colab.research.google.com/notebooks/data_table.ipynb>data table notebook</a>'\n",
              "          + ' to learn more about interactive tables.';\n",
              "        element.innerHTML = '';\n",
              "        dataTable['output_type'] = 'display_data';\n",
              "        await google.colab.output.renderOutput(dataTable, element);\n",
              "        const docLink = document.createElement('div');\n",
              "        docLink.innerHTML = docLinkHtml;\n",
              "        element.appendChild(docLink);\n",
              "      }\n",
              "    </script>\n",
              "  </div>\n",
              "\n",
              "\n",
              "<div id=\"df-e69e42f5-072d-413f-8d3e-f72772b4f26c\">\n",
              "  <button class=\"colab-df-quickchart\" onclick=\"quickchart('df-e69e42f5-072d-413f-8d3e-f72772b4f26c')\"\n",
              "            title=\"Suggest charts\"\n",
              "            style=\"display:none;\">\n",
              "\n",
              "<svg xmlns=\"http://www.w3.org/2000/svg\" height=\"24px\"viewBox=\"0 0 24 24\"\n",
              "     width=\"24px\">\n",
              "    <g>\n",
              "        <path d=\"M19 3H5c-1.1 0-2 .9-2 2v14c0 1.1.9 2 2 2h14c1.1 0 2-.9 2-2V5c0-1.1-.9-2-2-2zM9 17H7v-7h2v7zm4 0h-2V7h2v10zm4 0h-2v-4h2v4z\"/>\n",
              "    </g>\n",
              "</svg>\n",
              "  </button>\n",
              "\n",
              "<style>\n",
              "  .colab-df-quickchart {\n",
              "      --bg-color: #E8F0FE;\n",
              "      --fill-color: #1967D2;\n",
              "      --hover-bg-color: #E2EBFA;\n",
              "      --hover-fill-color: #174EA6;\n",
              "      --disabled-fill-color: #AAA;\n",
              "      --disabled-bg-color: #DDD;\n",
              "  }\n",
              "\n",
              "  [theme=dark] .colab-df-quickchart {\n",
              "      --bg-color: #3B4455;\n",
              "      --fill-color: #D2E3FC;\n",
              "      --hover-bg-color: #434B5C;\n",
              "      --hover-fill-color: #FFFFFF;\n",
              "      --disabled-bg-color: #3B4455;\n",
              "      --disabled-fill-color: #666;\n",
              "  }\n",
              "\n",
              "  .colab-df-quickchart {\n",
              "    background-color: var(--bg-color);\n",
              "    border: none;\n",
              "    border-radius: 50%;\n",
              "    cursor: pointer;\n",
              "    display: none;\n",
              "    fill: var(--fill-color);\n",
              "    height: 32px;\n",
              "    padding: 0;\n",
              "    width: 32px;\n",
              "  }\n",
              "\n",
              "  .colab-df-quickchart:hover {\n",
              "    background-color: var(--hover-bg-color);\n",
              "    box-shadow: 0 1px 2px rgba(60, 64, 67, 0.3), 0 1px 3px 1px rgba(60, 64, 67, 0.15);\n",
              "    fill: var(--button-hover-fill-color);\n",
              "  }\n",
              "\n",
              "  .colab-df-quickchart-complete:disabled,\n",
              "  .colab-df-quickchart-complete:disabled:hover {\n",
              "    background-color: var(--disabled-bg-color);\n",
              "    fill: var(--disabled-fill-color);\n",
              "    box-shadow: none;\n",
              "  }\n",
              "\n",
              "  .colab-df-spinner {\n",
              "    border: 2px solid var(--fill-color);\n",
              "    border-color: transparent;\n",
              "    border-bottom-color: var(--fill-color);\n",
              "    animation:\n",
              "      spin 1s steps(1) infinite;\n",
              "  }\n",
              "\n",
              "  @keyframes spin {\n",
              "    0% {\n",
              "      border-color: transparent;\n",
              "      border-bottom-color: var(--fill-color);\n",
              "      border-left-color: var(--fill-color);\n",
              "    }\n",
              "    20% {\n",
              "      border-color: transparent;\n",
              "      border-left-color: var(--fill-color);\n",
              "      border-top-color: var(--fill-color);\n",
              "    }\n",
              "    30% {\n",
              "      border-color: transparent;\n",
              "      border-left-color: var(--fill-color);\n",
              "      border-top-color: var(--fill-color);\n",
              "      border-right-color: var(--fill-color);\n",
              "    }\n",
              "    40% {\n",
              "      border-color: transparent;\n",
              "      border-right-color: var(--fill-color);\n",
              "      border-top-color: var(--fill-color);\n",
              "    }\n",
              "    60% {\n",
              "      border-color: transparent;\n",
              "      border-right-color: var(--fill-color);\n",
              "    }\n",
              "    80% {\n",
              "      border-color: transparent;\n",
              "      border-right-color: var(--fill-color);\n",
              "      border-bottom-color: var(--fill-color);\n",
              "    }\n",
              "    90% {\n",
              "      border-color: transparent;\n",
              "      border-bottom-color: var(--fill-color);\n",
              "    }\n",
              "  }\n",
              "</style>\n",
              "\n",
              "  <script>\n",
              "    async function quickchart(key) {\n",
              "      const quickchartButtonEl =\n",
              "        document.querySelector('#' + key + ' button');\n",
              "      quickchartButtonEl.disabled = true;  // To prevent multiple clicks.\n",
              "      quickchartButtonEl.classList.add('colab-df-spinner');\n",
              "      try {\n",
              "        const charts = await google.colab.kernel.invokeFunction(\n",
              "            'suggestCharts', [key], {});\n",
              "      } catch (error) {\n",
              "        console.error('Error during call to suggestCharts:', error);\n",
              "      }\n",
              "      quickchartButtonEl.classList.remove('colab-df-spinner');\n",
              "      quickchartButtonEl.classList.add('colab-df-quickchart-complete');\n",
              "    }\n",
              "    (() => {\n",
              "      let quickchartButtonEl =\n",
              "        document.querySelector('#df-e69e42f5-072d-413f-8d3e-f72772b4f26c button');\n",
              "      quickchartButtonEl.style.display =\n",
              "        google.colab.kernel.accessAllowed ? 'block' : 'none';\n",
              "    })();\n",
              "  </script>\n",
              "</div>\n",
              "\n",
              "    </div>\n",
              "  </div>\n"
            ],
            "application/vnd.google.colaboratory.intrinsic+json": {
              "type": "dataframe",
              "variable_name": "df",
              "summary": "{\n  \"name\": \"df\",\n  \"rows\": 50423,\n  \"fields\": [\n    {\n      \"column\": \"text\",\n      \"properties\": {\n        \"dtype\": \"string\",\n        \"num_unique_values\": 27801,\n        \"samples\": [\n          \"AV2 Women Cotton Maternity/Feeding/Nursing Nightwear Set Relax at ease wearing this soft and comfortable maternity feeding nightwear set from AV2. It's surely going to be your favourite nightsuit. This capri length solid nightwear set comprises of tshirt with graphic print, short sleeve along with discreet zipper for nursing use, while capri is elasticated with drawstring and a side pocket, This top and capri ni can be worn for casual lounge wear as well as regular maternity wear.\",\n          \"NIRVA Electric Automatic Yogurt Maker 1L Electronic Stainless Steel Mini Portable Yogurt Making Machine Yogurt Maker (Pink) Color Name:Pink   Add natural yogurt or culture to pre-boiled milk then get creative with flavors and ingredients. Fill yogurt with your favorite fruit or go for something a little naughtier such as chocolate chips \\u2013 the options are endless! to make yogurts just how you like them. Yogurt Maker automatically cools and ferments ingredients to create 100% natural healthy yogurt with no coloring's, preservatives or artificial flavors. Specification: Material: Plastic, 304 Stainless Steel Voltage: 220V/50Hz(please note if it fits your country standard) Power: 15W Frequency: 50Hz Capacity: 1L(approx) Feature: Make fresh and healthy yogurt in your own home quickly and easily, with the flip of a switch. 360\\u00b0stereo fermentation guarantee the taste of yogurt smooth and fine, mellow and fresh. Made from food grade quality materials, safe and harmless, way to use and eat yogurt. Auto control. You can just put the material inside, close the lid and power on to make the machine work. You can just put the material inside, close the lid and power on to make the machine work. Wih the help of it, you can make fresh yogurt at home by yourself quickly and easily.How To Use Step 1) Pour Fresh Milk into the stainless steel Container, Step 2) Add 2-3 table spoon of fresh plain Yogurt or 1 gram of yeast, Step 3) Switch on the maker and leave it for 8-9 hours, Step 4) After 8-9 hours, Your Yogurt is ready\",\n          \"SHOPTOSHOP Plastic Lint Cum Fuzz Remover for All Woolenss (Multicolour) Lint remover,remove the fuzz instantly without damaging clothes. It is made of plastic.\"\n        ],\n        \"semantic_type\": \"\",\n        \"description\": \"\"\n      }\n    },\n    {\n      \"column\": \"label\",\n      \"properties\": {\n        \"dtype\": \"number\",\n        \"std\": 1,\n        \"min\": 0,\n        \"max\": 3,\n        \"num_unique_values\": 4,\n        \"samples\": [\n          0,\n          2,\n          3\n        ],\n        \"semantic_type\": \"\",\n        \"description\": \"\"\n      }\n    }\n  ]\n}"
            }
          },
          "metadata": {},
          "execution_count": 8
        }
      ],
      "source": [
        "# load dataset\n",
        "df = pd.read_csv('ecommerce_dataset.csv')\n",
        "df.head()"
      ]
    },
    {
      "cell_type": "code",
      "execution_count": 9,
      "id": "08ad5dfa-45d0-4d34-8b9b-dd56b622c053",
      "metadata": {
        "id": "08ad5dfa-45d0-4d34-8b9b-dd56b622c053"
      },
      "outputs": [],
      "source": [
        "classes = ['Books', 'Clothing & Accessories', 'Electronics', 'Households']"
      ]
    },
    {
      "cell_type": "code",
      "execution_count": 10,
      "id": "ad17512e",
      "metadata": {
        "colab": {
          "base_uri": "https://localhost:8080/",
          "height": 313
        },
        "id": "ad17512e",
        "outputId": "edc9d0ef-7992-4f2e-c483-6462a81d620f"
      },
      "outputs": [
        {
          "output_type": "stream",
          "name": "stderr",
          "text": [
            "[nltk_data] Downloading package punkt to /root/nltk_data...\n",
            "[nltk_data]   Unzipping tokenizers/punkt.zip.\n",
            "[nltk_data] Downloading package stopwords to /root/nltk_data...\n",
            "[nltk_data]   Unzipping corpora/stopwords.zip.\n",
            "[nltk_data] Downloading package punkt_tab to /root/nltk_data...\n",
            "[nltk_data]   Unzipping tokenizers/punkt_tab.zip.\n"
          ]
        },
        {
          "output_type": "execute_result",
          "data": {
            "text/plain": [
              "                                                text  label  \\\n",
              "0  Paper Plane Design Framed Wall Hanging Motivat...      3   \n",
              "1  SAF 'Floral' Framed Painting (Wood, 30 inch x ...      3   \n",
              "2  SAF 'UV Textured Modern Art Print Framed' Pain...      3   \n",
              "3  SAF Flower Print Framed Painting (Synthetic, 1...      3   \n",
              "4  Incredible Gifts India Wooden Happy Birthday U...      3   \n",
              "\n",
              "                                              tokens  \n",
              "0  [paper, plane, design, framed, wall, hanging, ...  \n",
              "1  [saf, framed, painting, wood, inch, x, inch, s...  \n",
              "2  [saf, textured, modern, art, print, framed, pa...  \n",
              "3  [saf, flower, print, framed, painting, synthet...  \n",
              "4  [incredible, gifts, india, wooden, happy, birt...  "
            ],
            "text/html": [
              "\n",
              "  <div id=\"df-80039b4b-58a1-4e87-9676-4462bd65a3a9\" class=\"colab-df-container\">\n",
              "    <div>\n",
              "<style scoped>\n",
              "    .dataframe tbody tr th:only-of-type {\n",
              "        vertical-align: middle;\n",
              "    }\n",
              "\n",
              "    .dataframe tbody tr th {\n",
              "        vertical-align: top;\n",
              "    }\n",
              "\n",
              "    .dataframe thead th {\n",
              "        text-align: right;\n",
              "    }\n",
              "</style>\n",
              "<table border=\"1\" class=\"dataframe\">\n",
              "  <thead>\n",
              "    <tr style=\"text-align: right;\">\n",
              "      <th></th>\n",
              "      <th>text</th>\n",
              "      <th>label</th>\n",
              "      <th>tokens</th>\n",
              "    </tr>\n",
              "  </thead>\n",
              "  <tbody>\n",
              "    <tr>\n",
              "      <th>0</th>\n",
              "      <td>Paper Plane Design Framed Wall Hanging Motivat...</td>\n",
              "      <td>3</td>\n",
              "      <td>[paper, plane, design, framed, wall, hanging, ...</td>\n",
              "    </tr>\n",
              "    <tr>\n",
              "      <th>1</th>\n",
              "      <td>SAF 'Floral' Framed Painting (Wood, 30 inch x ...</td>\n",
              "      <td>3</td>\n",
              "      <td>[saf, framed, painting, wood, inch, x, inch, s...</td>\n",
              "    </tr>\n",
              "    <tr>\n",
              "      <th>2</th>\n",
              "      <td>SAF 'UV Textured Modern Art Print Framed' Pain...</td>\n",
              "      <td>3</td>\n",
              "      <td>[saf, textured, modern, art, print, framed, pa...</td>\n",
              "    </tr>\n",
              "    <tr>\n",
              "      <th>3</th>\n",
              "      <td>SAF Flower Print Framed Painting (Synthetic, 1...</td>\n",
              "      <td>3</td>\n",
              "      <td>[saf, flower, print, framed, painting, synthet...</td>\n",
              "    </tr>\n",
              "    <tr>\n",
              "      <th>4</th>\n",
              "      <td>Incredible Gifts India Wooden Happy Birthday U...</td>\n",
              "      <td>3</td>\n",
              "      <td>[incredible, gifts, india, wooden, happy, birt...</td>\n",
              "    </tr>\n",
              "  </tbody>\n",
              "</table>\n",
              "</div>\n",
              "    <div class=\"colab-df-buttons\">\n",
              "\n",
              "  <div class=\"colab-df-container\">\n",
              "    <button class=\"colab-df-convert\" onclick=\"convertToInteractive('df-80039b4b-58a1-4e87-9676-4462bd65a3a9')\"\n",
              "            title=\"Convert this dataframe to an interactive table.\"\n",
              "            style=\"display:none;\">\n",
              "\n",
              "  <svg xmlns=\"http://www.w3.org/2000/svg\" height=\"24px\" viewBox=\"0 -960 960 960\">\n",
              "    <path d=\"M120-120v-720h720v720H120Zm60-500h600v-160H180v160Zm220 220h160v-160H400v160Zm0 220h160v-160H400v160ZM180-400h160v-160H180v160Zm440 0h160v-160H620v160ZM180-180h160v-160H180v160Zm440 0h160v-160H620v160Z\"/>\n",
              "  </svg>\n",
              "    </button>\n",
              "\n",
              "  <style>\n",
              "    .colab-df-container {\n",
              "      display:flex;\n",
              "      gap: 12px;\n",
              "    }\n",
              "\n",
              "    .colab-df-convert {\n",
              "      background-color: #E8F0FE;\n",
              "      border: none;\n",
              "      border-radius: 50%;\n",
              "      cursor: pointer;\n",
              "      display: none;\n",
              "      fill: #1967D2;\n",
              "      height: 32px;\n",
              "      padding: 0 0 0 0;\n",
              "      width: 32px;\n",
              "    }\n",
              "\n",
              "    .colab-df-convert:hover {\n",
              "      background-color: #E2EBFA;\n",
              "      box-shadow: 0px 1px 2px rgba(60, 64, 67, 0.3), 0px 1px 3px 1px rgba(60, 64, 67, 0.15);\n",
              "      fill: #174EA6;\n",
              "    }\n",
              "\n",
              "    .colab-df-buttons div {\n",
              "      margin-bottom: 4px;\n",
              "    }\n",
              "\n",
              "    [theme=dark] .colab-df-convert {\n",
              "      background-color: #3B4455;\n",
              "      fill: #D2E3FC;\n",
              "    }\n",
              "\n",
              "    [theme=dark] .colab-df-convert:hover {\n",
              "      background-color: #434B5C;\n",
              "      box-shadow: 0px 1px 3px 1px rgba(0, 0, 0, 0.15);\n",
              "      filter: drop-shadow(0px 1px 2px rgba(0, 0, 0, 0.3));\n",
              "      fill: #FFFFFF;\n",
              "    }\n",
              "  </style>\n",
              "\n",
              "    <script>\n",
              "      const buttonEl =\n",
              "        document.querySelector('#df-80039b4b-58a1-4e87-9676-4462bd65a3a9 button.colab-df-convert');\n",
              "      buttonEl.style.display =\n",
              "        google.colab.kernel.accessAllowed ? 'block' : 'none';\n",
              "\n",
              "      async function convertToInteractive(key) {\n",
              "        const element = document.querySelector('#df-80039b4b-58a1-4e87-9676-4462bd65a3a9');\n",
              "        const dataTable =\n",
              "          await google.colab.kernel.invokeFunction('convertToInteractive',\n",
              "                                                    [key], {});\n",
              "        if (!dataTable) return;\n",
              "\n",
              "        const docLinkHtml = 'Like what you see? Visit the ' +\n",
              "          '<a target=\"_blank\" href=https://colab.research.google.com/notebooks/data_table.ipynb>data table notebook</a>'\n",
              "          + ' to learn more about interactive tables.';\n",
              "        element.innerHTML = '';\n",
              "        dataTable['output_type'] = 'display_data';\n",
              "        await google.colab.output.renderOutput(dataTable, element);\n",
              "        const docLink = document.createElement('div');\n",
              "        docLink.innerHTML = docLinkHtml;\n",
              "        element.appendChild(docLink);\n",
              "      }\n",
              "    </script>\n",
              "  </div>\n",
              "\n",
              "\n",
              "<div id=\"df-92c3bcb9-8022-4471-b2bb-df6af9614fc6\">\n",
              "  <button class=\"colab-df-quickchart\" onclick=\"quickchart('df-92c3bcb9-8022-4471-b2bb-df6af9614fc6')\"\n",
              "            title=\"Suggest charts\"\n",
              "            style=\"display:none;\">\n",
              "\n",
              "<svg xmlns=\"http://www.w3.org/2000/svg\" height=\"24px\"viewBox=\"0 0 24 24\"\n",
              "     width=\"24px\">\n",
              "    <g>\n",
              "        <path d=\"M19 3H5c-1.1 0-2 .9-2 2v14c0 1.1.9 2 2 2h14c1.1 0 2-.9 2-2V5c0-1.1-.9-2-2-2zM9 17H7v-7h2v7zm4 0h-2V7h2v10zm4 0h-2v-4h2v4z\"/>\n",
              "    </g>\n",
              "</svg>\n",
              "  </button>\n",
              "\n",
              "<style>\n",
              "  .colab-df-quickchart {\n",
              "      --bg-color: #E8F0FE;\n",
              "      --fill-color: #1967D2;\n",
              "      --hover-bg-color: #E2EBFA;\n",
              "      --hover-fill-color: #174EA6;\n",
              "      --disabled-fill-color: #AAA;\n",
              "      --disabled-bg-color: #DDD;\n",
              "  }\n",
              "\n",
              "  [theme=dark] .colab-df-quickchart {\n",
              "      --bg-color: #3B4455;\n",
              "      --fill-color: #D2E3FC;\n",
              "      --hover-bg-color: #434B5C;\n",
              "      --hover-fill-color: #FFFFFF;\n",
              "      --disabled-bg-color: #3B4455;\n",
              "      --disabled-fill-color: #666;\n",
              "  }\n",
              "\n",
              "  .colab-df-quickchart {\n",
              "    background-color: var(--bg-color);\n",
              "    border: none;\n",
              "    border-radius: 50%;\n",
              "    cursor: pointer;\n",
              "    display: none;\n",
              "    fill: var(--fill-color);\n",
              "    height: 32px;\n",
              "    padding: 0;\n",
              "    width: 32px;\n",
              "  }\n",
              "\n",
              "  .colab-df-quickchart:hover {\n",
              "    background-color: var(--hover-bg-color);\n",
              "    box-shadow: 0 1px 2px rgba(60, 64, 67, 0.3), 0 1px 3px 1px rgba(60, 64, 67, 0.15);\n",
              "    fill: var(--button-hover-fill-color);\n",
              "  }\n",
              "\n",
              "  .colab-df-quickchart-complete:disabled,\n",
              "  .colab-df-quickchart-complete:disabled:hover {\n",
              "    background-color: var(--disabled-bg-color);\n",
              "    fill: var(--disabled-fill-color);\n",
              "    box-shadow: none;\n",
              "  }\n",
              "\n",
              "  .colab-df-spinner {\n",
              "    border: 2px solid var(--fill-color);\n",
              "    border-color: transparent;\n",
              "    border-bottom-color: var(--fill-color);\n",
              "    animation:\n",
              "      spin 1s steps(1) infinite;\n",
              "  }\n",
              "\n",
              "  @keyframes spin {\n",
              "    0% {\n",
              "      border-color: transparent;\n",
              "      border-bottom-color: var(--fill-color);\n",
              "      border-left-color: var(--fill-color);\n",
              "    }\n",
              "    20% {\n",
              "      border-color: transparent;\n",
              "      border-left-color: var(--fill-color);\n",
              "      border-top-color: var(--fill-color);\n",
              "    }\n",
              "    30% {\n",
              "      border-color: transparent;\n",
              "      border-left-color: var(--fill-color);\n",
              "      border-top-color: var(--fill-color);\n",
              "      border-right-color: var(--fill-color);\n",
              "    }\n",
              "    40% {\n",
              "      border-color: transparent;\n",
              "      border-right-color: var(--fill-color);\n",
              "      border-top-color: var(--fill-color);\n",
              "    }\n",
              "    60% {\n",
              "      border-color: transparent;\n",
              "      border-right-color: var(--fill-color);\n",
              "    }\n",
              "    80% {\n",
              "      border-color: transparent;\n",
              "      border-right-color: var(--fill-color);\n",
              "      border-bottom-color: var(--fill-color);\n",
              "    }\n",
              "    90% {\n",
              "      border-color: transparent;\n",
              "      border-bottom-color: var(--fill-color);\n",
              "    }\n",
              "  }\n",
              "</style>\n",
              "\n",
              "  <script>\n",
              "    async function quickchart(key) {\n",
              "      const quickchartButtonEl =\n",
              "        document.querySelector('#' + key + ' button');\n",
              "      quickchartButtonEl.disabled = true;  // To prevent multiple clicks.\n",
              "      quickchartButtonEl.classList.add('colab-df-spinner');\n",
              "      try {\n",
              "        const charts = await google.colab.kernel.invokeFunction(\n",
              "            'suggestCharts', [key], {});\n",
              "      } catch (error) {\n",
              "        console.error('Error during call to suggestCharts:', error);\n",
              "      }\n",
              "      quickchartButtonEl.classList.remove('colab-df-spinner');\n",
              "      quickchartButtonEl.classList.add('colab-df-quickchart-complete');\n",
              "    }\n",
              "    (() => {\n",
              "      let quickchartButtonEl =\n",
              "        document.querySelector('#df-92c3bcb9-8022-4471-b2bb-df6af9614fc6 button');\n",
              "      quickchartButtonEl.style.display =\n",
              "        google.colab.kernel.accessAllowed ? 'block' : 'none';\n",
              "    })();\n",
              "  </script>\n",
              "</div>\n",
              "\n",
              "    </div>\n",
              "  </div>\n"
            ],
            "application/vnd.google.colaboratory.intrinsic+json": {
              "type": "dataframe",
              "variable_name": "df",
              "summary": "{\n  \"name\": \"df\",\n  \"rows\": 50423,\n  \"fields\": [\n    {\n      \"column\": \"text\",\n      \"properties\": {\n        \"dtype\": \"string\",\n        \"num_unique_values\": 27801,\n        \"samples\": [\n          \"AV2 Women Cotton Maternity/Feeding/Nursing Nightwear Set Relax at ease wearing this soft and comfortable maternity feeding nightwear set from AV2. It's surely going to be your favourite nightsuit. This capri length solid nightwear set comprises of tshirt with graphic print, short sleeve along with discreet zipper for nursing use, while capri is elasticated with drawstring and a side pocket, This top and capri ni can be worn for casual lounge wear as well as regular maternity wear.\",\n          \"NIRVA Electric Automatic Yogurt Maker 1L Electronic Stainless Steel Mini Portable Yogurt Making Machine Yogurt Maker (Pink) Color Name:Pink   Add natural yogurt or culture to pre-boiled milk then get creative with flavors and ingredients. Fill yogurt with your favorite fruit or go for something a little naughtier such as chocolate chips \\u2013 the options are endless! to make yogurts just how you like them. Yogurt Maker automatically cools and ferments ingredients to create 100% natural healthy yogurt with no coloring's, preservatives or artificial flavors. Specification: Material: Plastic, 304 Stainless Steel Voltage: 220V/50Hz(please note if it fits your country standard) Power: 15W Frequency: 50Hz Capacity: 1L(approx) Feature: Make fresh and healthy yogurt in your own home quickly and easily, with the flip of a switch. 360\\u00b0stereo fermentation guarantee the taste of yogurt smooth and fine, mellow and fresh. Made from food grade quality materials, safe and harmless, way to use and eat yogurt. Auto control. You can just put the material inside, close the lid and power on to make the machine work. You can just put the material inside, close the lid and power on to make the machine work. Wih the help of it, you can make fresh yogurt at home by yourself quickly and easily.How To Use Step 1) Pour Fresh Milk into the stainless steel Container, Step 2) Add 2-3 table spoon of fresh plain Yogurt or 1 gram of yeast, Step 3) Switch on the maker and leave it for 8-9 hours, Step 4) After 8-9 hours, Your Yogurt is ready\",\n          \"SHOPTOSHOP Plastic Lint Cum Fuzz Remover for All Woolenss (Multicolour) Lint remover,remove the fuzz instantly without damaging clothes. It is made of plastic.\"\n        ],\n        \"semantic_type\": \"\",\n        \"description\": \"\"\n      }\n    },\n    {\n      \"column\": \"label\",\n      \"properties\": {\n        \"dtype\": \"number\",\n        \"std\": 1,\n        \"min\": 0,\n        \"max\": 3,\n        \"num_unique_values\": 4,\n        \"samples\": [\n          0,\n          2,\n          3\n        ],\n        \"semantic_type\": \"\",\n        \"description\": \"\"\n      }\n    },\n    {\n      \"column\": \"tokens\",\n      \"properties\": {\n        \"dtype\": \"object\",\n        \"semantic_type\": \"\",\n        \"description\": \"\"\n      }\n    }\n  ]\n}"
            }
          },
          "metadata": {},
          "execution_count": 10
        }
      ],
      "source": [
        "# ensure NLTK resources are downloaded\n",
        "nltk.download('punkt')\n",
        "nltk.download('stopwords')\n",
        "nltk.download('punkt_tab')\n",
        "\n",
        "# set the stop words to the English mode\n",
        "stop_words = set(stopwords.words('english'))\n",
        "\n",
        "# define a function for pre-processing\n",
        "def preprocess_text(text):\n",
        "    # Tokenize\n",
        "    tokens = word_tokenize(text.lower())\n",
        "    # Remove stopwords and non-alphabetic tokens\n",
        "    tokens = [word for word in tokens if word.isalpha() and word not in stop_words]\n",
        "    return tokens\n",
        "\n",
        "# apply preprocessing to the 'text' column\n",
        "df['tokens'] = df['text'].apply(preprocess_text)\n",
        "\n",
        "# show the first five rows\n",
        "df.head()"
      ]
    },
    {
      "cell_type": "markdown",
      "id": "7549a632",
      "metadata": {
        "id": "7549a632"
      },
      "source": [
        "#### Create the vocabulary"
      ]
    },
    {
      "cell_type": "code",
      "execution_count": 11,
      "id": "c52abf46",
      "metadata": {
        "colab": {
          "base_uri": "https://localhost:8080/"
        },
        "id": "c52abf46",
        "outputId": "2da14f2d-71f2-4733-fa27-f855de16f7c1"
      },
      "outputs": [
        {
          "output_type": "stream",
          "name": "stdout",
          "text": [
            "The number of unique tokens in the vocabulary: 60743\n",
            "The number of most common tokens preserved: 20000\n"
          ]
        }
      ],
      "source": [
        "# build vocabulary\n",
        "all_tokens = [token for tokens in df['tokens'] for token in tokens]\n",
        "token_counts = Counter(all_tokens)\n",
        "print('The number of unique tokens in the vocabulary:', len(token_counts))\n",
        "\n",
        "# keep the most common token\n",
        "vocab_size = 20000\n",
        "common_tokens = token_counts.most_common(vocab_size - 2)  # Reserve two spots for PAD and UNK tokens\n",
        "print('The number of most common tokens preserved:', vocab_size)\n",
        "\n",
        "# create token to index mapping\n",
        "token_to_idx = {token: idx+2 for idx, (token, _) in enumerate(common_tokens)}\n",
        "# '<PAD>' is used to represent padding tokens at the end of text\n",
        "token_to_idx['<PAD>'] = 0\n",
        "# '<UNK>' is used to represent unknown tokens that are not included in the vocabulary\n",
        "token_to_idx['<UNK>'] = 1\n",
        "\n",
        "# create index to token mapping\n",
        "idx_to_token = {idx: token for token, idx in token_to_idx.items()}"
      ]
    },
    {
      "cell_type": "code",
      "execution_count": 12,
      "id": "bd695fd4",
      "metadata": {
        "colab": {
          "base_uri": "https://localhost:8080/",
          "height": 293
        },
        "id": "bd695fd4",
        "outputId": "55dd811a-6244-43d4-e762-55f5d9bbab08"
      },
      "outputs": [
        {
          "output_type": "execute_result",
          "data": {
            "text/plain": [
              "                                                text  label  \\\n",
              "0  Paper Plane Design Framed Wall Hanging Motivat...      3   \n",
              "1  SAF 'Floral' Framed Painting (Wood, 30 inch x ...      3   \n",
              "2  SAF 'UV Textured Modern Art Print Framed' Pain...      3   \n",
              "3  SAF Flower Print Framed Painting (Synthetic, 1...      3   \n",
              "4  Incredible Gifts India Wooden Happy Birthday U...      3   \n",
              "\n",
              "                                              tokens  \\\n",
              "0  [paper, plane, design, framed, wall, hanging, ...   \n",
              "1  [saf, framed, painting, wood, inch, x, inch, s...   \n",
              "2  [saf, textured, modern, art, print, framed, pa...   \n",
              "3  [saf, flower, print, framed, painting, synthet...   \n",
              "4  [incredible, gifts, india, wooden, happy, birt...   \n",
              "\n",
              "                                      encoded_tokens  \n",
              "0  [248, 3358, 14, 5264, 76, 552, 5036, 158, 321,...  \n",
              "1  [8132, 5264, 1375, 209, 99, 3, 99, 249, 835, 8...  \n",
              "2  [8132, 2757, 216, 301, 267, 5264, 1375, 2646, ...  \n",
              "3  [8132, 902, 267, 5264, 1375, 2646, 99, 3, 99, ...  \n",
              "4  [1658, 1196, 49, 275, 1209, 1718, 155, 4870, 2...  "
            ],
            "text/html": [
              "\n",
              "  <div id=\"df-862a9276-690b-482e-8571-0a2576f5049d\" class=\"colab-df-container\">\n",
              "    <div>\n",
              "<style scoped>\n",
              "    .dataframe tbody tr th:only-of-type {\n",
              "        vertical-align: middle;\n",
              "    }\n",
              "\n",
              "    .dataframe tbody tr th {\n",
              "        vertical-align: top;\n",
              "    }\n",
              "\n",
              "    .dataframe thead th {\n",
              "        text-align: right;\n",
              "    }\n",
              "</style>\n",
              "<table border=\"1\" class=\"dataframe\">\n",
              "  <thead>\n",
              "    <tr style=\"text-align: right;\">\n",
              "      <th></th>\n",
              "      <th>text</th>\n",
              "      <th>label</th>\n",
              "      <th>tokens</th>\n",
              "      <th>encoded_tokens</th>\n",
              "    </tr>\n",
              "  </thead>\n",
              "  <tbody>\n",
              "    <tr>\n",
              "      <th>0</th>\n",
              "      <td>Paper Plane Design Framed Wall Hanging Motivat...</td>\n",
              "      <td>3</td>\n",
              "      <td>[paper, plane, design, framed, wall, hanging, ...</td>\n",
              "      <td>[248, 3358, 14, 5264, 76, 552, 5036, 158, 321,...</td>\n",
              "    </tr>\n",
              "    <tr>\n",
              "      <th>1</th>\n",
              "      <td>SAF 'Floral' Framed Painting (Wood, 30 inch x ...</td>\n",
              "      <td>3</td>\n",
              "      <td>[saf, framed, painting, wood, inch, x, inch, s...</td>\n",
              "      <td>[8132, 5264, 1375, 209, 99, 3, 99, 249, 835, 8...</td>\n",
              "    </tr>\n",
              "    <tr>\n",
              "      <th>2</th>\n",
              "      <td>SAF 'UV Textured Modern Art Print Framed' Pain...</td>\n",
              "      <td>3</td>\n",
              "      <td>[saf, textured, modern, art, print, framed, pa...</td>\n",
              "      <td>[8132, 2757, 216, 301, 267, 5264, 1375, 2646, ...</td>\n",
              "    </tr>\n",
              "    <tr>\n",
              "      <th>3</th>\n",
              "      <td>SAF Flower Print Framed Painting (Synthetic, 1...</td>\n",
              "      <td>3</td>\n",
              "      <td>[saf, flower, print, framed, painting, synthet...</td>\n",
              "      <td>[8132, 902, 267, 5264, 1375, 2646, 99, 3, 99, ...</td>\n",
              "    </tr>\n",
              "    <tr>\n",
              "      <th>4</th>\n",
              "      <td>Incredible Gifts India Wooden Happy Birthday U...</td>\n",
              "      <td>3</td>\n",
              "      <td>[incredible, gifts, india, wooden, happy, birt...</td>\n",
              "      <td>[1658, 1196, 49, 275, 1209, 1718, 155, 4870, 2...</td>\n",
              "    </tr>\n",
              "  </tbody>\n",
              "</table>\n",
              "</div>\n",
              "    <div class=\"colab-df-buttons\">\n",
              "\n",
              "  <div class=\"colab-df-container\">\n",
              "    <button class=\"colab-df-convert\" onclick=\"convertToInteractive('df-862a9276-690b-482e-8571-0a2576f5049d')\"\n",
              "            title=\"Convert this dataframe to an interactive table.\"\n",
              "            style=\"display:none;\">\n",
              "\n",
              "  <svg xmlns=\"http://www.w3.org/2000/svg\" height=\"24px\" viewBox=\"0 -960 960 960\">\n",
              "    <path d=\"M120-120v-720h720v720H120Zm60-500h600v-160H180v160Zm220 220h160v-160H400v160Zm0 220h160v-160H400v160ZM180-400h160v-160H180v160Zm440 0h160v-160H620v160ZM180-180h160v-160H180v160Zm440 0h160v-160H620v160Z\"/>\n",
              "  </svg>\n",
              "    </button>\n",
              "\n",
              "  <style>\n",
              "    .colab-df-container {\n",
              "      display:flex;\n",
              "      gap: 12px;\n",
              "    }\n",
              "\n",
              "    .colab-df-convert {\n",
              "      background-color: #E8F0FE;\n",
              "      border: none;\n",
              "      border-radius: 50%;\n",
              "      cursor: pointer;\n",
              "      display: none;\n",
              "      fill: #1967D2;\n",
              "      height: 32px;\n",
              "      padding: 0 0 0 0;\n",
              "      width: 32px;\n",
              "    }\n",
              "\n",
              "    .colab-df-convert:hover {\n",
              "      background-color: #E2EBFA;\n",
              "      box-shadow: 0px 1px 2px rgba(60, 64, 67, 0.3), 0px 1px 3px 1px rgba(60, 64, 67, 0.15);\n",
              "      fill: #174EA6;\n",
              "    }\n",
              "\n",
              "    .colab-df-buttons div {\n",
              "      margin-bottom: 4px;\n",
              "    }\n",
              "\n",
              "    [theme=dark] .colab-df-convert {\n",
              "      background-color: #3B4455;\n",
              "      fill: #D2E3FC;\n",
              "    }\n",
              "\n",
              "    [theme=dark] .colab-df-convert:hover {\n",
              "      background-color: #434B5C;\n",
              "      box-shadow: 0px 1px 3px 1px rgba(0, 0, 0, 0.15);\n",
              "      filter: drop-shadow(0px 1px 2px rgba(0, 0, 0, 0.3));\n",
              "      fill: #FFFFFF;\n",
              "    }\n",
              "  </style>\n",
              "\n",
              "    <script>\n",
              "      const buttonEl =\n",
              "        document.querySelector('#df-862a9276-690b-482e-8571-0a2576f5049d button.colab-df-convert');\n",
              "      buttonEl.style.display =\n",
              "        google.colab.kernel.accessAllowed ? 'block' : 'none';\n",
              "\n",
              "      async function convertToInteractive(key) {\n",
              "        const element = document.querySelector('#df-862a9276-690b-482e-8571-0a2576f5049d');\n",
              "        const dataTable =\n",
              "          await google.colab.kernel.invokeFunction('convertToInteractive',\n",
              "                                                    [key], {});\n",
              "        if (!dataTable) return;\n",
              "\n",
              "        const docLinkHtml = 'Like what you see? Visit the ' +\n",
              "          '<a target=\"_blank\" href=https://colab.research.google.com/notebooks/data_table.ipynb>data table notebook</a>'\n",
              "          + ' to learn more about interactive tables.';\n",
              "        element.innerHTML = '';\n",
              "        dataTable['output_type'] = 'display_data';\n",
              "        await google.colab.output.renderOutput(dataTable, element);\n",
              "        const docLink = document.createElement('div');\n",
              "        docLink.innerHTML = docLinkHtml;\n",
              "        element.appendChild(docLink);\n",
              "      }\n",
              "    </script>\n",
              "  </div>\n",
              "\n",
              "\n",
              "<div id=\"df-37101079-13dc-4ade-9675-e52846345a44\">\n",
              "  <button class=\"colab-df-quickchart\" onclick=\"quickchart('df-37101079-13dc-4ade-9675-e52846345a44')\"\n",
              "            title=\"Suggest charts\"\n",
              "            style=\"display:none;\">\n",
              "\n",
              "<svg xmlns=\"http://www.w3.org/2000/svg\" height=\"24px\"viewBox=\"0 0 24 24\"\n",
              "     width=\"24px\">\n",
              "    <g>\n",
              "        <path d=\"M19 3H5c-1.1 0-2 .9-2 2v14c0 1.1.9 2 2 2h14c1.1 0 2-.9 2-2V5c0-1.1-.9-2-2-2zM9 17H7v-7h2v7zm4 0h-2V7h2v10zm4 0h-2v-4h2v4z\"/>\n",
              "    </g>\n",
              "</svg>\n",
              "  </button>\n",
              "\n",
              "<style>\n",
              "  .colab-df-quickchart {\n",
              "      --bg-color: #E8F0FE;\n",
              "      --fill-color: #1967D2;\n",
              "      --hover-bg-color: #E2EBFA;\n",
              "      --hover-fill-color: #174EA6;\n",
              "      --disabled-fill-color: #AAA;\n",
              "      --disabled-bg-color: #DDD;\n",
              "  }\n",
              "\n",
              "  [theme=dark] .colab-df-quickchart {\n",
              "      --bg-color: #3B4455;\n",
              "      --fill-color: #D2E3FC;\n",
              "      --hover-bg-color: #434B5C;\n",
              "      --hover-fill-color: #FFFFFF;\n",
              "      --disabled-bg-color: #3B4455;\n",
              "      --disabled-fill-color: #666;\n",
              "  }\n",
              "\n",
              "  .colab-df-quickchart {\n",
              "    background-color: var(--bg-color);\n",
              "    border: none;\n",
              "    border-radius: 50%;\n",
              "    cursor: pointer;\n",
              "    display: none;\n",
              "    fill: var(--fill-color);\n",
              "    height: 32px;\n",
              "    padding: 0;\n",
              "    width: 32px;\n",
              "  }\n",
              "\n",
              "  .colab-df-quickchart:hover {\n",
              "    background-color: var(--hover-bg-color);\n",
              "    box-shadow: 0 1px 2px rgba(60, 64, 67, 0.3), 0 1px 3px 1px rgba(60, 64, 67, 0.15);\n",
              "    fill: var(--button-hover-fill-color);\n",
              "  }\n",
              "\n",
              "  .colab-df-quickchart-complete:disabled,\n",
              "  .colab-df-quickchart-complete:disabled:hover {\n",
              "    background-color: var(--disabled-bg-color);\n",
              "    fill: var(--disabled-fill-color);\n",
              "    box-shadow: none;\n",
              "  }\n",
              "\n",
              "  .colab-df-spinner {\n",
              "    border: 2px solid var(--fill-color);\n",
              "    border-color: transparent;\n",
              "    border-bottom-color: var(--fill-color);\n",
              "    animation:\n",
              "      spin 1s steps(1) infinite;\n",
              "  }\n",
              "\n",
              "  @keyframes spin {\n",
              "    0% {\n",
              "      border-color: transparent;\n",
              "      border-bottom-color: var(--fill-color);\n",
              "      border-left-color: var(--fill-color);\n",
              "    }\n",
              "    20% {\n",
              "      border-color: transparent;\n",
              "      border-left-color: var(--fill-color);\n",
              "      border-top-color: var(--fill-color);\n",
              "    }\n",
              "    30% {\n",
              "      border-color: transparent;\n",
              "      border-left-color: var(--fill-color);\n",
              "      border-top-color: var(--fill-color);\n",
              "      border-right-color: var(--fill-color);\n",
              "    }\n",
              "    40% {\n",
              "      border-color: transparent;\n",
              "      border-right-color: var(--fill-color);\n",
              "      border-top-color: var(--fill-color);\n",
              "    }\n",
              "    60% {\n",
              "      border-color: transparent;\n",
              "      border-right-color: var(--fill-color);\n",
              "    }\n",
              "    80% {\n",
              "      border-color: transparent;\n",
              "      border-right-color: var(--fill-color);\n",
              "      border-bottom-color: var(--fill-color);\n",
              "    }\n",
              "    90% {\n",
              "      border-color: transparent;\n",
              "      border-bottom-color: var(--fill-color);\n",
              "    }\n",
              "  }\n",
              "</style>\n",
              "\n",
              "  <script>\n",
              "    async function quickchart(key) {\n",
              "      const quickchartButtonEl =\n",
              "        document.querySelector('#' + key + ' button');\n",
              "      quickchartButtonEl.disabled = true;  // To prevent multiple clicks.\n",
              "      quickchartButtonEl.classList.add('colab-df-spinner');\n",
              "      try {\n",
              "        const charts = await google.colab.kernel.invokeFunction(\n",
              "            'suggestCharts', [key], {});\n",
              "      } catch (error) {\n",
              "        console.error('Error during call to suggestCharts:', error);\n",
              "      }\n",
              "      quickchartButtonEl.classList.remove('colab-df-spinner');\n",
              "      quickchartButtonEl.classList.add('colab-df-quickchart-complete');\n",
              "    }\n",
              "    (() => {\n",
              "      let quickchartButtonEl =\n",
              "        document.querySelector('#df-37101079-13dc-4ade-9675-e52846345a44 button');\n",
              "      quickchartButtonEl.style.display =\n",
              "        google.colab.kernel.accessAllowed ? 'block' : 'none';\n",
              "    })();\n",
              "  </script>\n",
              "</div>\n",
              "\n",
              "    </div>\n",
              "  </div>\n"
            ],
            "application/vnd.google.colaboratory.intrinsic+json": {
              "type": "dataframe",
              "variable_name": "df",
              "summary": "{\n  \"name\": \"df\",\n  \"rows\": 50423,\n  \"fields\": [\n    {\n      \"column\": \"text\",\n      \"properties\": {\n        \"dtype\": \"string\",\n        \"num_unique_values\": 27801,\n        \"samples\": [\n          \"AV2 Women Cotton Maternity/Feeding/Nursing Nightwear Set Relax at ease wearing this soft and comfortable maternity feeding nightwear set from AV2. It's surely going to be your favourite nightsuit. This capri length solid nightwear set comprises of tshirt with graphic print, short sleeve along with discreet zipper for nursing use, while capri is elasticated with drawstring and a side pocket, This top and capri ni can be worn for casual lounge wear as well as regular maternity wear.\",\n          \"NIRVA Electric Automatic Yogurt Maker 1L Electronic Stainless Steel Mini Portable Yogurt Making Machine Yogurt Maker (Pink) Color Name:Pink   Add natural yogurt or culture to pre-boiled milk then get creative with flavors and ingredients. Fill yogurt with your favorite fruit or go for something a little naughtier such as chocolate chips \\u2013 the options are endless! to make yogurts just how you like them. Yogurt Maker automatically cools and ferments ingredients to create 100% natural healthy yogurt with no coloring's, preservatives or artificial flavors. Specification: Material: Plastic, 304 Stainless Steel Voltage: 220V/50Hz(please note if it fits your country standard) Power: 15W Frequency: 50Hz Capacity: 1L(approx) Feature: Make fresh and healthy yogurt in your own home quickly and easily, with the flip of a switch. 360\\u00b0stereo fermentation guarantee the taste of yogurt smooth and fine, mellow and fresh. Made from food grade quality materials, safe and harmless, way to use and eat yogurt. Auto control. You can just put the material inside, close the lid and power on to make the machine work. You can just put the material inside, close the lid and power on to make the machine work. Wih the help of it, you can make fresh yogurt at home by yourself quickly and easily.How To Use Step 1) Pour Fresh Milk into the stainless steel Container, Step 2) Add 2-3 table spoon of fresh plain Yogurt or 1 gram of yeast, Step 3) Switch on the maker and leave it for 8-9 hours, Step 4) After 8-9 hours, Your Yogurt is ready\",\n          \"SHOPTOSHOP Plastic Lint Cum Fuzz Remover for All Woolenss (Multicolour) Lint remover,remove the fuzz instantly without damaging clothes. It is made of plastic.\"\n        ],\n        \"semantic_type\": \"\",\n        \"description\": \"\"\n      }\n    },\n    {\n      \"column\": \"label\",\n      \"properties\": {\n        \"dtype\": \"number\",\n        \"std\": 1,\n        \"min\": 0,\n        \"max\": 3,\n        \"num_unique_values\": 4,\n        \"samples\": [\n          0,\n          2,\n          3\n        ],\n        \"semantic_type\": \"\",\n        \"description\": \"\"\n      }\n    },\n    {\n      \"column\": \"tokens\",\n      \"properties\": {\n        \"dtype\": \"object\",\n        \"semantic_type\": \"\",\n        \"description\": \"\"\n      }\n    },\n    {\n      \"column\": \"encoded_tokens\",\n      \"properties\": {\n        \"dtype\": \"object\",\n        \"semantic_type\": \"\",\n        \"description\": \"\"\n      }\n    }\n  ]\n}"
            }
          },
          "metadata": {},
          "execution_count": 12
        }
      ],
      "source": [
        "# define a function for encoding\n",
        "def encode_tokens(tokens):\n",
        "    return [token_to_idx.get(token, token_to_idx['<UNK>']) for token in tokens]\n",
        "\n",
        "# apply the encoding function to the 'tokens' column\n",
        "df['encoded_tokens'] = df['tokens'].apply(encode_tokens)\n",
        "\n",
        "# show the first 5 rows\n",
        "df.head()"
      ]
    },
    {
      "cell_type": "code",
      "execution_count": 13,
      "id": "1485e3bd",
      "metadata": {
        "id": "1485e3bd"
      },
      "outputs": [],
      "source": [
        "# define a custom Dataset class to store the data as tensors\n",
        "class AGNewsDataset(Dataset):\n",
        "    def __init__(self, encoded_tokens_list, labels):\n",
        "        self.encoded_tokens_list = encoded_tokens_list\n",
        "        self.labels = labels\n",
        "\n",
        "    def __len__(self):\n",
        "        return len(self.encoded_tokens_list)\n",
        "\n",
        "    def __getitem__(self, idx):\n",
        "        X = self.encoded_tokens_list[idx]\n",
        "        y = self.labels[idx]\n",
        "        X = torch.tensor(X, dtype=torch.long)\n",
        "        y = torch.tensor(y, dtype=torch.long)\n",
        "        return X, y"
      ]
    },
    {
      "cell_type": "code",
      "execution_count": 14,
      "id": "74171ba1",
      "metadata": {
        "id": "74171ba1"
      },
      "outputs": [],
      "source": [
        "# create the training, test and validation dataset\n",
        "ds = AGNewsDataset(df['encoded_tokens'].values, df['label'].values)\n",
        "train_val_ds, test_ds = random_split(ds, [0.7, 0.3])\n",
        "train_ds, val_ds = random_split(train_val_ds, [0.8, 0.2])"
      ]
    },
    {
      "cell_type": "code",
      "execution_count": 15,
      "id": "63c8c379",
      "metadata": {
        "id": "63c8c379"
      },
      "outputs": [],
      "source": [
        "# define a collate function to pad the sequences in the same batch to equal length\n",
        "# in addition to the padded_X and y, also return the length of X before padding\n",
        "def collate_batch(batch):\n",
        "    batch_X, batch_y, batch_length = [], [], []\n",
        "    for (X, y) in batch:\n",
        "        batch_X.append(X)\n",
        "        batch_y.append(y)\n",
        "        batch_length.append(len(X))\n",
        "    batch_length = torch.tensor(batch_length, dtype=torch.int64)\n",
        "    batch_y = torch.tensor(batch_y, dtype=torch.int64)\n",
        "    # pad sequences to equal length\n",
        "    batch_X = pad_sequence(batch_X, batch_first = True)\n",
        "    return batch_X, batch_y, batch_length"
      ]
    },
    {
      "cell_type": "code",
      "execution_count": 16,
      "id": "49d38495",
      "metadata": {
        "id": "49d38495"
      },
      "outputs": [],
      "source": [
        "# create the training, validation, and test data loaders\n",
        "batch_size = 128 # usually set to 2 to the nth power\n",
        "train_dl = DataLoader(train_ds, batch_size = batch_size, shuffle = True, collate_fn = collate_batch)\n",
        "val_dl = DataLoader(val_ds, batch_size = batch_size, shuffle = False, collate_fn = collate_batch)\n",
        "test_dl = DataLoader(test_ds, batch_size = batch_size, shuffle = False, collate_fn = collate_batch)"
      ]
    },
    {
      "cell_type": "code",
      "execution_count": 17,
      "id": "dded6899",
      "metadata": {
        "colab": {
          "base_uri": "https://localhost:8080/"
        },
        "id": "dded6899",
        "outputId": "38dbab0a-43fd-400c-cfc6-e658ee92f67b"
      },
      "outputs": [
        {
          "output_type": "stream",
          "name": "stdout",
          "text": [
            "torch.Size([128, 324])\n",
            "torch.Size([128])\n",
            "torch.Size([128])\n"
          ]
        }
      ],
      "source": [
        "# get one batch and print its shape\n",
        "for batch in test_dl:\n",
        "    print(batch[0].shape)\n",
        "    print(batch[1].shape)\n",
        "    print(batch[2].shape)\n",
        "    break"
      ]
    },
    {
      "cell_type": "markdown",
      "id": "b1d8cfb7-7892-4e14-9332-082cca585e6b",
      "metadata": {
        "id": "b1d8cfb7-7892-4e14-9332-082cca585e6b"
      },
      "source": [
        "## Task 2. Create a CNN-based image classifier\n",
        "\n",
        "<span style=\"color:red\">**[TBC]**</span> You need to:\n",
        "- Define a custom class to specify the structure and the forward method of the network\n",
        "    - You are required to use `nn.LSTM()` layer in the network\n",
        "- Create an instance of the network and move it to the computation device"
      ]
    },
    {
      "cell_type": "code",
      "execution_count": 18,
      "id": "de394255",
      "metadata": {
        "id": "de394255"
      },
      "outputs": [],
      "source": [
        "# define a custom neural network class\n",
        "class LSTMClassifier(nn.Module):\n",
        "    def __init__(self, vocab_size, embed_size, hidden_size, num_class, num_layers, dropout):\n",
        "        super().__init__()\n",
        "\n",
        "        # Embedding layer\n",
        "        self.embedding = nn.Embedding(vocab_size, embed_size)\n",
        "\n",
        "        # Stacked LSTM layers\n",
        "        self.lstm = nn.LSTM(embed_size, hidden_size, num_layers=num_layers,\n",
        "                            batch_first=True, dropout=dropout, bidirectional=True)\n",
        "\n",
        "        # Additional Fully Connected layers\n",
        "        self.fc1 = nn.Linear(hidden_size * 2, hidden_size)  # Bidirectional LSTM outputs 2 * hidden_size\n",
        "        self.fc2 = nn.Linear(hidden_size, num_class)\n",
        "\n",
        "        # Dropout\n",
        "        self.dropout = nn.Dropout(dropout)\n",
        "\n",
        "    def forward(self, x, lengths):\n",
        "        x = self.embedding(x)  # Embedding layer\n",
        "\n",
        "        # Packing the sequences for efficient processing\n",
        "        packed_x = pack_padded_sequence(x, lengths.cpu(), batch_first=True, enforce_sorted=False)\n",
        "\n",
        "        # LSTM layers\n",
        "        out, (h, c) = self.lstm(packed_x)\n",
        "\n",
        "        # Concatenating the last hidden state from both directions (bidirectional LSTM)\n",
        "        h = torch.cat((h[-2], h[-1]), dim=1)\n",
        "\n",
        "        # Fully connected layers\n",
        "        x = self.fc1(h)\n",
        "        x = F.relu(x)  # Activation function\n",
        "        x = self.dropout(x)\n",
        "        x = self.fc2(x)  # Output layer\n",
        "\n",
        "        return x"
      ]
    },
    {
      "cell_type": "markdown",
      "source": [
        "Changes:\n",
        "\n",
        "  •\tBidirectional LSTM: Helps the model understand both past and future context.\n",
        "\n",
        "  •\tStacked LSTMs (num_layers=2): Allows deeper feature extraction.\n",
        "\n",
        "  •\tDropout (dropout=0.5): Helps prevent overfitting.\n",
        "\n",
        "  •\tExtra FC layers (fc1 → fc2): Helps in feature transformation before the final output."
      ],
      "metadata": {
        "id": "2Qxe1klcvH5_"
      },
      "id": "2Qxe1klcvH5_"
    },
    {
      "cell_type": "code",
      "execution_count": 19,
      "id": "ddc9fd9a",
      "metadata": {
        "id": "ddc9fd9a"
      },
      "outputs": [],
      "source": [
        "# create the neural network\n",
        "embed_size = 128\n",
        "hidden_size = 128\n",
        "num_layers = 2\n",
        "dropout = 0.2\n",
        "num_class = 4\n",
        "model = LSTMClassifier(vocab_size, embed_size, hidden_size, num_class,num_layers,dropout)\n",
        "model = model.to(device)"
      ]
    },
    {
      "cell_type": "markdown",
      "source": [
        "Changes:\n",
        "\n",
        "1. Embedding Size (embed_size = 128)\n",
        "\n",
        "\t  A higher embedding size allows the model to capture more semantic meaning from words.\n",
        "\n",
        "2. Hidden Size (hidden_size = 128)\n",
        "\n",
        "\t  Increasing it to 128 will help capture more sequence dependencies.\n",
        "\n",
        "3. Batch Size (batch_size = 128)\n",
        "\n",
        "\t  Reducing it to 128 ensures more stable training while avoiding memory bottlenecks.\n",
        "\n",
        "4. Dropout (dropout = 0.5)\n",
        "  \n",
        "    Helps prevent overfitting given the deeper architecture."
      ],
      "metadata": {
        "id": "dI9u5lfLvgtY"
      },
      "id": "dI9u5lfLvgtY"
    },
    {
      "cell_type": "markdown",
      "id": "fcb057a4-8a3c-4c50-802b-c1987342d458",
      "metadata": {
        "id": "fcb057a4-8a3c-4c50-802b-c1987342d458"
      },
      "source": [
        "## Task 3. Train the network\n",
        "\n",
        "<span style=\"color:red\">**[TBC]**</span> You need to:\n",
        "- Define a `train()` function\n",
        "- Specify the training hyper-parameters\n",
        "- Train the network\n",
        "- Plot the loss history of the training process"
      ]
    },
    {
      "cell_type": "code",
      "execution_count": 20,
      "id": "34be1592-be02-49b5-9417-37ad1037fe36",
      "metadata": {
        "id": "34be1592-be02-49b5-9417-37ad1037fe36"
      },
      "outputs": [],
      "source": [
        "# define the training function\n",
        "def train(\n",
        "    train_dl,\n",
        "    val_dl,\n",
        "    model,\n",
        "    loss_fn,\n",
        "    optimizer,\n",
        "    epochs,\n",
        "    early_stopping_patience,\n",
        "    lr_scheduler,\n",
        "    saved_path_prefix\n",
        "):\n",
        "    # initialization\n",
        "    min_val_loss = np.inf\n",
        "    patience_counter = 0\n",
        "    histories = {\n",
        "        'train_batch': [],\n",
        "        'train_epoch': [],\n",
        "        'val_batch': [],\n",
        "        'val_epoch': []\n",
        "    }\n",
        "    saved_path = ''\n",
        "    start_time = datetime.datetime.now()\n",
        "\n",
        "    # start training\n",
        "    for epoch in range(epochs):\n",
        "        # train set\n",
        "        train_epoch_loss = 0.0\n",
        "        model.train()\n",
        "        for X, y, lens in tqdm(train_dl, desc = f'Training batch\\t'): # tqdm progress bar\n",
        "            X, y, lens = X.to(device), y.to(device), lens.to(device)\n",
        "            logits = model(X, lens)\n",
        "            train_batch_loss = loss_fn(logits, y)\n",
        "            train_batch_loss.backward()\n",
        "            optimizer.step()\n",
        "            optimizer.zero_grad()\n",
        "            histories['train_batch'].append(train_batch_loss.item())\n",
        "            train_epoch_loss += train_batch_loss.item()\n",
        "        train_epoch_loss /= len(train_dl)\n",
        "        histories['train_epoch'].append(train_epoch_loss)\n",
        "\n",
        "        # validation set\n",
        "        val_epoch_loss = 0.0\n",
        "        model.eval()\n",
        "        with torch.no_grad():\n",
        "            for X, y, lens in tqdm(val_dl, desc = f'Validation batch'): # tqdm progress bar\n",
        "                X, y, lens = X.to(device), y.to(device), lens.to(device)\n",
        "                logits = model(X, lens)\n",
        "                val_batch_loss = loss_fn(logits, y)\n",
        "                histories['val_batch'].append(val_batch_loss.item())\n",
        "                val_epoch_loss += val_batch_loss.item()\n",
        "            val_epoch_loss /= len(val_dl)\n",
        "            histories['val_epoch'].append(val_epoch_loss)\n",
        "\n",
        "        # print log\n",
        "        end_time = datetime.datetime.now()\n",
        "        time_consumed = str(end_time - start_time).split('.')[0]\n",
        "        print(f\"Epoch {epoch + 1}: train loss = {train_epoch_loss:>5f}, val loss = {val_epoch_loss:>5f}, time consumed = {time_consumed}\")\n",
        "\n",
        "        # learning rate decay\n",
        "        current_lr = optimizer.param_groups[0]['lr']\n",
        "        lr_scheduler.step(val_epoch_loss)\n",
        "        new_lr = optimizer.param_groups[0]['lr']\n",
        "        if current_lr != new_lr:\n",
        "            print(f'Learning rate reduced after epoch {epoch+1}\\n')\n",
        "\n",
        "        # early stopping\n",
        "        if val_epoch_loss < min_val_loss:\n",
        "            min_val_loss = val_epoch_loss\n",
        "            patience_counter = 0\n",
        "            if os.path.exists(saved_path):\n",
        "                os.remove(saved_path)\n",
        "            time_str = datetime.datetime.now().strftime(\"%Y-%m-%d_%H-%M-%S\")\n",
        "            saved_path = saved_path_prefix + f'_epoch_{epoch+1}_val_loss_{val_epoch_loss:>4f}_{time_str}.pth'\n",
        "            torch.save(model.state_dict(), saved_path)\n",
        "            print(f'Model saved after epoch {epoch+1}\\n')\n",
        "        else:\n",
        "            patience_counter += 1\n",
        "        if patience_counter >= early_stopping_patience:\n",
        "            print('Early stopping!')\n",
        "            break\n",
        "    return histories, saved_path"
      ]
    },
    {
      "cell_type": "code",
      "execution_count": 21,
      "id": "2f28097b",
      "metadata": {
        "id": "2f28097b"
      },
      "outputs": [],
      "source": [
        "# define the training hyper-parameters\n",
        "loss_fn = nn.CrossEntropyLoss()\n",
        "learning_rate = 1e-3\n",
        "weight_decay = 1e-5\n",
        "optimizer = torch.optim.Adam(\n",
        "    model.parameters(),\n",
        "    lr = learning_rate,\n",
        "    weight_decay = weight_decay\n",
        ")\n",
        "epochs = 100\n",
        "early_stopping_patience = 10\n",
        "lr_scheduler = torch.optim.lr_scheduler.ReduceLROnPlateau(\n",
        "    optimizer,\n",
        "    mode = 'min',\n",
        "    factor = 0.1,\n",
        "    patience = 5\n",
        ")\n",
        "saved_path_prefix = 'ag_news_classifier'"
      ]
    },
    {
      "cell_type": "markdown",
      "source": [
        "Changes:\n",
        "\n",
        "1. Learning Rate\n",
        "\n",
        "0.1 is too high for deep LSTMs, likely leading to instability\n",
        "\n",
        "2. Optimizer\n",
        "\n",
        "Adam is better for NLp an works well with LSTMs\n",
        "\n",
        "3. Epochs\n",
        "\n",
        "100 is more practical with early stopping\n",
        "\n",
        "4. Scheduler\n",
        "\n",
        "Keeps learning rate adaptive to loss improvement\n",
        "\n"
      ],
      "metadata": {
        "id": "hK8RhiGUwJyb"
      },
      "id": "hK8RhiGUwJyb"
    },
    {
      "cell_type": "code",
      "execution_count": 22,
      "id": "9de838ee",
      "metadata": {
        "colab": {
          "base_uri": "https://localhost:8080/"
        },
        "id": "9de838ee",
        "outputId": "0bb2395a-ea52-4ec8-8920-2f4e7bde20b9"
      },
      "outputs": [
        {
          "output_type": "stream",
          "name": "stderr",
          "text": [
            "Training batch\t: 100%|██████████| 221/221 [00:18<00:00, 12.00it/s]\n",
            "Validation batch: 100%|██████████| 56/56 [00:01<00:00, 37.62it/s]\n"
          ]
        },
        {
          "output_type": "stream",
          "name": "stdout",
          "text": [
            "Epoch 1: train loss = 0.475337, val loss = 0.224989, time consumed = 0:00:19\n",
            "Model saved after epoch 1\n",
            "\n"
          ]
        },
        {
          "output_type": "stream",
          "name": "stderr",
          "text": [
            "Training batch\t: 100%|██████████| 221/221 [00:17<00:00, 12.50it/s]\n",
            "Validation batch: 100%|██████████| 56/56 [00:01<00:00, 36.41it/s]\n"
          ]
        },
        {
          "output_type": "stream",
          "name": "stdout",
          "text": [
            "Epoch 2: train loss = 0.160558, val loss = 0.167548, time consumed = 0:00:39\n",
            "Model saved after epoch 2\n",
            "\n"
          ]
        },
        {
          "output_type": "stream",
          "name": "stderr",
          "text": [
            "Training batch\t: 100%|██████████| 221/221 [00:17<00:00, 12.35it/s]\n",
            "Validation batch: 100%|██████████| 56/56 [00:01<00:00, 37.98it/s]\n"
          ]
        },
        {
          "output_type": "stream",
          "name": "stdout",
          "text": [
            "Epoch 3: train loss = 0.099154, val loss = 0.159955, time consumed = 0:00:58\n",
            "Model saved after epoch 3\n",
            "\n"
          ]
        },
        {
          "output_type": "stream",
          "name": "stderr",
          "text": [
            "Training batch\t: 100%|██████████| 221/221 [00:16<00:00, 13.77it/s]\n",
            "Validation batch: 100%|██████████| 56/56 [00:01<00:00, 34.16it/s]\n"
          ]
        },
        {
          "output_type": "stream",
          "name": "stdout",
          "text": [
            "Epoch 4: train loss = 0.066479, val loss = 0.154370, time consumed = 0:01:16\n",
            "Model saved after epoch 4\n",
            "\n"
          ]
        },
        {
          "output_type": "stream",
          "name": "stderr",
          "text": [
            "Training batch\t: 100%|██████████| 221/221 [00:16<00:00, 13.32it/s]\n",
            "Validation batch: 100%|██████████| 56/56 [00:01<00:00, 37.81it/s]\n"
          ]
        },
        {
          "output_type": "stream",
          "name": "stdout",
          "text": [
            "Epoch 5: train loss = 0.048835, val loss = 0.154432, time consumed = 0:01:34\n"
          ]
        },
        {
          "output_type": "stream",
          "name": "stderr",
          "text": [
            "Training batch\t: 100%|██████████| 221/221 [00:16<00:00, 13.60it/s]\n",
            "Validation batch: 100%|██████████| 56/56 [00:01<00:00, 38.40it/s]\n"
          ]
        },
        {
          "output_type": "stream",
          "name": "stdout",
          "text": [
            "Epoch 6: train loss = 0.032677, val loss = 0.170795, time consumed = 0:01:52\n"
          ]
        },
        {
          "output_type": "stream",
          "name": "stderr",
          "text": [
            "Training batch\t: 100%|██████████| 221/221 [00:17<00:00, 12.57it/s]\n",
            "Validation batch: 100%|██████████| 56/56 [00:01<00:00, 37.01it/s]\n"
          ]
        },
        {
          "output_type": "stream",
          "name": "stdout",
          "text": [
            "Epoch 7: train loss = 0.026248, val loss = 0.171325, time consumed = 0:02:11\n"
          ]
        },
        {
          "output_type": "stream",
          "name": "stderr",
          "text": [
            "Training batch\t: 100%|██████████| 221/221 [00:16<00:00, 13.40it/s]\n",
            "Validation batch: 100%|██████████| 56/56 [00:01<00:00, 36.13it/s]\n"
          ]
        },
        {
          "output_type": "stream",
          "name": "stdout",
          "text": [
            "Epoch 8: train loss = 0.020330, val loss = 0.192514, time consumed = 0:02:29\n"
          ]
        },
        {
          "output_type": "stream",
          "name": "stderr",
          "text": [
            "Training batch\t: 100%|██████████| 221/221 [00:17<00:00, 12.89it/s]\n",
            "Validation batch: 100%|██████████| 56/56 [00:01<00:00, 38.00it/s]\n"
          ]
        },
        {
          "output_type": "stream",
          "name": "stdout",
          "text": [
            "Epoch 9: train loss = 0.014338, val loss = 0.196483, time consumed = 0:02:47\n"
          ]
        },
        {
          "output_type": "stream",
          "name": "stderr",
          "text": [
            "Training batch\t: 100%|██████████| 221/221 [00:16<00:00, 13.45it/s]\n",
            "Validation batch: 100%|██████████| 56/56 [00:01<00:00, 38.52it/s]\n"
          ]
        },
        {
          "output_type": "stream",
          "name": "stdout",
          "text": [
            "Epoch 10: train loss = 0.017211, val loss = 0.203216, time consumed = 0:03:05\n",
            "Learning rate reduced after epoch 10\n",
            "\n"
          ]
        },
        {
          "output_type": "stream",
          "name": "stderr",
          "text": [
            "Training batch\t: 100%|██████████| 221/221 [00:17<00:00, 12.72it/s]\n",
            "Validation batch: 100%|██████████| 56/56 [00:01<00:00, 37.82it/s]\n"
          ]
        },
        {
          "output_type": "stream",
          "name": "stdout",
          "text": [
            "Epoch 11: train loss = 0.007461, val loss = 0.188457, time consumed = 0:03:24\n"
          ]
        },
        {
          "output_type": "stream",
          "name": "stderr",
          "text": [
            "Training batch\t: 100%|██████████| 221/221 [00:16<00:00, 13.28it/s]\n",
            "Validation batch: 100%|██████████| 56/56 [00:01<00:00, 37.55it/s]\n"
          ]
        },
        {
          "output_type": "stream",
          "name": "stdout",
          "text": [
            "Epoch 12: train loss = 0.003445, val loss = 0.194402, time consumed = 0:03:42\n"
          ]
        },
        {
          "output_type": "stream",
          "name": "stderr",
          "text": [
            "Training batch\t: 100%|██████████| 221/221 [00:17<00:00, 12.89it/s]\n",
            "Validation batch: 100%|██████████| 56/56 [00:01<00:00, 38.23it/s]\n"
          ]
        },
        {
          "output_type": "stream",
          "name": "stdout",
          "text": [
            "Epoch 13: train loss = 0.002601, val loss = 0.198662, time consumed = 0:04:01\n"
          ]
        },
        {
          "output_type": "stream",
          "name": "stderr",
          "text": [
            "Training batch\t: 100%|██████████| 221/221 [00:16<00:00, 13.16it/s]\n",
            "Validation batch: 100%|██████████| 56/56 [00:01<00:00, 35.75it/s]"
          ]
        },
        {
          "output_type": "stream",
          "name": "stdout",
          "text": [
            "Epoch 14: train loss = 0.002176, val loss = 0.204101, time consumed = 0:04:19\n",
            "Early stopping!\n"
          ]
        },
        {
          "output_type": "stream",
          "name": "stderr",
          "text": [
            "\n"
          ]
        }
      ],
      "source": [
        "# train the neural network\n",
        "histories, saved_path = train(\n",
        "    train_dl,\n",
        "    val_dl,\n",
        "    model,\n",
        "    loss_fn,\n",
        "    optimizer,\n",
        "    epochs,\n",
        "    early_stopping_patience,\n",
        "    lr_scheduler,\n",
        "    saved_path_prefix\n",
        ")"
      ]
    },
    {
      "cell_type": "code",
      "execution_count": 23,
      "id": "0edf97ca",
      "metadata": {
        "colab": {
          "base_uri": "https://localhost:8080/",
          "height": 472
        },
        "id": "0edf97ca",
        "outputId": "751324a7-ba3b-4950-e4c9-f7357f7c428d"
      },
      "outputs": [
        {
          "output_type": "display_data",
          "data": {
            "text/plain": [
              "<Figure size 640x480 with 1 Axes>"
            ],
            "image/png": "[encoded data removed]"
          },
          "metadata": {}
        }
      ],
      "source": [
        "# plot the train vs. val loss history\n",
        "plt.figure()\n",
        "plt.plot(np.arange(len(histories['train_epoch'])), histories['train_epoch'], '-', label = 'train loss')\n",
        "plt.plot(np.arange(len(histories['val_epoch'])), histories['val_epoch'], '-', label = 'val loss')\n",
        "plt.title('train vs. validation loss history')\n",
        "plt.xlabel('epoch')\n",
        "plt.ylabel('loss')\n",
        "plt.legend()\n",
        "plt.show()"
      ]
    },
    {
      "cell_type": "markdown",
      "id": "15fdf86d-54fa-4b1a-90b0-c78bd3c61c73",
      "metadata": {
        "id": "15fdf86d-54fa-4b1a-90b0-c78bd3c61c73"
      },
      "source": [
        "## Task 4. Reload the best model\n",
        "\n",
        "<span style=\"color:red\">**[TBC]**</span> You need to:\n",
        "- Reload the best trained model saved during the training process\n",
        "- Move the reloaded model to the computation device"
      ]
    },
    {
      "cell_type": "code",
      "execution_count": 24,
      "id": "2f688061-c2c3-4830-ad8b-096be41f1271",
      "metadata": {
        "colab": {
          "base_uri": "https://localhost:8080/"
        },
        "id": "2f688061-c2c3-4830-ad8b-096be41f1271",
        "outputId": "b5486f62-6e07-437a-fac9-cca6224ecb48"
      },
      "outputs": [
        {
          "output_type": "stream",
          "name": "stderr",
          "text": [
            "<ipython-input-24-70a5ae9610de>:2: FutureWarning: You are using `torch.load` with `weights_only=False` (the current default value), which uses the default pickle module implicitly. It is possible to construct malicious pickle data which will execute arbitrary code during unpickling (See https://github.com/pytorch/pytorch/blob/main/SECURITY.md#untrusted-models for more details). In a future release, the default value for `weights_only` will be flipped to `True`. This limits the functions that could be executed during unpickling. Arbitrary objects will no longer be allowed to be loaded via this mode unless they are explicitly allowlisted by the user via `torch.serialization.add_safe_globals`. We recommend you start setting `weights_only=True` for any use case where you don't have full control of the loaded file. Please open an issue on GitHub for any issues related to this experimental feature.\n",
            "  model.load_state_dict(torch.load(saved_path))\n"
          ]
        },
        {
          "output_type": "execute_result",
          "data": {
            "text/plain": [
              "LSTMClassifier(\n",
              "  (embedding): Embedding(20000, 128)\n",
              "  (lstm): LSTM(128, 128, num_layers=2, batch_first=True, dropout=0.2, bidirectional=True)\n",
              "  (fc1): Linear(in_features=256, out_features=128, bias=True)\n",
              "  (fc2): Linear(in_features=128, out_features=4, bias=True)\n",
              "  (dropout): Dropout(p=0.2, inplace=False)\n",
              ")"
            ]
          },
          "metadata": {},
          "execution_count": 24
        }
      ],
      "source": [
        "# reload the best model\n",
        "model.load_state_dict(torch.load(saved_path))\n",
        "model.to(device)"
      ]
    },
    {
      "cell_type": "markdown",
      "id": "4d6cba60-fdb2-4439-bcda-cb4d4fd76c39",
      "metadata": {
        "id": "4d6cba60-fdb2-4439-bcda-cb4d4fd76c39"
      },
      "source": [
        "## Task 5. Test and evaluation\n",
        "\n",
        "<span style=\"color:red\">**[TBC]**</span> You need to:\n",
        "- Define the `test()` function\n",
        "    - Output logits, probabilities and predictions\n",
        "    - Output the loss value on the test set\n",
        "- Make predictions on the test dataset\n",
        "- Evaluate the performance\n",
        "    - Use `sklearn.metrics.classification_report()`"
      ]
    },
    {
      "cell_type": "code",
      "execution_count": 25,
      "id": "50b7366a-1fa4-4367-ac20-7cc8844e33f9",
      "metadata": {
        "id": "50b7366a-1fa4-4367-ac20-7cc8844e33f9"
      },
      "outputs": [],
      "source": [
        "# define a function to make predictions on test dataset and evaluate the performance\n",
        "def test(dataloader, model, loss_fn):\n",
        "    logits, probs, preds = [], [], []\n",
        "    with torch.no_grad():\n",
        "        loss = 0.0\n",
        "        for (X, y, lens) in dataloader:\n",
        "            X, y, lens = X.to(device), y.to(device), lens.to(device)\n",
        "            batch_logits = model(X, lens)\n",
        "            batch_loss = loss_fn(batch_logits, y)\n",
        "            loss += batch_loss.item()\n",
        "\n",
        "            batch_probs = torch.softmax(batch_logits, dim = -1)\n",
        "            _, batch_preds = torch.max(batch_logits, 1)\n",
        "\n",
        "            logits.append(batch_logits.cpu().numpy())\n",
        "            probs.append(batch_probs.cpu().numpy())\n",
        "            preds.append(batch_preds.cpu().numpy())\n",
        "        loss /= len(dataloader)\n",
        "        print(f\"test loss = {loss}\")\n",
        "    return np.concatenate(logits), np.concatenate(probs), np.concatenate(preds), loss"
      ]
    },
    {
      "cell_type": "code",
      "execution_count": 26,
      "id": "1cb693ed",
      "metadata": {
        "colab": {
          "base_uri": "https://localhost:8080/"
        },
        "id": "1cb693ed",
        "outputId": "61b92372-e904-44c7-dde9-213bc06167f5"
      },
      "outputs": [
        {
          "output_type": "stream",
          "name": "stdout",
          "text": [
            "test loss = 0.14906704203546547\n",
            "                        precision    recall  f1-score   support\n",
            "\n",
            "                 Books       0.97      0.95      0.96      3534\n",
            "Clothing & Accessories       0.98      0.97      0.97      2572\n",
            "           Electronics       0.94      0.95      0.95      3214\n",
            "            Households       0.95      0.97      0.96      5806\n",
            "\n",
            "              accuracy                           0.96     15126\n",
            "             macro avg       0.96      0.96      0.96     15126\n",
            "          weighted avg       0.96      0.96      0.96     15126\n",
            "\n"
          ]
        }
      ],
      "source": [
        "# make prediction on test set and evaluate the performance\n",
        "test_logits, test_prob, test_pred, test_loss = test(test_dl, model, loss_fn)\n",
        "\n",
        "# obtain test labels\n",
        "test_label = []\n",
        "for (_, y, _) in test_dl:\n",
        "    test_label.extend(y.cpu().numpy())\n",
        "\n",
        "print(classification_report(test_label, test_pred, target_names = classes))"
      ]
    },
    {
      "cell_type": "markdown",
      "id": "6055ec40-ed58-4f63-85b5-e2e86592fdc3",
      "metadata": {
        "id": "6055ec40-ed58-4f63-85b5-e2e86592fdc3"
      },
      "source": [
        "## Task 6. Make predictions on unseen text\n",
        "\n",
        "<span style=\"color:red\">**[TBC]**</span> You need to:\n",
        "- Define a `predict_text()` function\n",
        "- Specify an unseen product page by yourself\n",
        "    - Use a real product page on the ecommerce platform as Amazon\n",
        "    - Or make up a fake one yourself\n",
        "- Make predictions and display the results"
      ]
    },
    {
      "cell_type": "code",
      "execution_count": 27,
      "id": "58103abc-e49e-4721-9118-940fbfe37155",
      "metadata": {
        "id": "58103abc-e49e-4721-9118-940fbfe37155"
      },
      "outputs": [],
      "source": [
        "# define a function to predict the classes of a list of text\n",
        "def predict_text(model, text_list):\n",
        "    X, lens = [], []\n",
        "    for text in text_list:\n",
        "        tokens = preprocess_text(text)\n",
        "        encoded_tokens = encode_tokens(tokens)\n",
        "        X.append(torch.tensor(encoded_tokens, dtype=torch.int64))\n",
        "        lens.append(len(encoded_tokens))\n",
        "    X = pad_sequence(X, batch_first=True)\n",
        "    lens = torch.tensor(lens, dtype=torch.int64)\n",
        "    with torch.no_grad():\n",
        "        logits = model(X.to(device), lens.to(device))\n",
        "        _, preds = torch.max(logits, 1)\n",
        "    return preds.cpu().numpy()"
      ]
    },
    {
      "cell_type": "code",
      "execution_count": 28,
      "id": "bfcc5958",
      "metadata": {
        "colab": {
          "base_uri": "https://localhost:8080/"
        },
        "id": "bfcc5958",
        "outputId": "093ed678-9199-45fd-b44b-d5f222e86e27"
      },
      "outputs": [
        {
          "output_type": "stream",
          "name": "stdout",
          "text": [
            "Text: The Subtle Art of Not Giving a Fck: A Counterintuitive Approach to Living a Good Life. Mark Manson provides a refreshing take on personal development, arguing that embracing life’s struggles is more valuable than trying to be constantly positive. With humor and raw honesty, this book teaches readers how to focus on what truly matters in life.\n",
            "Predicted category: Books\n",
            "\n",
            "Text: Designed for both casual and professional runners, these Nike Air Zoom shoes provide superior comfort, lightweight cushioning, and breathability. Made with high-quality synthetic material, they offer excellent grip and stability for long-distance running.\n",
            "Predicted category: Households\n",
            "\n",
            "Text: Experience industry-leading noise cancellation with Sony’s WH-1000XM4 headphones. Featuring dual noise sensor technology, touch controls, and up to 30 hours of battery life, these headphones provide an immersive sound experience with deep bass and crystal-clear highs\n",
            "Predicted category: Electronics\n",
            "\n",
            "Text: Made from 100% premium Egyptian cotton, this ultra-soft towel set includes two bath towels, two hand towels, and two face towels. Designed for luxury and durability, these towels offer maximum absorbency while maintaining a plush feel after every wash\n",
            "Predicted category: Households\n",
            "\n"
          ]
        }
      ],
      "source": [
        "# example texts\n",
        "text_list = [\n",
        "    \"The Subtle Art of Not Giving a Fck: A Counterintuitive Approach to Living a Good Life. Mark Manson provides a refreshing take on personal development, arguing that embracing life’s struggles is more valuable than trying to be constantly positive. With humor and raw honesty, this book teaches readers how to focus on what truly matters in life.\",\n",
        "    \"Designed for both casual and professional runners, these Nike Air Zoom shoes provide superior comfort, lightweight cushioning, and breathability. Made with high-quality synthetic material, they offer excellent grip and stability for long-distance running.\",\n",
        "    \"Experience industry-leading noise cancellation with Sony’s WH-1000XM4 headphones. Featuring dual noise sensor technology, touch controls, and up to 30 hours of battery life, these headphones provide an immersive sound experience with deep bass and crystal-clear highs\",\n",
        "    \"Made from 100% premium Egyptian cotton, this ultra-soft towel set includes two bath towels, two hand towels, and two face towels. Designed for luxury and durability, these towels offer maximum absorbency while maintaining a plush feel after every wash\"\n",
        "]\n",
        "# make prediction\n",
        "preds = predict_text(model, text_list)\n",
        "# print results\n",
        "for idx in range(len(text_list)):\n",
        "    text = text_list[idx]\n",
        "    pred = preds[idx]\n",
        "    print(f'Text: {text}\\nPredicted category: {classes[pred]}\\n')"
      ]
    },
    {
      "cell_type": "code",
      "source": [],
      "metadata": {
        "id": "XPL7C607rD8y"
      },
      "id": "XPL7C607rD8y",
      "execution_count": null,
      "outputs": []
    }
  ],
  "metadata": {
    "kernelspec": {
      "display_name": "Python 3",
      "name": "python3"
    },
    "language_info": {
      "codemirror_mode": {
        "name": "ipython",
        "version": 3
      },
      "file_extension": ".py",
      "mimetype": "text/x-python",
      "name": "python",
      "nbconvert_exporter": "python",
      "pygments_lexer": "ipython3",
      "version": "3.12.7"
    },
    "colab": {
      "provenance": [],
      "gpuType": "T4"
    },
    "accelerator": "GPU"
  },
  "nbformat": 4,
  "nbformat_minor": 5
}